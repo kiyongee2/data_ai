{
 "cells": [
  {
   "cell_type": "code",
   "execution_count": 3,
   "metadata": {
    "colab": {
     "base_uri": "https://localhost:8080/"
    },
    "executionInfo": {
     "elapsed": 8337,
     "status": "ok",
     "timestamp": 1689732336187,
     "user": {
      "displayName": "spreatics jcastle",
      "userId": "01723480649760149037"
     },
     "user_tz": -540
    },
    "id": "DnjcHg0Z5OTk",
    "outputId": "171583a1-1d0b-410b-aa4a-0a2f138dbcb7"
   },
   "outputs": [
    {
     "name": "stdout",
     "output_type": "stream",
     "text": [
      "Collecting folium\n",
      "  Downloading folium-0.18.0-py2.py3-none-any.whl.metadata (3.8 kB)\n",
      "Collecting branca>=0.6.0 (from folium)\n",
      "  Downloading branca-0.8.0-py3-none-any.whl.metadata (1.5 kB)\n",
      "Requirement already satisfied: jinja2>=2.9 in c:\\users\\lg\\anaconda3\\lib\\site-packages (from folium) (3.1.4)\n",
      "Requirement already satisfied: numpy in c:\\users\\lg\\anaconda3\\lib\\site-packages (from folium) (1.26.4)\n",
      "Requirement already satisfied: requests in c:\\users\\lg\\anaconda3\\lib\\site-packages (from folium) (2.32.2)\n",
      "Requirement already satisfied: xyzservices in c:\\users\\lg\\anaconda3\\lib\\site-packages (from folium) (2022.9.0)\n",
      "Requirement already satisfied: MarkupSafe>=2.0 in c:\\users\\lg\\anaconda3\\lib\\site-packages (from jinja2>=2.9->folium) (2.1.3)\n",
      "Requirement already satisfied: charset-normalizer<4,>=2 in c:\\users\\lg\\anaconda3\\lib\\site-packages (from requests->folium) (2.0.4)\n",
      "Requirement already satisfied: idna<4,>=2.5 in c:\\users\\lg\\anaconda3\\lib\\site-packages (from requests->folium) (3.7)\n",
      "Requirement already satisfied: urllib3<3,>=1.21.1 in c:\\users\\lg\\anaconda3\\lib\\site-packages (from requests->folium) (2.2.2)\n",
      "Requirement already satisfied: certifi>=2017.4.17 in c:\\users\\lg\\anaconda3\\lib\\site-packages (from requests->folium) (2024.7.4)\n",
      "Downloading folium-0.18.0-py2.py3-none-any.whl (108 kB)\n",
      "   ---------------------------------------- 0.0/108.9 kB ? eta -:--:--\n",
      "   ----------- ---------------------------- 30.7/108.9 kB 1.3 MB/s eta 0:00:01\n",
      "   ---------------------------------------- 108.9/108.9 kB 1.6 MB/s eta 0:00:00\n",
      "Downloading branca-0.8.0-py3-none-any.whl (25 kB)\n",
      "Installing collected packages: branca, folium\n",
      "Successfully installed branca-0.8.0 folium-0.18.0\n"
     ]
    }
   ],
   "source": [
    "!pip install folium"
   ]
  },
  {
   "cell_type": "code",
   "execution_count": 5,
   "metadata": {
    "executionInfo": {
     "elapsed": 1852,
     "status": "ok",
     "timestamp": 1689732366081,
     "user": {
      "displayName": "spreatics jcastle",
      "userId": "01723480649760149037"
     },
     "user_tz": -540
    },
    "id": "GfroJdDY5afa"
   },
   "outputs": [],
   "source": [
    "import folium"
   ]
  },
  {
   "cell_type": "code",
   "execution_count": 7,
   "metadata": {
    "executionInfo": {
     "elapsed": 257,
     "status": "ok",
     "timestamp": 1689732367765,
     "user": {
      "displayName": "spreatics jcastle",
      "userId": "01723480649760149037"
     },
     "user_tz": -540
    },
    "id": "WpaR6nIc5RCI"
   },
   "outputs": [],
   "source": [
    "m = folium.Map(location=[37.547631, 126.942463], zoom_start=15)"
   ]
  },
  {
   "cell_type": "code",
   "execution_count": 13,
   "metadata": {
    "colab": {
     "base_uri": "https://localhost:8080/"
    },
    "executionInfo": {
     "elapsed": 254,
     "status": "ok",
     "timestamp": 1689732447948,
     "user": {
      "displayName": "spreatics jcastle",
      "userId": "01723480649760149037"
     },
     "user_tz": -540
    },
    "id": "pexSw7s75YfS",
    "outputId": "d485958d-770c-4398-e40e-d3bcf0f08022"
   },
   "outputs": [
    {
     "data": {
      "text/html": [
       "<div style=\"width:100%;\"><div style=\"position:relative;width:100%;height:0;padding-bottom:60%;\"><span style=\"color:#565656\">Make this Notebook Trusted to load map: File -> Trust Notebook</span><iframe srcdoc=\"&lt;!DOCTYPE html&gt;\n",
       "&lt;html&gt;\n",
       "&lt;head&gt;\n",
       "    \n",
       "    &lt;meta http-equiv=&quot;content-type&quot; content=&quot;text/html; charset=UTF-8&quot; /&gt;\n",
       "    \n",
       "        &lt;script&gt;\n",
       "            L_NO_TOUCH = false;\n",
       "            L_DISABLE_3D = false;\n",
       "        &lt;/script&gt;\n",
       "    \n",
       "    &lt;style&gt;html, body {width: 100%;height: 100%;margin: 0;padding: 0;}&lt;/style&gt;\n",
       "    &lt;style&gt;#map {position:absolute;top:0;bottom:0;right:0;left:0;}&lt;/style&gt;\n",
       "    &lt;script src=&quot;https://cdn.jsdelivr.net/npm/leaflet@1.9.3/dist/leaflet.js&quot;&gt;&lt;/script&gt;\n",
       "    &lt;script src=&quot;https://code.jquery.com/jquery-3.7.1.min.js&quot;&gt;&lt;/script&gt;\n",
       "    &lt;script src=&quot;https://cdn.jsdelivr.net/npm/bootstrap@5.2.2/dist/js/bootstrap.bundle.min.js&quot;&gt;&lt;/script&gt;\n",
       "    &lt;script src=&quot;https://cdnjs.cloudflare.com/ajax/libs/Leaflet.awesome-markers/2.0.2/leaflet.awesome-markers.js&quot;&gt;&lt;/script&gt;\n",
       "    &lt;link rel=&quot;stylesheet&quot; href=&quot;https://cdn.jsdelivr.net/npm/leaflet@1.9.3/dist/leaflet.css&quot;/&gt;\n",
       "    &lt;link rel=&quot;stylesheet&quot; href=&quot;https://cdn.jsdelivr.net/npm/bootstrap@5.2.2/dist/css/bootstrap.min.css&quot;/&gt;\n",
       "    &lt;link rel=&quot;stylesheet&quot; href=&quot;https://netdna.bootstrapcdn.com/bootstrap/3.0.0/css/bootstrap-glyphicons.css&quot;/&gt;\n",
       "    &lt;link rel=&quot;stylesheet&quot; href=&quot;https://cdn.jsdelivr.net/npm/@fortawesome/fontawesome-free@6.2.0/css/all.min.css&quot;/&gt;\n",
       "    &lt;link rel=&quot;stylesheet&quot; href=&quot;https://cdnjs.cloudflare.com/ajax/libs/Leaflet.awesome-markers/2.0.2/leaflet.awesome-markers.css&quot;/&gt;\n",
       "    &lt;link rel=&quot;stylesheet&quot; href=&quot;https://cdn.jsdelivr.net/gh/python-visualization/folium/folium/templates/leaflet.awesome.rotate.min.css&quot;/&gt;\n",
       "    \n",
       "            &lt;meta name=&quot;viewport&quot; content=&quot;width=device-width,\n",
       "                initial-scale=1.0, maximum-scale=1.0, user-scalable=no&quot; /&gt;\n",
       "            &lt;style&gt;\n",
       "                #map_ff073f4853cf3d47f0720f69a856db39 {\n",
       "                    position: relative;\n",
       "                    width: 100.0%;\n",
       "                    height: 100.0%;\n",
       "                    left: 0.0%;\n",
       "                    top: 0.0%;\n",
       "                }\n",
       "                .leaflet-container { font-size: 1rem; }\n",
       "            &lt;/style&gt;\n",
       "        \n",
       "&lt;/head&gt;\n",
       "&lt;body&gt;\n",
       "    \n",
       "    \n",
       "            &lt;div class=&quot;folium-map&quot; id=&quot;map_ff073f4853cf3d47f0720f69a856db39&quot; &gt;&lt;/div&gt;\n",
       "        \n",
       "&lt;/body&gt;\n",
       "&lt;script&gt;\n",
       "    \n",
       "    \n",
       "            var map_ff073f4853cf3d47f0720f69a856db39 = L.map(\n",
       "                &quot;map_ff073f4853cf3d47f0720f69a856db39&quot;,\n",
       "                {\n",
       "                    center: [37.547631, 126.942463],\n",
       "                    crs: L.CRS.EPSG3857,\n",
       "                    zoom: 15,\n",
       "                    zoomControl: true,\n",
       "                    preferCanvas: false,\n",
       "                }\n",
       "            );\n",
       "\n",
       "            \n",
       "\n",
       "        \n",
       "    \n",
       "            var tile_layer_2de118264452e5661d3f9c591009ce22 = L.tileLayer(\n",
       "                &quot;https://tile.openstreetmap.org/{z}/{x}/{y}.png&quot;,\n",
       "                {&quot;attribution&quot;: &quot;\\u0026copy; \\u003ca href=\\&quot;https://www.openstreetmap.org/copyright\\&quot;\\u003eOpenStreetMap\\u003c/a\\u003e contributors&quot;, &quot;detectRetina&quot;: false, &quot;maxNativeZoom&quot;: 19, &quot;maxZoom&quot;: 19, &quot;minZoom&quot;: 0, &quot;noWrap&quot;: false, &quot;opacity&quot;: 1, &quot;subdomains&quot;: &quot;abc&quot;, &quot;tms&quot;: false}\n",
       "            );\n",
       "        \n",
       "    \n",
       "            tile_layer_2de118264452e5661d3f9c591009ce22.addTo(map_ff073f4853cf3d47f0720f69a856db39);\n",
       "        \n",
       "    \n",
       "            var marker_9ff5fdf65a6c224367f2c59215cb94e7 = L.marker(\n",
       "                [37.547631, 126.942463],\n",
       "                {}\n",
       "            ).addTo(map_ff073f4853cf3d47f0720f69a856db39);\n",
       "        \n",
       "    \n",
       "            var marker_936fcadede470a9c206494594052452c = L.marker(\n",
       "                [37.547631, 126.942463],\n",
       "                {}\n",
       "            ).addTo(map_ff073f4853cf3d47f0720f69a856db39);\n",
       "        \n",
       "    \n",
       "            tile_layer_2de118264452e5661d3f9c591009ce22.addTo(map_ff073f4853cf3d47f0720f69a856db39);\n",
       "        \n",
       "    \n",
       "            var marker_83beac69f7eed31471f5cb5646bb60ee = L.marker(\n",
       "                [37.547631, 126.942463],\n",
       "                {}\n",
       "            ).addTo(map_ff073f4853cf3d47f0720f69a856db39);\n",
       "        \n",
       "&lt;/script&gt;\n",
       "&lt;/html&gt;\" style=\"position:absolute;width:100%;height:100%;left:0;top:0;border:none !important;\" allowfullscreen webkitallowfullscreen mozallowfullscreen></iframe></div></div>"
      ],
      "text/plain": [
       "<folium.folium.Map at 0x2504cd252e0>"
      ]
     },
     "execution_count": 13,
     "metadata": {},
     "output_type": "execute_result"
    }
   ],
   "source": [
    "folium.Marker([37.547631, 126.942463]).add_to(m)\n",
    "m"
   ]
  },
  {
   "cell_type": "code",
   "execution_count": 8,
   "metadata": {
    "colab": {
     "base_uri": "https://localhost:8080/"
    },
    "executionInfo": {
     "elapsed": 291,
     "status": "ok",
     "timestamp": 1689732599575,
     "user": {
      "displayName": "spreatics jcastle",
      "userId": "01723480649760149037"
     },
     "user_tz": -540
    },
    "id": "YguNb5a953uk",
    "outputId": "1f656c9a-2270-4c02-c5fe-acc9579abcb9"
   },
   "outputs": [
    {
     "data": {
      "text/plain": [
       "<folium.map.Marker at 0x7b943bd16560>"
      ]
     },
     "execution_count": 8,
     "metadata": {},
     "output_type": "execute_result"
    }
   ],
   "source": [
    "folium.Marker([37.54392611998678, 126.95105440539045], popup='subway').add_to(m)"
   ]
  },
  {
   "cell_type": "code",
   "execution_count": 12,
   "metadata": {
    "colab": {
     "base_uri": "https://localhost:8080/"
    },
    "executionInfo": {
     "elapsed": 256,
     "status": "ok",
     "timestamp": 1689732677944,
     "user": {
      "displayName": "spreatics jcastle",
      "userId": "01723480649760149037"
     },
     "user_tz": -540
    },
    "id": "YPlICi9d6Utj",
    "outputId": "5cbfaaab-fb57-400b-9a39-7f03d45e80b8"
   },
   "outputs": [
    {
     "data": {
      "text/plain": [
       "<folium.map.Marker at 0x7b943bd17c10>"
      ]
     },
     "execution_count": 12,
     "metadata": {},
     "output_type": "execute_result"
    }
   ],
   "source": [
    "folium.Marker([37.53959008903884, 126.94590610865076], popup='subway', tooltip='마포역').add_to(m)"
   ]
  },
  {
   "cell_type": "code",
   "execution_count": 17,
   "metadata": {
    "colab": {
     "base_uri": "https://localhost:8080/"
    },
    "executionInfo": {
     "elapsed": 274,
     "status": "ok",
     "timestamp": 1689732810155,
     "user": {
      "displayName": "spreatics jcastle",
      "userId": "01723480649760149037"
     },
     "user_tz": -540
    },
    "id": "AuPgQx-k6byw",
    "outputId": "a8500ab2-076c-47dd-f3fc-5359850f1944"
   },
   "outputs": [
    {
     "data": {
      "text/plain": [
       "<folium.map.Marker at 0x2504d6eeb10>"
      ]
     },
     "execution_count": 17,
     "metadata": {},
     "output_type": "execute_result"
    }
   ],
   "source": [
    "#공덕역\n",
    "folium.Marker([37.54392611998678, 126.95105440539045], popup='subway', icon=folium.Icon(color='black', icon='info-sign')).add_to(m)\n",
    "#마포역\n",
    "folium.Marker([37.53959008903884, 126.94590610865076], popup='subway', tooltip='마포역', icon=folium.Icon(color='lightblue', icon='fa-solid fa-train-subway', prefix='fa-solid')).add_to(m)"
   ]
  },
  {
   "cell_type": "code",
   "execution_count": 19,
   "metadata": {
    "colab": {
     "base_uri": "https://localhost:8080/"
    },
    "executionInfo": {
     "elapsed": 270,
     "status": "ok",
     "timestamp": 1689733161844,
     "user": {
      "displayName": "spreatics jcastle",
      "userId": "01723480649760149037"
     },
     "user_tz": -540
    },
    "id": "doW2U1yO71O-",
    "outputId": "665b48aa-9050-41f5-caf2-246a26dc0dfb"
   },
   "outputs": [
    {
     "data": {
      "text/html": [
       "<div style=\"width:100%;\"><div style=\"position:relative;width:100%;height:0;padding-bottom:60%;\"><span style=\"color:#565656\">Make this Notebook Trusted to load map: File -> Trust Notebook</span><iframe srcdoc=\"&lt;!DOCTYPE html&gt;\n",
       "&lt;html&gt;\n",
       "&lt;head&gt;\n",
       "    \n",
       "    &lt;meta http-equiv=&quot;content-type&quot; content=&quot;text/html; charset=UTF-8&quot; /&gt;\n",
       "    \n",
       "        &lt;script&gt;\n",
       "            L_NO_TOUCH = false;\n",
       "            L_DISABLE_3D = false;\n",
       "        &lt;/script&gt;\n",
       "    \n",
       "    &lt;style&gt;html, body {width: 100%;height: 100%;margin: 0;padding: 0;}&lt;/style&gt;\n",
       "    &lt;style&gt;#map {position:absolute;top:0;bottom:0;right:0;left:0;}&lt;/style&gt;\n",
       "    &lt;script src=&quot;https://cdn.jsdelivr.net/npm/leaflet@1.9.3/dist/leaflet.js&quot;&gt;&lt;/script&gt;\n",
       "    &lt;script src=&quot;https://code.jquery.com/jquery-3.7.1.min.js&quot;&gt;&lt;/script&gt;\n",
       "    &lt;script src=&quot;https://cdn.jsdelivr.net/npm/bootstrap@5.2.2/dist/js/bootstrap.bundle.min.js&quot;&gt;&lt;/script&gt;\n",
       "    &lt;script src=&quot;https://cdnjs.cloudflare.com/ajax/libs/Leaflet.awesome-markers/2.0.2/leaflet.awesome-markers.js&quot;&gt;&lt;/script&gt;\n",
       "    &lt;link rel=&quot;stylesheet&quot; href=&quot;https://cdn.jsdelivr.net/npm/leaflet@1.9.3/dist/leaflet.css&quot;/&gt;\n",
       "    &lt;link rel=&quot;stylesheet&quot; href=&quot;https://cdn.jsdelivr.net/npm/bootstrap@5.2.2/dist/css/bootstrap.min.css&quot;/&gt;\n",
       "    &lt;link rel=&quot;stylesheet&quot; href=&quot;https://netdna.bootstrapcdn.com/bootstrap/3.0.0/css/bootstrap-glyphicons.css&quot;/&gt;\n",
       "    &lt;link rel=&quot;stylesheet&quot; href=&quot;https://cdn.jsdelivr.net/npm/@fortawesome/fontawesome-free@6.2.0/css/all.min.css&quot;/&gt;\n",
       "    &lt;link rel=&quot;stylesheet&quot; href=&quot;https://cdnjs.cloudflare.com/ajax/libs/Leaflet.awesome-markers/2.0.2/leaflet.awesome-markers.css&quot;/&gt;\n",
       "    &lt;link rel=&quot;stylesheet&quot; href=&quot;https://cdn.jsdelivr.net/gh/python-visualization/folium/folium/templates/leaflet.awesome.rotate.min.css&quot;/&gt;\n",
       "    \n",
       "            &lt;meta name=&quot;viewport&quot; content=&quot;width=device-width,\n",
       "                initial-scale=1.0, maximum-scale=1.0, user-scalable=no&quot; /&gt;\n",
       "            &lt;style&gt;\n",
       "                #map_ff073f4853cf3d47f0720f69a856db39 {\n",
       "                    position: relative;\n",
       "                    width: 100.0%;\n",
       "                    height: 100.0%;\n",
       "                    left: 0.0%;\n",
       "                    top: 0.0%;\n",
       "                }\n",
       "                .leaflet-container { font-size: 1rem; }\n",
       "            &lt;/style&gt;\n",
       "        \n",
       "&lt;/head&gt;\n",
       "&lt;body&gt;\n",
       "    \n",
       "    \n",
       "            &lt;div class=&quot;folium-map&quot; id=&quot;map_ff073f4853cf3d47f0720f69a856db39&quot; &gt;&lt;/div&gt;\n",
       "        \n",
       "&lt;/body&gt;\n",
       "&lt;script&gt;\n",
       "    \n",
       "    \n",
       "            var map_ff073f4853cf3d47f0720f69a856db39 = L.map(\n",
       "                &quot;map_ff073f4853cf3d47f0720f69a856db39&quot;,\n",
       "                {\n",
       "                    center: [37.547631, 126.942463],\n",
       "                    crs: L.CRS.EPSG3857,\n",
       "                    zoom: 15,\n",
       "                    zoomControl: true,\n",
       "                    preferCanvas: false,\n",
       "                }\n",
       "            );\n",
       "\n",
       "            \n",
       "\n",
       "        \n",
       "    \n",
       "            var tile_layer_2de118264452e5661d3f9c591009ce22 = L.tileLayer(\n",
       "                &quot;https://tile.openstreetmap.org/{z}/{x}/{y}.png&quot;,\n",
       "                {&quot;attribution&quot;: &quot;\\u0026copy; \\u003ca href=\\&quot;https://www.openstreetmap.org/copyright\\&quot;\\u003eOpenStreetMap\\u003c/a\\u003e contributors&quot;, &quot;detectRetina&quot;: false, &quot;maxNativeZoom&quot;: 19, &quot;maxZoom&quot;: 19, &quot;minZoom&quot;: 0, &quot;noWrap&quot;: false, &quot;opacity&quot;: 1, &quot;subdomains&quot;: &quot;abc&quot;, &quot;tms&quot;: false}\n",
       "            );\n",
       "        \n",
       "    \n",
       "            tile_layer_2de118264452e5661d3f9c591009ce22.addTo(map_ff073f4853cf3d47f0720f69a856db39);\n",
       "        \n",
       "    \n",
       "            var marker_9ff5fdf65a6c224367f2c59215cb94e7 = L.marker(\n",
       "                [37.547631, 126.942463],\n",
       "                {}\n",
       "            ).addTo(map_ff073f4853cf3d47f0720f69a856db39);\n",
       "        \n",
       "    \n",
       "            var marker_936fcadede470a9c206494594052452c = L.marker(\n",
       "                [37.547631, 126.942463],\n",
       "                {}\n",
       "            ).addTo(map_ff073f4853cf3d47f0720f69a856db39);\n",
       "        \n",
       "    \n",
       "            tile_layer_2de118264452e5661d3f9c591009ce22.addTo(map_ff073f4853cf3d47f0720f69a856db39);\n",
       "        \n",
       "    \n",
       "            var marker_83beac69f7eed31471f5cb5646bb60ee = L.marker(\n",
       "                [37.547631, 126.942463],\n",
       "                {}\n",
       "            ).addTo(map_ff073f4853cf3d47f0720f69a856db39);\n",
       "        \n",
       "    \n",
       "            tile_layer_2de118264452e5661d3f9c591009ce22.addTo(map_ff073f4853cf3d47f0720f69a856db39);\n",
       "        \n",
       "    \n",
       "                function newMarker(e){\n",
       "                    var new_mark = L.marker().setLatLng(e.latlng).addTo(map_ff073f4853cf3d47f0720f69a856db39);\n",
       "                    new_mark.dragging.enable();\n",
       "                    new_mark.on(&#x27;dblclick&#x27;, function(e){ map_ff073f4853cf3d47f0720f69a856db39.removeLayer(e.target)})\n",
       "                    var lat = e.latlng.lat.toFixed(4),\n",
       "                       lng = e.latlng.lng.toFixed(4);\n",
       "                    new_mark.bindPopup(`내가 클릭한 곳`);\n",
       "                    };\n",
       "                map_ff073f4853cf3d47f0720f69a856db39.on(&#x27;click&#x27;, newMarker);\n",
       "            \n",
       "    \n",
       "            tile_layer_2de118264452e5661d3f9c591009ce22.addTo(map_ff073f4853cf3d47f0720f69a856db39);\n",
       "        \n",
       "    \n",
       "            var marker_b58e9891623a46f08ffc47de14484362 = L.marker(\n",
       "                [37.54392611998678, 126.95105440539045],\n",
       "                {}\n",
       "            ).addTo(map_ff073f4853cf3d47f0720f69a856db39);\n",
       "        \n",
       "    \n",
       "            var icon_a453193e42e2d309171dbd5841c71077 = L.AwesomeMarkers.icon(\n",
       "                {&quot;extraClasses&quot;: &quot;fa-rotate-0&quot;, &quot;icon&quot;: &quot;info-sign&quot;, &quot;iconColor&quot;: &quot;white&quot;, &quot;markerColor&quot;: &quot;black&quot;, &quot;prefix&quot;: &quot;glyphicon&quot;}\n",
       "            );\n",
       "            marker_b58e9891623a46f08ffc47de14484362.setIcon(icon_a453193e42e2d309171dbd5841c71077);\n",
       "        \n",
       "    \n",
       "        var popup_ba8258cc6541af62759c0c0f9bb60740 = L.popup({&quot;maxWidth&quot;: &quot;100%&quot;});\n",
       "\n",
       "        \n",
       "            \n",
       "                var html_734ed5d8154824c962ffa9045eff2aa7 = $(`&lt;div id=&quot;html_734ed5d8154824c962ffa9045eff2aa7&quot; style=&quot;width: 100.0%; height: 100.0%;&quot;&gt;subway&lt;/div&gt;`)[0];\n",
       "                popup_ba8258cc6541af62759c0c0f9bb60740.setContent(html_734ed5d8154824c962ffa9045eff2aa7);\n",
       "            \n",
       "        \n",
       "\n",
       "        marker_b58e9891623a46f08ffc47de14484362.bindPopup(popup_ba8258cc6541af62759c0c0f9bb60740)\n",
       "        ;\n",
       "\n",
       "        \n",
       "    \n",
       "    \n",
       "            var marker_9f929a5d55a0a1aa442881ae87a438f1 = L.marker(\n",
       "                [37.53959008903884, 126.94590610865076],\n",
       "                {}\n",
       "            ).addTo(map_ff073f4853cf3d47f0720f69a856db39);\n",
       "        \n",
       "    \n",
       "            var icon_21fde5c10172644b4cb9fb9b4022b367 = L.AwesomeMarkers.icon(\n",
       "                {&quot;extraClasses&quot;: &quot;fa-rotate-0&quot;, &quot;icon&quot;: &quot;fa-solid fa-train-subway&quot;, &quot;iconColor&quot;: &quot;white&quot;, &quot;markerColor&quot;: &quot;lightblue&quot;, &quot;prefix&quot;: &quot;fa-solid&quot;}\n",
       "            );\n",
       "            marker_9f929a5d55a0a1aa442881ae87a438f1.setIcon(icon_21fde5c10172644b4cb9fb9b4022b367);\n",
       "        \n",
       "    \n",
       "        var popup_02ea0a6db9793d385e2765c11f115cf5 = L.popup({&quot;maxWidth&quot;: &quot;100%&quot;});\n",
       "\n",
       "        \n",
       "            \n",
       "                var html_fa9dcf1f6068b67df9c57840daa5ba40 = $(`&lt;div id=&quot;html_fa9dcf1f6068b67df9c57840daa5ba40&quot; style=&quot;width: 100.0%; height: 100.0%;&quot;&gt;subway&lt;/div&gt;`)[0];\n",
       "                popup_02ea0a6db9793d385e2765c11f115cf5.setContent(html_fa9dcf1f6068b67df9c57840daa5ba40);\n",
       "            \n",
       "        \n",
       "\n",
       "        marker_9f929a5d55a0a1aa442881ae87a438f1.bindPopup(popup_02ea0a6db9793d385e2765c11f115cf5)\n",
       "        ;\n",
       "\n",
       "        \n",
       "    \n",
       "    \n",
       "            marker_9f929a5d55a0a1aa442881ae87a438f1.bindTooltip(\n",
       "                `&lt;div&gt;\n",
       "                     마포역\n",
       "                 &lt;/div&gt;`,\n",
       "                {&quot;sticky&quot;: true}\n",
       "            );\n",
       "        \n",
       "    \n",
       "            var circle_marker_86be0c935528e93e2bc5c75a4c4c1bcb = L.circleMarker(\n",
       "                [37.54392611998678, 126.95105440539045],\n",
       "                {&quot;bubblingMouseEvents&quot;: true, &quot;color&quot;: &quot;#34ebc6&quot;, &quot;dashArray&quot;: null, &quot;dashOffset&quot;: null, &quot;fill&quot;: true, &quot;fillColor&quot;: &quot;#c634eb&quot;, &quot;fillOpacity&quot;: 0.2, &quot;fillRule&quot;: &quot;evenodd&quot;, &quot;lineCap&quot;: &quot;round&quot;, &quot;lineJoin&quot;: &quot;round&quot;, &quot;opacity&quot;: 1.0, &quot;radius&quot;: 100, &quot;stroke&quot;: true, &quot;weight&quot;: 3}\n",
       "            ).addTo(map_ff073f4853cf3d47f0720f69a856db39);\n",
       "        \n",
       "    \n",
       "        var popup_02f477884f154fccb03e40396c88524a = L.popup({&quot;maxWidth&quot;: &quot;100%&quot;});\n",
       "\n",
       "        \n",
       "            \n",
       "                var html_f61c47165b3bf81dd447659fac6b911a = $(`&lt;div id=&quot;html_f61c47165b3bf81dd447659fac6b911a&quot; style=&quot;width: 100.0%; height: 100.0%;&quot;&gt;CircleMarker&lt;/div&gt;`)[0];\n",
       "                popup_02f477884f154fccb03e40396c88524a.setContent(html_f61c47165b3bf81dd447659fac6b911a);\n",
       "            \n",
       "        \n",
       "\n",
       "        circle_marker_86be0c935528e93e2bc5c75a4c4c1bcb.bindPopup(popup_02f477884f154fccb03e40396c88524a)\n",
       "        ;\n",
       "\n",
       "        \n",
       "    \n",
       "    \n",
       "            circle_marker_86be0c935528e93e2bc5c75a4c4c1bcb.bindTooltip(\n",
       "                `&lt;div&gt;\n",
       "                     tooltip\n",
       "                 &lt;/div&gt;`,\n",
       "                {&quot;sticky&quot;: true}\n",
       "            );\n",
       "        \n",
       "    \n",
       "            var circle_38328b730ef6e24b6bfe69b40fceaa0d = L.circle(\n",
       "                [37.54392611998678, 126.95105440539045],\n",
       "                {&quot;bubblingMouseEvents&quot;: true, &quot;color&quot;: &quot;#eb9e34&quot;, &quot;dashArray&quot;: null, &quot;dashOffset&quot;: null, &quot;fill&quot;: true, &quot;fillColor&quot;: &quot;red&quot;, &quot;fillOpacity&quot;: 0.2, &quot;fillRule&quot;: &quot;evenodd&quot;, &quot;lineCap&quot;: &quot;round&quot;, &quot;lineJoin&quot;: &quot;round&quot;, &quot;opacity&quot;: 1.0, &quot;radius&quot;: 100, &quot;stroke&quot;: true, &quot;weight&quot;: 3}\n",
       "            ).addTo(map_ff073f4853cf3d47f0720f69a856db39);\n",
       "        \n",
       "    \n",
       "        var popup_09cdf683e61d95d923b39babe9db5bf0 = L.popup({&quot;maxWidth&quot;: &quot;100%&quot;});\n",
       "\n",
       "        \n",
       "            \n",
       "                var html_3fcdf9cbac0e33ad16face77b60a21c8 = $(`&lt;div id=&quot;html_3fcdf9cbac0e33ad16face77b60a21c8&quot; style=&quot;width: 100.0%; height: 100.0%;&quot;&gt;Circle&lt;/div&gt;`)[0];\n",
       "                popup_09cdf683e61d95d923b39babe9db5bf0.setContent(html_3fcdf9cbac0e33ad16face77b60a21c8);\n",
       "            \n",
       "        \n",
       "\n",
       "        circle_38328b730ef6e24b6bfe69b40fceaa0d.bindPopup(popup_09cdf683e61d95d923b39babe9db5bf0)\n",
       "        ;\n",
       "\n",
       "        \n",
       "    \n",
       "    \n",
       "            circle_38328b730ef6e24b6bfe69b40fceaa0d.bindTooltip(\n",
       "                `&lt;div&gt;\n",
       "                     tooltip\n",
       "                 &lt;/div&gt;`,\n",
       "                {&quot;sticky&quot;: true}\n",
       "            );\n",
       "        \n",
       "&lt;/script&gt;\n",
       "&lt;/html&gt;\" style=\"position:absolute;width:100%;height:100%;left:0;top:0;border:none !important;\" allowfullscreen webkitallowfullscreen mozallowfullscreen></iframe></div></div>"
      ],
      "text/plain": [
       "<folium.folium.Map at 0x2504cd252e0>"
      ]
     },
     "execution_count": 19,
     "metadata": {},
     "output_type": "execute_result"
    }
   ],
   "source": [
    "# CircleMarker\n",
    "folium.CircleMarker([37.54392611998678, 126.95105440539045], radius=100, color='#34ebc6', fill_color='#c634eb', popup='CircleMarker', tooltip='tooltip').add_to(m)\n",
    "\n",
    "# Circle\n",
    "folium.Circle([37.54392611998678, 126.95105440539045], radius=100, color='#eb9e34', fill_color='red', popup='Circle', tooltip='tooltip').add_to(m)\n",
    "\n",
    "m"
   ]
  },
  {
   "cell_type": "code",
   "execution_count": null,
   "metadata": {
    "id": "gptOoMQt8fcm"
   },
   "outputs": [],
   "source": []
  }
 ],
 "metadata": {
  "colab": {
   "authorship_tag": "ABX9TyMXG8bVh1x0ifRI2xDNH6/E",
   "provenance": []
  },
  "kernelspec": {
   "display_name": "Python 3 (ipykernel)",
   "language": "python",
   "name": "python3"
  },
  "language_info": {
   "codemirror_mode": {
    "name": "ipython",
    "version": 3
   },
   "file_extension": ".py",
   "mimetype": "text/x-python",
   "name": "python",
   "nbconvert_exporter": "python",
   "pygments_lexer": "ipython3",
   "version": "3.12.4"
  }
 },
 "nbformat": 4,
 "nbformat_minor": 4
}

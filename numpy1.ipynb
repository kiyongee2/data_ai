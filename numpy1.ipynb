{
 "cells": [
  {
   "cell_type": "markdown",
   "id": "e23fbd81-3983-4d85-bafd-da2cb73446fb",
   "metadata": {},
   "source": [
    "### numpy - 다차원 배열(행렬)을 쉽게 처리하고 효율적으로 사용할 수 있도록 지원하는 파이썬 라이브러리이다 "
   ]
  },
  {
   "cell_type": "code",
   "execution_count": 26,
   "id": "c5dff566-4dd4-43ce-9022-6d8185dc93c9",
   "metadata": {},
   "outputs": [
    {
     "name": "stdout",
     "output_type": "stream",
     "text": [
      "[3, 1, 2, 'a', 'b']\n",
      "[[1, 2], [3, 4, 5]]\n",
      "[3 1 2]\n"
     ]
    },
    {
     "ename": "ValueError",
     "evalue": "setting an array element with a sequence. The requested array has an inhomogeneous shape after 1 dimensions. The detected shape was (2,) + inhomogeneous part.",
     "output_type": "error",
     "traceback": [
      "\u001b[1;31m---------------------------------------------------------------------------\u001b[0m",
      "\u001b[1;31mValueError\u001b[0m                                Traceback (most recent call last)",
      "Cell \u001b[1;32mIn[26], line 15\u001b[0m\n\u001b[0;32m     12\u001b[0m \u001b[38;5;28mtype\u001b[39m(x)\n\u001b[0;32m     14\u001b[0m \u001b[38;5;66;03m#내부 배열의 원소 개수가 같아야 한다.\u001b[39;00m\n\u001b[1;32m---> 15\u001b[0m x2 \u001b[38;5;241m=\u001b[39m np\u001b[38;5;241m.\u001b[39marray([[\u001b[38;5;241m1\u001b[39m, \u001b[38;5;241m2\u001b[39m], [\u001b[38;5;241m3\u001b[39m, \u001b[38;5;241m4\u001b[39m, \u001b[38;5;241m5\u001b[39m]]) \n\u001b[0;32m     16\u001b[0m \u001b[38;5;28mprint\u001b[39m(x2)\n\u001b[0;32m     17\u001b[0m \u001b[38;5;28mtype\u001b[39m(x2)\n",
      "\u001b[1;31mValueError\u001b[0m: setting an array element with a sequence. The requested array has an inhomogeneous shape after 1 dimensions. The detected shape was (2,) + inhomogeneous part."
     ]
    }
   ],
   "source": [
    "import numpy as np\n",
    "\n",
    "# 일반 배열(리스트)\n",
    "a = [3, 1, 2, 'a', 'b']\n",
    "print(a)\n",
    "\n",
    "arr = [[1,2], [3,4, 5]]\n",
    "print(arr)\n",
    "\n",
    "x = np.array([3, 1, 2])\n",
    "print(x)\n",
    "type(x)\n",
    "\n",
    "#내부 배열의 원소 개수가 같아야 한다.\n",
    "x2 = np.array([[1, 2], [3, 4, 5]]) \n",
    "print(x2)\n",
    "type(x2)"
   ]
  },
  {
   "cell_type": "code",
   "execution_count": 30,
   "id": "a27eb878-b5a1-4a88-a3cc-a502169da39b",
   "metadata": {},
   "outputs": [
    {
     "data": {
      "text/plain": [
       "array([ 3,  7, 11])"
      ]
     },
     "execution_count": 30,
     "metadata": {},
     "output_type": "execute_result"
    }
   ],
   "source": [
    "import numpy as np\n",
    "\n",
    "list1 = [1, 3, 5]\n",
    "list2 = [2, 4, 6]\n",
    "list1 + list2\n",
    "\n",
    "nd1 = np.array([1, 3, 5])\n",
    "nd2 = np.array([2, 4, 6])\n",
    "nd1 + nd2"
   ]
  },
  {
   "cell_type": "code",
   "execution_count": 72,
   "id": "6c152cad-9e75-42a9-95b4-da79b06d1908",
   "metadata": {},
   "outputs": [
    {
     "name": "stdout",
     "output_type": "stream",
     "text": [
      "2차원\n",
      "(2, 3) 형태\n",
      "[0 1 2 3 4]\n",
      "[5 6 7 8 9]\n",
      "[5 7 9]\n",
      "[[6 3]\n",
      " [5 2]\n",
      " [4 1]]\n",
      "(3, 2)\n",
      "[[0. 0.]\n",
      " [0. 0.]]\n",
      "[[1. 1. 1.]\n",
      " [1. 1. 1.]]\n"
     ]
    }
   ],
   "source": [
    "# numpy 관련 속성 및 메서드\n",
    "# ndim : 배열의 차원 수를 반환\n",
    "# shape : 배열의 각 차원의 크기를 튜플 형태로 표현\n",
    "ndarr1 = np.array([[1, 2, 3], [4, 5, 6]])\n",
    "print(str(ndarr1.ndim)  + \"차원\")\n",
    "print(f'{ndarr1.shape} 형태')\n",
    "\n",
    "#arange([start], stop, [step]) - 특정 배열을 만들어줌\n",
    "print(np.arange(5))\n",
    "print(np.arange(5, 10))\n",
    "print(np.arange(5, 10, 2))\n",
    "\n",
    "# 행렬의 평탄화 작업 - N차원을 1차원 배열로 변환\n",
    "ndarr2 = np.array([[6, 3], [5, 2], [4, 1]])\n",
    "print(ndarr2)\n",
    "ndarr2.flatten()\n",
    "\n",
    "# 배열의 차원을 변경\n",
    "print(ndarr2.shape)\n",
    "ndarr2.reshape(2, 3)\n",
    "\n",
    "# m x n 크기의 0행렬\n",
    "print(np.zeros((2, 2)))\n",
    "# m x n 크기의 유닛 행렬\n",
    "print(np.ones((2, 3)))"
   ]
  },
  {
   "cell_type": "code",
   "execution_count": 36,
   "id": "ecccd307-588d-4ded-b82b-e031e24bfdc8",
   "metadata": {},
   "outputs": [
    {
     "name": "stdout",
     "output_type": "stream",
     "text": [
      "[0. 0. 0. 0. 0. 0. 0. 0. 0. 0.]\n",
      "[0. 0. 0. 0. 1. 0. 0. 0. 0. 0.]\n",
      "[10 11 12 13 14 15 16 17 18 19 20 21 22 23 24 25 26 27 28 29 30]\n"
     ]
    }
   ],
   "source": [
    "import numpy as np\n",
    "\n",
    "# 10개의 0으로 채워진 array를 만들어 주세요\n",
    "an1 = np.zeros(10)\n",
    "print(an1)\n",
    "\n",
    "# 1번에서 만들어진 array에서 5번째 값을 1로 바꿔주세요\n",
    "an2 = an1\n",
    "an2[4] = 1\n",
    "print(an2)\n",
    "\n",
    "# 10부터 30까지의 수로 이루어진 array를 만들어 주세요\n",
    "an3 = np.arange(10, 31)\n",
    "print(an3)"
   ]
  },
  {
   "cell_type": "code",
   "execution_count": null,
   "id": "a6289101-d4af-4f89-813c-026ef7590911",
   "metadata": {},
   "outputs": [],
   "source": []
  }
 ],
 "metadata": {
  "kernelspec": {
   "display_name": "Python 3 (ipykernel)",
   "language": "python",
   "name": "python3"
  },
  "language_info": {
   "codemirror_mode": {
    "name": "ipython",
    "version": 3
   },
   "file_extension": ".py",
   "mimetype": "text/x-python",
   "name": "python",
   "nbconvert_exporter": "python",
   "pygments_lexer": "ipython3",
   "version": "3.12.4"
  }
 },
 "nbformat": 4,
 "nbformat_minor": 5
}

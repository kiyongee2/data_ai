{
 "cells": [
  {
   "cell_type": "markdown",
   "id": "b5b027a8-a68d-451f-a6d4-138eb27ed614",
   "metadata": {},
   "source": [
    "### numpy - 다차원 배열을 쉽게 처리하고 효율적으로 사용할 수 있는 파이썬 라이브러리"
   ]
  },
  {
   "cell_type": "code",
   "execution_count": 14,
   "id": "b588575d-396b-452e-b165-0c0f88c6c711",
   "metadata": {},
   "outputs": [
    {
     "name": "stdout",
     "output_type": "stream",
     "text": [
      "[3, 1, 2]\n",
      "[[1, 2], [3, 4, 5]]\n",
      "[3 1 2]\n",
      "[[1 2]\n",
      " [3 4]]\n"
     ]
    }
   ],
   "source": [
    "import numpy as np\n",
    "\n",
    "# 일반 배열(리스트)\n",
    "a = [3, 1, 2]\n",
    "print(a)\n",
    "\n",
    "a2 = [[1,2], [3,4,5]]\n",
    "print(a2)\n",
    "\n",
    "\n",
    "# numpy에서 사용하는 배열\n",
    "x = np.array([3, 1, 2])\n",
    "print(x)\n",
    "\n",
    "#내부 배열의 원소 개수가 같아야 한다.\n",
    "x2 = np.array([[1, 2], [3, 4]]) \n",
    "print(x2)"
   ]
  },
  {
   "cell_type": "code",
   "execution_count": 16,
   "id": "a68d0349-a01b-4ff7-9e63-fbab22e3e5f5",
   "metadata": {},
   "outputs": [
    {
     "name": "stdout",
     "output_type": "stream",
     "text": [
      "[1, 3, 5, 2, 4, 6]\n"
     ]
    },
    {
     "data": {
      "text/plain": [
       "array([ 3,  7, 11])"
      ]
     },
     "execution_count": 16,
     "metadata": {},
     "output_type": "execute_result"
    }
   ],
   "source": [
    "import numpy as np\n",
    "\n",
    "list1 = [1, 3, 5]\n",
    "list2 = [2, 4, 6]\n",
    "print(list1 + list2)\n",
    "\n",
    "nd1 = np.array([1, 3, 5])\n",
    "nd2 = np.array([2, 4, 6])\n",
    "print(nd1 + nd2)"
   ]
  },
  {
   "cell_type": "code",
   "execution_count": null,
   "id": "5b64f800-d12a-43c6-9d29-10b1207949d6",
   "metadata": {},
   "outputs": [],
   "source": []
  }
 ],
 "metadata": {
  "kernelspec": {
   "display_name": "Python 3 (ipykernel)",
   "language": "python",
   "name": "python3"
  },
  "language_info": {
   "codemirror_mode": {
    "name": "ipython",
    "version": 3
   },
   "file_extension": ".py",
   "mimetype": "text/x-python",
   "name": "python",
   "nbconvert_exporter": "python",
   "pygments_lexer": "ipython3",
   "version": "3.12.4"
  }
 },
 "nbformat": 4,
 "nbformat_minor": 5
}

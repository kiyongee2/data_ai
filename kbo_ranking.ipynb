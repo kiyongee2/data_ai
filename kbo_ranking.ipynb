{
 "cells": [
  {
   "cell_type": "code",
   "execution_count": 19,
   "metadata": {},
   "outputs": [
    {
     "data": {
      "text/plain": [
       "[0.613, 0.549, 0.535, 0.521, 0.507, 0.507, 0.471, 0.465, 0.43, 0.403]"
      ]
     },
     "execution_count": 19,
     "metadata": {},
     "output_type": "execute_result"
    }
   ],
   "source": [
    "import requests\n",
    "from bs4 import BeautifulSoup\n",
    "\n",
    "url = 'https://www.koreabaseball.com/Record/TeamRank/TeamRank.aspx'\n",
    "response = requests.get(url)\n",
    "# print(response)\n",
    "# print(response.text)\n",
    "html = BeautifulSoup(response.text, 'html.parser')\n",
    "# print(html)\n",
    "\n",
    "first_table = html.select_one('table.tData > tbody')\n",
    "# print(first_table)\n",
    "\n",
    "팀 = first_table.select('tr > td:nth-of-type(2)')\n",
    "# print(팀)\n",
    "\n",
    "# for i in 팀:\n",
    "#   print(i.text)\n",
    "[i.text for i in 팀]\n",
    "\n",
    "승 = first_table.select('tr > td:nth-of-type(4)')\n",
    "[int(i.text) for i in 승]\n",
    "\n",
    "패 = first_table.select('tr > td:nth-of-type(5)')\n",
    "[int(i.text) for i in 패]\n",
    "\n",
    "무 = first_table.select('tr > td:nth-of-type(6)')\n",
    "[int(i.text) for i in 무]\n",
    "\n",
    "승률 = first_table.select('tr > td:nth-of-type(7)')\n",
    "[ float(i.text) for i in 승률]"
   ]
  },
  {
   "cell_type": "code",
   "execution_count": 29,
   "metadata": {},
   "outputs": [],
   "source": [
    "import numpy as np\n",
    "\n",
    "순위 = 1 + np.arange(10) # 1 + (0~9)\n",
    "\n",
    "with open(\"datas/2024_kbo.txt\", 'w') as f:\n",
    "    f.write(\"========== 2024 한국 프로야구 성적표 ==========\\n\")\n",
    "    head = \"순위\\t팀\\t승\\t패\\t무\\t승률\"\n",
    "    f.write(head)\n",
    "    f.write('\\n')\n",
    "    for i in range(len(팀)): # 10번 반복\n",
    "        txt = f'{순위[i]}\\t{팀[i]}\\t{승[i]}\\t{패[i]}\\t{무[i]}\\t{승률[i]}\\n' #'\\n' 줄바꿈\n",
    "        f.write(txt)"
   ]
  },
  {
   "cell_type": "code",
   "execution_count": 31,
   "metadata": {},
   "outputs": [
    {
     "name": "stdout",
     "output_type": "stream",
     "text": [
      "========== 2024 한국 프로야구 성적표 ==========\n",
      "순위\t팀\t승\t패\t무\t승률\n",
      "1\tKIA\t71\t48\t2\t0.597\n",
      "2\t삼성\t66\t54\t2\t0.55\n",
      "3\tLG\t63\t55\t2\t0.534\n",
      "4\t두산\t62\t60\t2\t0.508\n",
      "5\tKT\t59\t61\t2\t0.492\n",
      "6\tSSG\t58\t62\t1\t0.483\n",
      "7\t한화\t56\t60\t2\t0.483\n",
      "8\t롯데\t51\t61\t3\t0.455\n",
      "9\tNC\t52\t63\t2\t0.452\n",
      "10\t키움\t53\t67\t0\t0.442\n",
      "\n"
     ]
    }
   ],
   "source": [
    "import numpy as np\n",
    "\n",
    "with open(\"datas/2024_kbo.txt\", 'r') as f:\n",
    "    data = f.read()\n",
    "    print(data)"
   ]
  }
 ],
 "metadata": {
  "kernelspec": {
   "display_name": "Python 3 (ipykernel)",
   "language": "python",
   "name": "python3"
  },
  "language_info": {
   "codemirror_mode": {
    "name": "ipython",
    "version": 3
   },
   "file_extension": ".py",
   "mimetype": "text/x-python",
   "name": "python",
   "nbconvert_exporter": "python",
   "pygments_lexer": "ipython3",
   "version": "3.12.4"
  }
 },
 "nbformat": 4,
 "nbformat_minor": 4
}

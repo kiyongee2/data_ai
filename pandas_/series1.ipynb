{
 "cells": [
  {
   "cell_type": "code",
   "execution_count": 1,
   "id": "f33c3181-1f72-4cdc-800a-3e2fcb5cc053",
   "metadata": {},
   "outputs": [
    {
     "name": "stdout",
     "output_type": "stream",
     "text": [
      "a    1\n",
      "b    2\n",
      "c    3\n",
      "dtype: int64\n",
      "<class 'pandas.core.series.Series'>\n"
     ]
    }
   ],
   "source": [
    "import pandas as pd\n",
    "\n",
    "dict_data = {'a': 1, 'b': 2, 'c':3}\n",
    "\n",
    "sr = pd.Series(dict_data)\n",
    "print(sr)\n",
    "print(type(sr))"
   ]
  },
  {
   "cell_type": "code",
   "execution_count": 7,
   "id": "86878aa3-aec9-4c05-b3b1-9b772a1d1b15",
   "metadata": {},
   "outputs": [
    {
     "name": "stdout",
     "output_type": "stream",
     "text": [
      "0    2024-08-03\n",
      "1          3.14\n",
      "2           ABC\n",
      "3           100\n",
      "4          True\n",
      "dtype: object\n",
      "RangeIndex(start=0, stop=5, step=1)\n",
      "['2024-08-03' 3.14 'ABC' 100 True]\n",
      "(5,)\n"
     ]
    }
   ],
   "source": [
    "list_data = ['2024-08-03', 3.14, 'ABC', 100, True]\n",
    "sr = pd.Series(list_data)\n",
    "print(sr)\n",
    "\n",
    "idx = sr.index  #인덱스 배열 저장\n",
    "print(idx)\n",
    "\n",
    "val = sr.values  #데이터 값 배열은 변수 val에 저장\n",
    "print(val)\n",
    "\n",
    "print(sr.shape) # 5행"
   ]
  },
  {
   "cell_type": "code",
   "execution_count": 3,
   "id": "79d1cc6c-976f-46db-96a7-aa87e3163c99",
   "metadata": {},
   "outputs": [
    {
     "name": "stdout",
     "output_type": "stream",
     "text": [
      "이름              영인\n",
      "생년월일    2020-05-01\n",
      "성별               여\n",
      "학생여부          True\n",
      "dtype: object\n",
      "영인\n",
      "생년월일    2020-05-01\n",
      "성별               여\n",
      "dtype: object\n"
     ]
    }
   ],
   "source": [
    "# 튜플을 시리즈로 변환\n",
    "tup_data = ('영인', '2020-05-01', '여', True)\n",
    "sr = pd.Series(tup_data, index=['이름', '생년월일', '성별', '학생여부']) \n",
    "print(sr)\n",
    "print(sr['이름'])\n",
    "print(sr['생년월일' : '성별'])"
   ]
  },
  {
   "cell_type": "code",
   "execution_count": 9,
   "id": "0a8ea58d",
   "metadata": {},
   "outputs": [
    {
     "name": "stdout",
     "output_type": "stream",
     "text": [
      "0    143\n",
      "1    150\n",
      "2    157\n",
      "3    160\n",
      "dtype: int64\n",
      "2018    143\n",
      "2019    150\n",
      "2020    157\n",
      "2021    160\n",
      "dtype: int64\n"
     ]
    }
   ],
   "source": [
    "import pandas as pd\n",
    "\n",
    "# 인덱스를 지정하지 않은 경우\n",
    "growth1 = pd.Series([143, 150, 157, 160])\n",
    "print(growth1)\n",
    "\n",
    "# 인덱스를 지정한 경우\n",
    "growth2 = pd.Series([143, 150, 157, 160], index=['2018', '2019', '2020', '2021'])\n",
    "print(growth2)"
   ]
  },
  {
   "cell_type": "code",
   "execution_count": 11,
   "id": "95610730",
   "metadata": {},
   "outputs": [
    {
     "data": {
      "text/plain": [
       "밀가루     4 cups\n",
       "우유       1 cup\n",
       "계란     2 large\n",
       "참치캔      1 can\n",
       "Name: Dinner, dtype: object"
      ]
     },
     "execution_count": 11,
     "metadata": {},
     "output_type": "execute_result"
    }
   ],
   "source": [
    "# 실습 문제\n",
    "\n",
    "data = ['4 cups', '1 cup', '2 large', '1 can']\n",
    "index = ['밀가루', '우유', '계란', '참치캔']\n",
    "dinner = pd.Series(data, index=index, name='Dinner')\n",
    "dinner"
   ]
  }
 ],
 "metadata": {
  "kernelspec": {
   "display_name": "Python 3",
   "language": "python",
   "name": "python3"
  },
  "language_info": {
   "codemirror_mode": {
    "name": "ipython",
    "version": 3
   },
   "file_extension": ".py",
   "mimetype": "text/x-python",
   "name": "python",
   "nbconvert_exporter": "python",
   "pygments_lexer": "ipython3",
   "version": "3.12.1"
  }
 },
 "nbformat": 4,
 "nbformat_minor": 5
}

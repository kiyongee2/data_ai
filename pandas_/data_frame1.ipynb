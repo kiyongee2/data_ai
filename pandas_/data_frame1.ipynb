{
 "cells": [
  {
   "cell_type": "code",
   "execution_count": 6,
   "metadata": {},
   "outputs": [
    {
     "name": "stdout",
     "output_type": "stream",
     "text": [
      "    국어  수학  영어\n",
      "재천  90  80  85\n",
      "선영  80  75  95\n",
      "재천    90\n",
      "선영    80\n",
      "Name: 국어, dtype: int64\n",
      "    국어\n",
      "재천  90\n",
      "선영  80\n",
      "    수학  영어\n",
      "재천  80  85\n",
      "선영  75  95\n"
     ]
    }
   ],
   "source": [
    "import pandas as pd\n",
    "\n",
    "score = {\n",
    "    '국어' : [90, 80], \n",
    "    '수학' : [80, 75],\n",
    "    '영어' : [85, 95]\n",
    "}\n",
    "\n",
    "df = pd.DataFrame(score, index=['재천', '선영'])\n",
    "print(df)\n",
    "\n",
    "# 열선택\n",
    "print(df['국어'])\n",
    "\n",
    "# 열 이름도 출력\n",
    "print(df[['국어']])\n",
    "print(df[['수학', '영어']])"
   ]
  },
  {
   "cell_type": "code",
   "execution_count": 7,
   "metadata": {},
   "outputs": [
    {
     "name": "stdout",
     "output_type": "stream",
     "text": [
      "국어    90\n",
      "수학    80\n",
      "영어    85\n",
      "Name: 재천, dtype: int64\n",
      "    국어  수학  영어\n",
      "재천  90  80  85\n",
      "선영  80  75  95\n"
     ]
    }
   ],
   "source": [
    "# 행선택 - loc[이름(문자)], iloc[인덱스(숫자)]\n",
    "print(df.loc['재천'])\n",
    "# print(df.iloc[0]) \n",
    "\n",
    "print(df.loc[['재천', '선영']])\n",
    "# print(df.iloc[[0, 1]])\n",
    "\n",
    "# 행, 열 선택\n",
    "# print(df.iloc[::])   #전체를 1행 간격으로 출력\n",
    "# print(df.iloc[::2])  #2행 간격\n",
    "# print(df.iloc[0:2:1]) # 1행까지 1행 간격으로 출력\n",
    "# print(df.iloc[::-1]) #역순 실행"
   ]
  },
  {
   "cell_type": "code",
   "execution_count": 13,
   "metadata": {},
   "outputs": [
    {
     "name": "stdout",
     "output_type": "stream",
     "text": [
      "    국어  수학   영어\n",
      "이름             \n",
      "재천  90  80   85\n",
      "선영  80  75   95\n",
      "일성  70  95  100\n",
      "95\n",
      "95\n",
      "수학    80\n",
      "영어    85\n",
      "Name: 재천, dtype: int64\n",
      "수학    80\n",
      "영어    85\n",
      "Name: 재천, dtype: int64\n"
     ]
    }
   ],
   "source": [
    "import pandas as pd\n",
    "\n",
    "score = {\n",
    "    '이름' : ['재천', '선영', '일성'],\n",
    "    '국어' : [90, 80, 70], \n",
    "    '수학' : [80, 75, 95],\n",
    "    '영어' : [85, 95, 100]\n",
    "}\n",
    "\n",
    "df = pd.DataFrame(score)\n",
    "df = df.set_index('이름')\n",
    "print(df)\n",
    "\n",
    "# 특정 요소 1개 선택 \n",
    "# loc([행, 열])\n",
    "print(df.loc['선영', '영어'])\n",
    "print(df.iloc[1, 2])\n",
    "\n",
    "# # 특정 요소 2개 이상 선택\n",
    "print(df.loc['재천', '수학':'영어'])\n",
    "print(df.iloc[0, [1, 2]])\n",
    "# print(df.loc[['재천', '일성'], ['수학', '영어']])\n"
   ]
  },
  {
   "cell_type": "code",
   "execution_count": 16,
   "metadata": {},
   "outputs": [
    {
     "name": "stdout",
     "output_type": "stream",
     "text": [
      "   이름  국어  수학   영어\n",
      "0  재천  90  80   85\n",
      "1  선영  80  75   95\n",
      "2  일성  70  95  100\n",
      "   이름  국어  수학   영어\n",
      "0  재천  90  80   85\n",
      "1  선영  80  75   95\n",
      "2  일성  70  95  100\n",
      "3  윤아  75  80   90\n",
      "   이름  국어  수학   영어  음악\n",
      "0  재천  90  80   85  80\n",
      "1  선영  80  75   95  80\n",
      "2  일성  70  95  100  80\n",
      "3  윤아  75  80   90  80\n",
      "   이름  국어  수학   영어  음악   미술\n",
      "0  재천  90  80   85  80   80\n",
      "1  선영  80  75   95  80   90\n",
      "2  일성  70  95  100  80  100\n",
      "3  윤아  75  80   90  80   70\n"
     ]
    }
   ],
   "source": [
    "import pandas as pd\n",
    "\n",
    "score = {\n",
    "    '이름' : ['재천', '선영', '일성'],\n",
    "    '국어' : [90, 80, 70], \n",
    "    '수학' : [80, 75, 95],\n",
    "    '영어' : [85, 95, 100]\n",
    "}\n",
    "\n",
    "df = pd.DataFrame(score)\n",
    "print(df)\n",
    "\n",
    "# 새로운 행 추가\n",
    "df.loc[3] = ['윤아', 75, 80, 90]\n",
    "print(df)\n",
    "\n",
    "# 열추가\n",
    "df['음악'] = 80\n",
    "print(df)\n",
    "df['미술'] = [80, 90, 100, 70]\n",
    "print(df)"
   ]
  },
  {
   "cell_type": "code",
   "execution_count": 3,
   "metadata": {},
   "outputs": [
    {
     "name": "stdout",
     "output_type": "stream",
     "text": [
      "    국어  수학   영어\n",
      "재천  90  80   85\n",
      "선영  80  75   95\n",
      "일성  70  95  100\n"
     ]
    }
   ],
   "source": [
    "# 요소 추가, 삭제\n",
    "import pandas as pd\n",
    "index = ['재천', '선영', '일성']\n",
    "score = {\n",
    "    # '이름' : ['재천', '선영', '일성'],\n",
    "    '국어' : [90, 80, 70], \n",
    "    '수학' : [80, 75, 95],\n",
    "    '영어' : [85, 95, 100]\n",
    "}\n",
    "\n",
    "df = pd.DataFrame(score, index=index)\n",
    "# df = df.set_index('이름')\n",
    "print(df)\n",
    "\n",
    "# df2 = df.copy()\n",
    "# # df2 = df2.drop('일성')  #행 삭제\n",
    "# df2 = df2.drop(['재천', '선영'], axis=0)  #행 삭제\n",
    "# print(df2)\n",
    "\n",
    "# df3 = df.copy()\n",
    "# df3 = df3.drop('수학', axis=1)  # 열 삭제\n",
    "# print(df3)"
   ]
  },
  {
   "cell_type": "code",
   "execution_count": 6,
   "metadata": {},
   "outputs": [
    {
     "name": "stdout",
     "output_type": "stream",
     "text": [
      "    국어  수학   영어\n",
      "이름             \n",
      "재천  90  80   85\n",
      "선영  80  75   95\n",
      "일성  70  95  100\n",
      "85\n",
      "    국어  수학   영어\n",
      "이름             \n",
      "재천  90  80   95\n",
      "선영  80  75   95\n",
      "일성  70  95  100\n",
      "95\n",
      "    국어  수학   영어\n",
      "이름             \n",
      "재천  90  80   95\n",
      "선영  80  75   95\n",
      "일성  70  80  100\n",
      "    국어  수학   영어\n",
      "이름             \n",
      "재천  90  80   95\n",
      "선영  70  60   95\n",
      "일성  70  80  100\n"
     ]
    }
   ],
   "source": [
    "# 요소 수정(변경)\n",
    "import pandas as pd\n",
    "\n",
    "score = {\n",
    "    '이름' : ['재천', '선영', '일성'],\n",
    "    '국어' : [90, 80, 70], \n",
    "    '수학' : [80, 75, 95],\n",
    "    '영어' : [85, 95, 100]\n",
    "}\n",
    "\n",
    "df = pd.DataFrame(score)\n",
    "df = df.set_index('이름')\n",
    "print(df)\n",
    "\n",
    "# '재천'의 영어 점수 변경\n",
    "print(df.iloc[0, 2])\n",
    "df.iloc[0, 2] = 95\n",
    "print(df)\n",
    "\n",
    "# '일성'의 수학 점수 변경\n",
    "print(df.loc['일성', '수학'])\n",
    "df.loc['일성', '수학'] = 80\n",
    "print(df)\n",
    "\n",
    "# 1번에 2개 변경\n",
    "df.loc['선영', ['국어', '수학']] = 70, 60\n",
    "print(df)"
   ]
  }
 ],
 "metadata": {
  "kernelspec": {
   "display_name": "Python 3",
   "language": "python",
   "name": "python3"
  },
  "language_info": {
   "codemirror_mode": {
    "name": "ipython",
    "version": 3
   },
   "file_extension": ".py",
   "mimetype": "text/x-python",
   "name": "python",
   "nbconvert_exporter": "python",
   "pygments_lexer": "ipython3",
   "version": "3.12.1"
  }
 },
 "nbformat": 4,
 "nbformat_minor": 2
}

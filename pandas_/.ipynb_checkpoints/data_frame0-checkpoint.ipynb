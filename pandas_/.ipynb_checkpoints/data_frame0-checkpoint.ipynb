{
 "cells": [
  {
   "cell_type": "code",
   "execution_count": 1,
   "id": "808deb81",
   "metadata": {},
   "outputs": [
    {
     "name": "stdout",
     "output_type": "stream",
     "text": [
      "2018    143\n",
      "2019    150\n",
      "2020    157\n",
      "2021    160\n",
      "dtype: int64\n"
     ]
    }
   ],
   "source": [
    "import pandas as pd\n",
    "\n",
    "index=['2018', '2019', '2020', '2021']\n",
    "growth = pd.Series(\n",
    "    [143, 150, 157, 160], \n",
    "    index=index\n",
    ")\n",
    "print(growth)"
   ]
  },
  {
   "cell_type": "code",
   "execution_count": 7,
   "id": "fbfc513b",
   "metadata": {},
   "outputs": [
    {
     "name": "stdout",
     "output_type": "stream",
     "text": [
      "       영희   철수\n",
      "2018  143  165\n",
      "2019  150  172\n",
      "2020  157  175\n",
      "2021  160  180\n"
     ]
    }
   ],
   "source": [
    "import pandas as pd\n",
    "\n",
    "index = ['2018', '2019', '2020', '2021']\n",
    "\n",
    "data = {\n",
    "    '영희': [143, 150, 157, 160],\n",
    "    '철수': [165, 172, 175, 180]\n",
    "}\n",
    "\n",
    "# growth = pd.DataFrame(data, index=index)\n",
    "growth = pd.DataFrame(data, columns=['영희', '철수'], index=index)\n",
    "print(growth)"
   ]
  },
  {
   "cell_type": "code",
   "execution_count": 9,
   "id": "f250b016",
   "metadata": {},
   "outputs": [
    {
     "name": "stdout",
     "output_type": "stream",
     "text": [
      "Index(['영희', '철수'], dtype='object')\n",
      "      Rena   철수\n",
      "2018   143  165\n",
      "2019   150  172\n",
      "2020   157  175\n",
      "2021   160  180\n"
     ]
    }
   ],
   "source": [
    "print(growth.columns)\n",
    "\n",
    "growth.rename(columns = {'영희' : 'Rena'}, inplace = True)\n",
    "print(growth)"
   ]
  },
  {
   "cell_type": "code",
   "execution_count": 6,
   "id": "ec188355-d7e4-4215-bb46-b48341663439",
   "metadata": {},
   "outputs": [
    {
     "name": "stdout",
     "output_type": "stream",
     "text": [
      "      나이    성별    학교\n",
      "서준    15     남   은평중\n",
      "대국    17     여  동명여고\n",
      "test  10  test  test\n"
     ]
    }
   ],
   "source": [
    "import pandas as pd\n",
    "\n",
    "df = pd.DataFrame(\n",
    "          [[15, '남', '은평중'], [17, '여', '동명여고'], [10, 'test', 'test']],\n",
    "          index=['서준', '대국', 'test'],\n",
    "          columns=['나이', '성별', '학교']\n",
    ")\n",
    "print(df)"
   ]
  },
  {
   "cell_type": "code",
   "execution_count": 6,
   "id": "021552a1-470b-4ced-a081-600ed0e38612",
   "metadata": {},
   "outputs": [
    {
     "name": "stdout",
     "output_type": "stream",
     "text": [
      "Index(['서준', '대국'], dtype='object')\n",
      "Index(['연령', '남녀', '소속'], dtype='object')\n",
      "    연령 남녀    소속\n",
      "서준  15  남   은평중\n",
      "대국  17  여  동명여고\n",
      "     연령 남녀    소속\n",
      "학생1  15  남   은평중\n",
      "학생2  17  여  동명여고\n"
     ]
    }
   ],
   "source": [
    "print(df.index)\n",
    "print(df.columns)\n",
    "\n",
    "df = df.rename(columns={'나이':'연령', '성별':'남녀', '학교':'소속'})\n",
    "print(df)\n",
    "\n",
    "df = df.rename(index={'서준':'학생1', '대국':'학생2'})\n",
    "print(df)"
   ]
  },
  {
   "cell_type": "code",
   "execution_count": 10,
   "id": "1626e67a-7312-4fe0-88b7-c40c23fff335",
   "metadata": {},
   "outputs": [
    {
     "data": {
      "text/html": [
       "<div>\n",
       "<style scoped>\n",
       "    .dataframe tbody tr th:only-of-type {\n",
       "        vertical-align: middle;\n",
       "    }\n",
       "\n",
       "    .dataframe tbody tr th {\n",
       "        vertical-align: top;\n",
       "    }\n",
       "\n",
       "    .dataframe thead th {\n",
       "        text-align: right;\n",
       "    }\n",
       "</style>\n",
       "<table border=\"1\" class=\"dataframe\">\n",
       "  <thead>\n",
       "    <tr style=\"text-align: right;\">\n",
       "      <th></th>\n",
       "      <th>나이</th>\n",
       "      <th>성별</th>\n",
       "      <th>학교</th>\n",
       "    </tr>\n",
       "  </thead>\n",
       "  <tbody>\n",
       "    <tr>\n",
       "      <th>서준</th>\n",
       "      <td>15</td>\n",
       "      <td>남</td>\n",
       "      <td>은평중</td>\n",
       "    </tr>\n",
       "    <tr>\n",
       "      <th>대국</th>\n",
       "      <td>17</td>\n",
       "      <td>여</td>\n",
       "      <td>동명여고</td>\n",
       "    </tr>\n",
       "  </tbody>\n",
       "</table>\n",
       "</div>"
      ],
      "text/plain": [
       "    나이 성별    학교\n",
       "서준  15  남   은평중\n",
       "대국  17  여  동명여고"
      ]
     },
     "execution_count": 10,
     "metadata": {},
     "output_type": "execute_result"
    }
   ],
   "source": [
    "df.drop('test', axis=0)"
   ]
  },
  {
   "cell_type": "code",
   "execution_count": null,
   "id": "bd29cd2a-9a6d-472e-afff-33aa2cd6bf20",
   "metadata": {},
   "outputs": [],
   "source": []
  }
 ],
 "metadata": {
  "kernelspec": {
   "display_name": "Python 3",
   "language": "python",
   "name": "python3"
  },
  "language_info": {
   "codemirror_mode": {
    "name": "ipython",
    "version": 3
   },
   "file_extension": ".py",
   "mimetype": "text/x-python",
   "name": "python",
   "nbconvert_exporter": "python",
   "pygments_lexer": "ipython3",
   "version": "3.12.1"
  }
 },
 "nbformat": 4,
 "nbformat_minor": 5
}

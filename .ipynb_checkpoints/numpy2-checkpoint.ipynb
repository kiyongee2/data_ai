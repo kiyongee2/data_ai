{
 "cells": [
  {
   "cell_type": "code",
   "execution_count": 11,
   "id": "e71c5c7f-ed2d-4020-8fef-db348ad6f38a",
   "metadata": {},
   "outputs": [
    {
     "name": "stdout",
     "output_type": "stream",
     "text": [
      "[[1 2 3]\n",
      " [4 5 6]]\n",
      "2\n",
      "(2, 3)\n",
      "int32\n",
      "<class 'numpy.ndarray'>\n"
     ]
    }
   ],
   "source": [
    "# 넘파이 배열의 기본 요소\n",
    "import numpy as np\n",
    "\n",
    "array = np.array([[1,2,3],\n",
    "                  [4,5,6]])\n",
    "\n",
    "print(array)\n",
    "print(array.ndim)\n",
    "print(array.shape)\n",
    "print(array.dtype)\n",
    "print(type(array))"
   ]
  },
  {
   "cell_type": "code",
   "execution_count": 19,
   "id": "dfc8bff6-fbbf-44bc-9137-b97918518f68",
   "metadata": {},
   "outputs": [
    {
     "name": "stdout",
     "output_type": "stream",
     "text": [
      "[[1 2 3]\n",
      " [4 5 6]]\n",
      "[[[1.+0.j 2.+0.j 3.+0.j]]]\n",
      "[[1 2 3]\n",
      " [4 5 6]]\n",
      "[[1 2]\n",
      " [3 4]]\n",
      "<class 'numpy.matrix'>\n"
     ]
    }
   ],
   "source": [
    "# 넘파이 배열 생성\n",
    "array1 = np.array([[1,2,3], [4,5,6]])\n",
    "array2 = np.array([1,2,3], dtype=complex, ndmin=3)\n",
    "array3 = np.array(array1, copy=False)\n",
    "array4 = np.array(np.mat('1 2; 3 4'), subok=True)\n",
    "\n",
    "print(array1)\n",
    "print(array2)\n",
    "print(array3)\n",
    "print(array4)\n",
    "print(type(array4)) #행렬"
   ]
  },
  {
   "cell_type": "code",
   "execution_count": 45,
   "id": "a4d86688-e053-4204-9066-cf26dcf3ad93",
   "metadata": {},
   "outputs": [
    {
     "name": "stdout",
     "output_type": "stream",
     "text": [
      "3\n",
      "2\n",
      "6\n"
     ]
    }
   ],
   "source": [
    "# 개별 단위 요소에 접근하기\n",
    "import numpy as np\n",
    "\n",
    "arr1 = np.array([1, 2, 3])\n",
    "arr2 = np.array([[1, 2],\n",
    "                [3, 4]])\n",
    "arr3 = np.array([[[1, 2], \n",
    "                  [3, 4]],\n",
    "                 [[5, 6], \n",
    "                  [7, 8]]])\n",
    "\n",
    "print(arr1[-1])\n",
    "print(arr2[0][1])\n",
    "print(arr3[1][0][1]) #첫번째 페이지의 두번째 행과 두번째 열에 접근"
   ]
  },
  {
   "cell_type": "code",
   "execution_count": 49,
   "id": "06ebf80d-bd36-4596-a315-917f028ad5a9",
   "metadata": {},
   "outputs": [
    {
     "name": "stdout",
     "output_type": "stream",
     "text": [
      "2\n",
      "4\n"
     ]
    }
   ],
   "source": [
    "# 배열의 블록 단위 요소에 접근하기\n",
    "import numpy as np\n",
    "\n",
    "array = np.array([[[1, 2], \n",
    "                  [3, 4]],\n",
    "                 [[5, 6], \n",
    "                  [7, 8]]])\n",
    "\n",
    "# 배열의 첫 번째 페이지의 행렬에서 짝수 요소만 출력\n",
    "for i in array[0]:\n",
    "    for j in i:\n",
    "        if j % 2 == 0:\n",
    "            print(j)\n",
    "\n",
    "array1 = "
   ]
  },
  {
   "cell_type": "code",
   "execution_count": 57,
   "id": "7ac29b5e-3892-4575-9a21-e285463ec4f8",
   "metadata": {},
   "outputs": [
    {
     "name": "stdout",
     "output_type": "stream",
     "text": [
      "(1280, 1920, 3)\n",
      "(300, 300, 3)\n",
      "[[[0 0 0]\n",
      "  [0 0 0]\n",
      "  [0 0 0]\n",
      "  ...\n",
      "  [0 0 0]\n",
      "  [0 0 0]\n",
      "  [0 0 0]]\n",
      "\n",
      " [[0 0 0]\n",
      "  [0 0 0]\n",
      "  [0 0 0]\n",
      "  ...\n",
      "  [0 0 0]\n",
      "  [0 0 0]\n",
      "  [0 0 0]]\n",
      "\n",
      " [[0 0 0]\n",
      "  [0 0 0]\n",
      "  [0 0 0]\n",
      "  ...\n",
      "  [0 0 0]\n",
      "  [0 0 0]\n",
      "  [0 0 0]]\n",
      "\n",
      " ...\n",
      "\n",
      " [[0 0 0]\n",
      "  [0 0 0]\n",
      "  [0 0 0]\n",
      "  ...\n",
      "  [0 0 0]\n",
      "  [0 0 0]\n",
      "  [0 0 0]]\n",
      "\n",
      " [[0 0 0]\n",
      "  [0 0 0]\n",
      "  [0 0 0]\n",
      "  ...\n",
      "  [0 0 0]\n",
      "  [0 0 0]\n",
      "  [0 0 0]]\n",
      "\n",
      " [[0 0 0]\n",
      "  [0 0 0]\n",
      "  [0 0 0]\n",
      "  ...\n",
      "  [0 0 0]\n",
      "  [0 0 0]\n",
      "  [0 0 0]]]\n"
     ]
    }
   ],
   "source": [
    "# 관심 역역\n",
    "\n",
    "array = np.zeros((1280, 1920, 3), np.uint8)\n",
    "\n",
    "x, y, w, h = 100, 100, 300, 300\n",
    "roi = array[x: x + w, y: y + h]\n",
    "\n",
    "print(array.shape)\n",
    "print(roi.shape)\n",
    "# print(array)\n",
    "print(roi)"
   ]
  },
  {
   "cell_type": "code",
   "execution_count": null,
   "id": "667436a0-8a9c-48b2-a2fc-0bcb4b3862b6",
   "metadata": {},
   "outputs": [],
   "source": []
  }
 ],
 "metadata": {
  "kernelspec": {
   "display_name": "Python 3 (ipykernel)",
   "language": "python",
   "name": "python3"
  },
  "language_info": {
   "codemirror_mode": {
    "name": "ipython",
    "version": 3
   },
   "file_extension": ".py",
   "mimetype": "text/x-python",
   "name": "python",
   "nbconvert_exporter": "python",
   "pygments_lexer": "ipython3",
   "version": "3.12.4"
  }
 },
 "nbformat": 4,
 "nbformat_minor": 5
}

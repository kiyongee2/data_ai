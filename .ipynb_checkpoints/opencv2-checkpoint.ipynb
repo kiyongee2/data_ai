{
 "cells": [
  {
   "cell_type": "code",
   "execution_count": 1,
   "id": "c6a681b8-d33a-4fd0-889f-5ca1f5ac00e8",
   "metadata": {},
   "outputs": [
    {
     "name": "stdout",
     "output_type": "stream",
     "text": [
      "img.shape  (427, 640, 3)\n",
      "height  427\n",
      "width  640\n"
     ]
    }
   ],
   "source": [
    "import cv2\n",
    "\n",
    "img = cv2.imread('./source/strawberry.jpg', cv2.IMREAD_COLOR)\n",
    "print('img.shape ', img.shape)\n",
    "\n",
    "# height, width, channel = img.shape\n",
    "height, width = img.shape[:2]\n",
    "\n",
    "print('height ', height)\n",
    "print('width ', width)\n",
    "# print('channel', channel)\n"
   ]
  },
  {
   "cell_type": "code",
   "execution_count": null,
   "id": "4f8e8650-9e33-4346-b5c7-bd816d10683d",
   "metadata": {},
   "outputs": [],
   "source": []
  }
 ],
 "metadata": {
  "kernelspec": {
   "display_name": "Python 3 (ipykernel)",
   "language": "python",
   "name": "python3"
  },
  "language_info": {
   "codemirror_mode": {
    "name": "ipython",
    "version": 3
   },
   "file_extension": ".py",
   "mimetype": "text/x-python",
   "name": "python",
   "nbconvert_exporter": "python",
   "pygments_lexer": "ipython3",
   "version": "3.12.4"
  }
 },
 "nbformat": 4,
 "nbformat_minor": 5
}

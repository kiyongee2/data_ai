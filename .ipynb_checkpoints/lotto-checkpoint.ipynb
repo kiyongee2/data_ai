{
 "cells": [
  {
   "cell_type": "code",
   "execution_count": null,
   "id": "9e9712e7-fb2b-42d7-9ecd-37e8da7384a3",
   "metadata": {},
   "outputs": [
    {
     "data": {
      "text/plain": [
       "'\\n1133회 당첨결과\\n(2024년 08월 17일 추첨)\\n\\n\\n당첨번호\\n\\n13\\n14\\n20\\n28\\n29\\n34\\n\\n\\n\\n보너스\\n23\\n\\n\\n'"
      ]
     },
     "execution_count": 1,
     "metadata": {},
     "output_type": "execute_result"
    }
   ],
   "source": [
    "import requests\n",
    "from bs4 import BeautifulSoup\n",
    "\n",
    "num = 1133\n",
    "url = f'https://dhlottery.co.kr/gameResult.do?method=byWin&drwNo={num}'\n",
    "response = requests.get(url)\n",
    "soup = BeautifulSoup(response.text, 'html.parser')\n",
    "\n",
    "win_result = soup.select_one('div.win_result')\n",
    "win_result.text"
   ]
  },
  {
   "cell_type": "code",
   "execution_count": null,
   "id": "9c3304e4-423e-44ed-8983-1db5972429c7",
   "metadata": {},
   "outputs": [
    {
     "name": "stdout",
     "output_type": "stream",
     "text": [
      "당첨번호 + 보너스번호\n",
      "['13', '14', '20', '28', '29', '34'] 23\n"
     ]
    }
   ],
   "source": [
    "win_result_list = win_result.text.split('\\n')\n",
    "win_result_list\n",
    "win_num = win_result.text.split('\\n')[7:13]\n",
    "# print(win_num)\n",
    "bonus_num = win_result.text.split('\\n')[-4]\n",
    "# print(bonus_num)\n",
    "print(\"당첨번호 + 보너스번호\")\n",
    "print(win_num, bonus_num)"
   ]
  },
  {
   "cell_type": "code",
   "execution_count": 1,
   "id": "b2e06ac3-867e-468b-9ba2-1f8473e0f4d4",
   "metadata": {},
   "outputs": [],
   "source": [
    "# 윈도우 프로그램 \n",
    "import requests\n",
    "from bs4 import BeautifulSoup\n",
    "from tkinter import *\n",
    "\n",
    "def lotto_win():\n",
    "    num = entry.get()\n",
    "    url = f'https://dhlottery.co.kr/gameResult.do?method=byWin&drwNo={num}'\n",
    "    response = requests.get(url)\n",
    "    soup = BeautifulSoup(response.text, 'html.parser')\n",
    "    \n",
    "    win_result = soup.select_one('div.win_result')\n",
    "    win_result.text\n",
    "\n",
    "    win_num = win_result.text.split('\\n')[7:13]\n",
    "    bonus_num = win_result.text.split('\\n')[-4]\n",
    "\n",
    "    text.delete(0.0, END)\n",
    "    text.insert(END, f'당첨번호: {win_num}\\n\\n보너스번호: {bonus_num}')\n",
    "\n",
    "window = Tk()\n",
    "window.title('로또 당첨 확인')\n",
    "\n",
    "Label(window, text=\"당첨 회차 입력\").grid(row=0, column=0, sticky=W)\n",
    "entry = Entry(window, bg='sky blue')\n",
    "entry.grid(row=1, column=0, sticky=W)\n",
    "\n",
    "# 추첨 버튼\n",
    "Button(window, text=\"당첨 번호 확인\", command=lotto_win).grid(row=2, column=0, sticky=E)\n",
    "\n",
    "# 출력\n",
    "text = Text(window, width=50, height=5, bg='light sky blue')\n",
    "text.grid(row=3, column=0, sticky=W)\n",
    "\n",
    "window.mainloop()"
   ]
  },
  {
   "cell_type": "code",
   "execution_count": null,
   "id": "d5f006a6-854b-4325-977b-d64d49eb6297",
   "metadata": {},
   "outputs": [],
   "source": []
  }
 ],
 "metadata": {
  "kernelspec": {
   "display_name": "Python 3",
   "language": "python",
   "name": "python3"
  },
  "language_info": {
   "codemirror_mode": {
    "name": "ipython",
    "version": 3
   },
   "file_extension": ".py",
   "mimetype": "text/x-python",
   "name": "python",
   "nbconvert_exporter": "python",
   "pygments_lexer": "ipython3",
   "version": "3.12.4"
  }
 },
 "nbformat": 4,
 "nbformat_minor": 5
}

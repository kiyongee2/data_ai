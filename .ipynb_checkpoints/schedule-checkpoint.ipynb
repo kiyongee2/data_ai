{
 "cells": [
  {
   "cell_type": "code",
   "execution_count": 5,
   "id": "0eaa9bdd-ac02-456a-8b52-5d94315a416d",
   "metadata": {},
   "outputs": [
    {
     "name": "stdout",
     "output_type": "stream",
     "text": [
      "=== 학원 시간표 ===\n",
      "     월요일 수요일  금요일\n",
      "1교시   국어  영어  NaN\n",
      "2교시   수학  영어   수학\n",
      "3교시  NaN  수학   국어\n"
     ]
    }
   ],
   "source": [
    "import pandas as pd\n",
    "\n",
    "#데이터 생성\n",
    "월 = pd.Series({'1교시':'국어', '2교시':'수학'})\n",
    "수 = pd.Series({'1교시':'영어', '2교시':'영어', '3교시':'수학'})\n",
    "금 = pd.Series({'2교시':'수학', '3교시':'국어'})\n",
    "\n",
    "#DataFrame\n",
    "학원시간표 = pd.DataFrame({\n",
    "    '월요일': 월,\n",
    "    '수요일': 수,\n",
    "    '금요일': 금\n",
    "})\n",
    "print('=== 학원 시간표 ===')\n",
    "print(학원시간표)"
   ]
  },
  {
   "cell_type": "code",
   "execution_count": 11,
   "id": "27462d9f-18cd-4bbb-8399-48d60034c01a",
   "metadata": {},
   "outputs": [
    {
     "data": {
      "text/html": [
       "<div>\n",
       "<style scoped>\n",
       "    .dataframe tbody tr th:only-of-type {\n",
       "        vertical-align: middle;\n",
       "    }\n",
       "\n",
       "    .dataframe tbody tr th {\n",
       "        vertical-align: top;\n",
       "    }\n",
       "\n",
       "    .dataframe thead th {\n",
       "        text-align: right;\n",
       "    }\n",
       "</style>\n",
       "<table border=\"1\" class=\"dataframe\">\n",
       "  <thead>\n",
       "    <tr style=\"text-align: right;\">\n",
       "      <th></th>\n",
       "      <th>월요일</th>\n",
       "      <th>수요일</th>\n",
       "      <th>금요일</th>\n",
       "    </tr>\n",
       "  </thead>\n",
       "  <tbody>\n",
       "    <tr>\n",
       "      <th>1교시</th>\n",
       "      <td>국어</td>\n",
       "      <td>영어</td>\n",
       "      <td>NaN</td>\n",
       "    </tr>\n",
       "    <tr>\n",
       "      <th>2교시</th>\n",
       "      <td>수학</td>\n",
       "      <td>영어</td>\n",
       "      <td>수학</td>\n",
       "    </tr>\n",
       "    <tr>\n",
       "      <th>3교시</th>\n",
       "      <td>NaN</td>\n",
       "      <td>수학</td>\n",
       "      <td>국어</td>\n",
       "    </tr>\n",
       "  </tbody>\n",
       "</table>\n",
       "</div>"
      ],
      "text/plain": [
       "     월요일 수요일  금요일\n",
       "1교시   국어  영어  NaN\n",
       "2교시   수학  영어   수학\n",
       "3교시  NaN  수학   국어"
      ]
     },
     "execution_count": 11,
     "metadata": {},
     "output_type": "execute_result"
    }
   ],
   "source": [
    "# csv파일로 저장\n",
    "학원시간표.to_csv(\"./source/학원시간표.csv\")\n",
    "\n",
    "# 학원시간표 읽어오기\n",
    "# col=0 (교시), col = 1(월요일)\n",
    "학원시간표_정리 = pd.read_csv(\"./source/학원시간표.csv\", index_col=0)\n",
    "학원시간표_정리"
   ]
  },
  {
   "cell_type": "code",
   "execution_count": 21,
   "id": "a42c51f0-f178-49a2-803e-2201bf944584",
   "metadata": {},
   "outputs": [
    {
     "name": "stdout",
     "output_type": "stream",
     "text": [
      "=== 수정된 학원 시간표 ===\n",
      "    월요일 수요일 금요일\n",
      "1교시  국어  영어   X\n",
      "2교시  수학  영어  수학\n",
      "3교시   X  수학  국어\n",
      "=== 수요일 영어만 있는 시간표 ===\n",
      "[1교시     True\n",
      "2교시     True\n",
      "3교시    False\n",
      "Name: 수요일, dtype: bool]\n"
     ]
    }
   ],
   "source": [
    "#NaN -> X로 변경\n",
    "학원시간표_정리.loc['1교시', '금요일'] = 'X'\n",
    "학원시간표_정리.loc['3교시', '월요일'] = 'X'\n",
    "학원시간표_정리\n",
    "\n",
    "print(\"=== 수정된 학원 시간표 ===\")\n",
    "print(학원시간표_정리)\n",
    "\n",
    "print(\"=== 수요일 영어만 있는 시간표 ===\")\n",
    "print([학원시간표_정리['수요일'] == '영어'])\n",
    "# print(학원시간표_정리[학원시간표_정리['수요일'] == '영어'])"
   ]
  },
  {
   "cell_type": "code",
   "execution_count": null,
   "id": "b2f538ed-cc7e-4438-af7f-f5b9261382ca",
   "metadata": {},
   "outputs": [],
   "source": []
  }
 ],
 "metadata": {
  "kernelspec": {
   "display_name": "Python 3 (ipykernel)",
   "language": "python",
   "name": "python3"
  },
  "language_info": {
   "codemirror_mode": {
    "name": "ipython",
    "version": 3
   },
   "file_extension": ".py",
   "mimetype": "text/x-python",
   "name": "python",
   "nbconvert_exporter": "python",
   "pygments_lexer": "ipython3",
   "version": "3.12.4"
  }
 },
 "nbformat": 4,
 "nbformat_minor": 5
}

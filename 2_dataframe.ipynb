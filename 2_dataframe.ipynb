{
 "cells": [
  {
   "cell_type": "markdown",
   "id": "86aa7f3b-7648-48ac-9123-b0608b5252d1",
   "metadata": {},
   "source": [
    "##### pandas - DataFrame 클래스 : 행(row)과 열(column)로 이루어진 2차원 리스트이다. "
   ]
  },
  {
   "cell_type": "code",
   "execution_count": 2,
   "id": "32886873-1a6a-4a1f-b2a4-7d642910c121",
   "metadata": {},
   "outputs": [
    {
     "data": {
      "text/html": [
       "<div>\n",
       "<style scoped>\n",
       "    .dataframe tbody tr th:only-of-type {\n",
       "        vertical-align: middle;\n",
       "    }\n",
       "\n",
       "    .dataframe tbody tr th {\n",
       "        vertical-align: top;\n",
       "    }\n",
       "\n",
       "    .dataframe thead th {\n",
       "        text-align: right;\n",
       "    }\n",
       "</style>\n",
       "<table border=\"1\" class=\"dataframe\">\n",
       "  <thead>\n",
       "    <tr style=\"text-align: right;\">\n",
       "      <th></th>\n",
       "      <th>영희</th>\n",
       "      <th>철수</th>\n",
       "    </tr>\n",
       "  </thead>\n",
       "  <tbody>\n",
       "    <tr>\n",
       "      <th>2018</th>\n",
       "      <td>143</td>\n",
       "      <td>165</td>\n",
       "    </tr>\n",
       "    <tr>\n",
       "      <th>2019</th>\n",
       "      <td>150</td>\n",
       "      <td>172</td>\n",
       "    </tr>\n",
       "    <tr>\n",
       "      <th>2020</th>\n",
       "      <td>157</td>\n",
       "      <td>175</td>\n",
       "    </tr>\n",
       "    <tr>\n",
       "      <th>2021</th>\n",
       "      <td>160</td>\n",
       "      <td>180</td>\n",
       "    </tr>\n",
       "  </tbody>\n",
       "</table>\n",
       "</div>"
      ],
      "text/plain": [
       "       영희   철수\n",
       "2018  143  165\n",
       "2019  150  172\n",
       "2020  157  175\n",
       "2021  160  180"
      ]
     },
     "execution_count": 2,
     "metadata": {},
     "output_type": "execute_result"
    }
   ],
   "source": [
    "import pandas as pd\n",
    "# 1. 시리즈 결합해서 데이터프레임 만들기\n",
    "index=[\"2018\", \"2019\", \"2020\", \"2021\"]\n",
    "\n",
    "younghee = pd.Series([143, 150, 157, 160], index=index)\n",
    "cheolsu = pd.Series([165, 172, 175, 180], index=index)\n",
    "\n",
    "growth = pd.DataFrame({\n",
    "    '영희': younghee,\n",
    "    '철수': cheolsu\n",
    "})\n",
    "growth"
   ]
  },
  {
   "cell_type": "code",
   "execution_count": 40,
   "id": "2c1a9fb5-77e9-4c6c-9168-4d1a70b59474",
   "metadata": {},
   "outputs": [
    {
     "name": "stdout",
     "output_type": "stream",
     "text": [
      "       영희   철수\n",
      "2018  143  165\n",
      "2019  150  172\n",
      "2020  157  175\n",
      "2021  160  180\n",
      "       영희   철수\n",
      "2018  143  165\n",
      "2019  150  172\n",
      "2020  157  175\n",
      "2021  160  180\n",
      "       영희   철수\n",
      "2020  157  175\n",
      "2021  160  180\n",
      "       영희   철수\n",
      "2020  157  175\n",
      "2021  160  180\n"
     ]
    }
   ],
   "source": [
    "# 일반적인 데이터프레임 만들기\n",
    "index=[\"2018\", \"2019\", \"2020\", \"2021\"]\n",
    "\n",
    "data = {\n",
    "    '영희': [143, 150, 157, 160],\n",
    "    '철수': [165, 172, 175, 180]\n",
    "}\n",
    "\n",
    "growth = pd.DataFrame(data, index=index)\n",
    "# print(growth)\n",
    "# print(growth.columns) #칼럼\n",
    "# print(growth.values)  #값\n",
    "\n",
    "# 열 선택\n",
    "# print(growth['철수'])\n",
    "\n",
    "# 열이름도 출력\n",
    "print(growth[['철수']])\n",
    "print(growth[['영희', '철수']])\n",
    "\n",
    "# 행 선택\n",
    "# loc[행(문자)], iloc[행(숫자)]\n",
    "print(growth.loc['2020'])\n",
    "print(growth.iloc[2])\n",
    "\n",
    "# 다중 행 선택\n",
    "print(growth.loc[['2020', '2021']])\n",
    "print(growth.iloc[[2, 3]])"
   ]
  },
  {
   "cell_type": "code",
   "execution_count": 86,
   "id": "8720079d-de48-4098-ba3e-3edc3af8b87e",
   "metadata": {},
   "outputs": [
    {
     "name": "stdout",
     "output_type": "stream",
     "text": [
      "       영희   철수\n",
      "2018  143  165\n",
      "2019  150  172\n",
      "2020  157  175\n",
      "2021  160  180\n",
      "175\n",
      "175\n"
     ]
    }
   ],
   "source": [
    "index=[\"2018\", \"2019\", \"2020\", \"2021\"]\n",
    "\n",
    "data = {\n",
    "    '영희': [143, 150, 157, 160],\n",
    "    '철수': [165, 172, 175, 180]\n",
    "}\n",
    "\n",
    "growth = pd.DataFrame(data, index=index)\n",
    "print(growth)\n",
    "\n",
    "# 특정 요소 1개 선택\n",
    "# loc[행(문자), 열(문자)], iloc[행(숫자), 열(숫자)]\n",
    "print(growth.loc['2020', '철수'])\n",
    "print(growth.iloc[2, 1])"
   ]
  },
  {
   "cell_type": "code",
   "execution_count": 20,
   "id": "836967c7-087e-4ddf-a602-9c8fd1d34c5f",
   "metadata": {},
   "outputs": [
    {
     "name": "stdout",
     "output_type": "stream",
     "text": [
      "       영희   철수\n",
      "2018  143  165\n",
      "2019  150  172\n",
      "2020  157  175\n",
      "2021  160  180\n",
      "       영희   철수\n",
      "2018  143  165\n",
      "2019  150  172\n",
      "2020  157  175\n",
      "2021  160  180\n",
      "2022  162  181\n",
      "       영희   철수   대국\n",
      "2018  143  165  160\n",
      "2019  150  172  165\n",
      "2020  157  175  170\n",
      "2021  160  180  175\n",
      "2022  162  181  180\n",
      "       영희   철수   대국\n",
      "2018  143  165  160\n",
      "2019  150  172  165\n",
      "2021  160  180  175\n",
      "2022  162  181  180\n",
      "Index(['영희', '철수', '대국'], dtype='object')\n",
      "대국\n",
      "       영희   철수\n",
      "2018  143  165\n",
      "2019  150  172\n",
      "2020  157  175\n",
      "2021  160  180\n",
      "2022  162  181\n"
     ]
    }
   ],
   "source": [
    "import pandas as pd\n",
    "\n",
    "index=[\"2018\", \"2019\", \"2020\", \"2021\"]\n",
    "\n",
    "data = {\n",
    "    '영희': [143, 150, 157, 160],\n",
    "    '철수': [165, 172, 175, 180]\n",
    "}\n",
    "\n",
    "growth = pd.DataFrame(data, index=index)\n",
    "print(growth)\n",
    "\n",
    "# 행 추가 - 2022년\n",
    "growth.loc['2022'] = [162, 181]\n",
    "print(growth)\n",
    "\n",
    "# 열 추가\n",
    "growth['대국'] = [160, 165, 170, 175, 180]\n",
    "print(growth)\n",
    "\n",
    "# 행 삭제 - 2020년\n",
    "# 복사 - 원본 유지 (깊은 복사 - 원본과 별도로 삭제, 수정) - copy()\n",
    "growth2 = growth.copy() \n",
    "growth2 = growth2.drop('2020', axis=0) #axis=0은 행 삭제시 생략 가능\n",
    "print(growth2)\n",
    "\n",
    "# 열 삭제 - '대국'\n",
    "growth3 = growth.copy() \n",
    "print(growth3.columns)\n",
    "print(growth3.columns[-1])\n",
    "# growth3.drop(columns='대국', inplace=True) #inplace=True - 즉시실행\n",
    "growth3 = growth3.drop('대국', axis=1) #axis=1은 열 삭제시 \n",
    "print(growth3)"
   ]
  },
  {
   "cell_type": "code",
   "execution_count": 30,
   "id": "6a107d6f",
   "metadata": {},
   "outputs": [
    {
     "name": "stdout",
     "output_type": "stream",
     "text": [
      "       영희   철수\n",
      "2018  143  165\n",
      "2019  150  172\n",
      "2020  157  175\n",
      "2021  160  180\n",
      "175\n",
      "       영희   철수\n",
      "2018  143  165\n",
      "2019  150  172\n",
      "2020  157  177\n",
      "2021  160  180\n",
      "Index(['영희', '철수'], dtype='object')\n",
      "영희\n",
      "      younghee  cheolsu\n",
      "2018       143      165\n",
      "2019       150      172\n",
      "2020       157      177\n",
      "2021       160      180\n"
     ]
    }
   ],
   "source": [
    "import pandas as pd\n",
    "\n",
    "index=[\"2018\", \"2019\", \"2020\", \"2021\"]\n",
    "\n",
    "data = {\n",
    "    '영희': [143, 150, 157, 160],\n",
    "    '철수': [165, 172, 175, 180]\n",
    "}\n",
    "\n",
    "growth = pd.DataFrame(data, index=index)\n",
    "print(growth)\n",
    "\n",
    "# 요소 수정(변경)\n",
    "# '철수'의 2020년 키를 177로 변경\n",
    "print(growth.loc['2020', '철수'])\n",
    "growth.loc['2020', '철수'] = 177\n",
    "print(growth)\n",
    "\n",
    "# 칼럼 이름 변경\n",
    "# '영희'를 'younghee'로 변경\n",
    "print(growth.columns)\n",
    "print(growth.columns[0])\n",
    "# growth.rename(columns={'영희': 'younghee'}, inplace=True)\n",
    "growth.rename(columns={'영희': 'younghee', '철수': 'cheolsu'}, inplace=True)\n",
    "print(growth)"
   ]
  },
  {
   "cell_type": "code",
   "execution_count": 40,
   "id": "f18d2802-8f99-4891-bd7b-861625b0fefa",
   "metadata": {},
   "outputs": [
    {
     "name": "stdout",
     "output_type": "stream",
     "text": [
      "       영희   철수\n",
      "연도            \n",
      "2018  143  165\n",
      "2019  150  172\n",
      "2020  157  175\n",
      "2021  160  180\n",
      "       영희   철수\n",
      "연도            \n",
      "2018  143  165\n",
      "2019  150  172\n",
      "2020  157  175\n",
      "2021  160  180\n"
     ]
    }
   ],
   "source": [
    "import pandas as pd\n",
    "\n",
    "# 인덱스를 칼럼이름으로 설정하기\n",
    "data = {\n",
    "    '연도': [\"2018\", \"2019\", \"2020\", \"2021\"],\n",
    "    '영희': [143, 150, 157, 160],\n",
    "    '철수': [165, 172, 175, 180]\n",
    "}\n",
    "\n",
    "growth = pd.DataFrame(data)\n",
    "growth = growth.set_index('연도')\n",
    "print(growth)\n",
    "\n",
    "# csv 파일 쓰기\n",
    "growth.to_csv('./datas/growth.csv')\n",
    "\n",
    "# # csv 파일 읽기 - to_read_csv(경로)\n",
    "growth = pd.read_csv('./datas/growth.csv', index_col=0)\n",
    "print(growth)"
   ]
  },
  {
   "cell_type": "code",
   "execution_count": 3,
   "id": "b080b5b7",
   "metadata": {},
   "outputs": [
    {
     "name": "stdout",
     "output_type": "stream",
     "text": [
      "       영희   철수\n",
      "2018  143  165\n",
      "2019  150  172\n",
      "2020  157  175\n",
      "2021  160  180\n"
     ]
    }
   ],
   "source": [
    "import pandas as pd\n",
    "\n",
    "# data를 이차원 리스트로 만들기\n",
    "data = [[143, 165], [150, 172], [157, 175], [160, 180]]\n",
    "index = [\"2018\", \"2019\", \"2020\", \"2021\"]\n",
    "\n",
    "growth = pd.DataFrame(data, columns=['영희', '철수'], index=index)\n",
    "print(growth)"
   ]
  },
  {
   "cell_type": "code",
   "execution_count": null,
   "id": "077b77cd-65c2-43af-b23e-80b4ea3885db",
   "metadata": {},
   "outputs": [
    {
     "name": "stdout",
     "output_type": "stream",
     "text": [
      "    국어  수학   영어\n",
      "재천  90  80   85\n",
      "선영  80  75   95\n",
      "일성  70  95  100\n"
     ]
    }
   ],
   "source": [
    "# 실습 2. 데이터 프레임 만들기\n",
    "index = ['재천', '선영', '일성']\n",
    "\n",
    "score = {\n",
    "    '국어' : [90, 80, 70], \n",
    "    '수학' : [80, 75, 95],\n",
    "    '영어' : [85, 95, 100]\n",
    "}\n",
    "\n",
    "df = pd.DataFrame(score, index=index)\n",
    "print(df)"
   ]
  }
 ],
 "metadata": {
  "kernelspec": {
   "display_name": "Python 3 (ipykernel)",
   "language": "python",
   "name": "python3"
  },
  "language_info": {
   "codemirror_mode": {
    "name": "ipython",
    "version": 3
   },
   "file_extension": ".py",
   "mimetype": "text/x-python",
   "name": "python",
   "nbconvert_exporter": "python",
   "pygments_lexer": "ipython3",
   "version": "3.12.4"
  }
 },
 "nbformat": 4,
 "nbformat_minor": 5
}

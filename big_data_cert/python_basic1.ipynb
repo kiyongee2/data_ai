{
 "cells": [
  {
   "cell_type": "code",
   "execution_count": 23,
   "id": "b8c3f35c-4e18-48bf-8d60-31dab842dae5",
   "metadata": {},
   "outputs": [
    {
     "data": {
      "text/plain": [
       "14"
      ]
     },
     "execution_count": 23,
     "metadata": {},
     "output_type": "execute_result"
    }
   ],
   "source": [
    "# 산술 연산\n",
    "16 / 3\n",
    "\n",
    "16 // 3\n",
    "\n",
    "16 % 3\n",
    "\n",
    "# 거듭제곱\n",
    "4 ** 2\n",
    "4 * 4\n",
    "\n",
    "# 제곱근\n",
    "16 ** 0.5\n",
    "\n",
    "import numpy as np\n",
    "np.sqrt(16)\n",
    "\n",
    "# 우선 순위\n",
    "4 + 3 * 2\n",
    "(4 + 3) * 2\n",
    "\n",
    "# 문자 더하기\n",
    "\"py\" + \"thon\"\n",
    "\n",
    "\"py\" * 3\n",
    "\n",
    "\"py\" + \"3\""
   ]
  },
  {
   "cell_type": "code",
   "execution_count": 33,
   "id": "2e5d9fcb-a135-43d0-abd0-7f49d2b95681",
   "metadata": {},
   "outputs": [
    {
     "data": {
      "text/plain": [
       "2"
      ]
     },
     "execution_count": 33,
     "metadata": {},
     "output_type": "execute_result"
    }
   ],
   "source": [
    "# 자료형\n",
    "\n",
    "type(1)\n",
    "\n",
    "type(1.1)\n",
    "\n",
    "type(\"hello\")\n",
    "\n",
    "type(\"3\")\n",
    "\n",
    "type(True), type(False)\n",
    "\n",
    "# bool 연산\n",
    "True + False + True"
   ]
  },
  {
   "cell_type": "code",
   "execution_count": 47,
   "id": "c672bd8c-23f7-419d-9aaf-49d2f50ceba5",
   "metadata": {},
   "outputs": [
    {
     "name": "stdout",
     "output_type": "stream",
     "text": [
      "9500\n",
      "3500\n",
      "10\n",
      "20\n",
      "30\n"
     ]
    }
   ],
   "source": [
    "# 변수\n",
    "americano = 4500\n",
    "americano\n",
    "\n",
    "latte = 5000\n",
    "latte\n",
    "\n",
    "americano + latte\n",
    "\n",
    "result = americano + latte\n",
    "print(result)\n",
    "\n",
    "americano = americano - 1000\n",
    "print(americano)\n",
    "\n",
    "# 다중 변수 할당\n",
    "a, b = 10, 20\n",
    "print(a)\n",
    "print(b)\n",
    "print(a + b)"
   ]
  },
  {
   "cell_type": "code",
   "execution_count": 63,
   "id": "85cd4634-8a38-4b3c-bafe-95715aafcfce",
   "metadata": {},
   "outputs": [
    {
     "name": "stdout",
     "output_type": "stream",
     "text": [
      "2.17\n",
      "<class 'float'>\n",
      "2.17\n",
      "2.17는 실수입니다\n",
      "정수형:  2\n"
     ]
    },
    {
     "name": "stdin",
     "output_type": "stream",
     "text": [
      "숫자 입력 1\n"
     ]
    },
    {
     "name": "stdout",
     "output_type": "stream",
     "text": [
      "1\n",
      "11\n"
     ]
    }
   ],
   "source": [
    "# 자료형 변환\n",
    "# 암시적(암묵적) 형 변환\n",
    "a = 2\n",
    "b = 0.17\n",
    "a = a + b\n",
    "print(a)\n",
    "print(type(a))\n",
    "\n",
    "# 명시적 형변환(캐스팅 - casting)\n",
    "box = 2.17\n",
    "print(box)\n",
    "print(str(box) + \"는 실수입니다\")\n",
    "print(\"정수형: \", int(box))\n",
    "\n",
    "# 입력은 문자형이므로 숫자로 변환함\n",
    "num = input(\"숫자 입력\")\n",
    "num = int(num)\n",
    "print(num)\n",
    "print(num + 10)"
   ]
  },
  {
   "cell_type": "code",
   "execution_count": 79,
   "id": "ee6790b9-34f3-4a5b-8c43-6dc0743a7c18",
   "metadata": {},
   "outputs": [
    {
     "data": {
      "text/plain": [
       "False"
      ]
     },
     "execution_count": 79,
     "metadata": {},
     "output_type": "execute_result"
    }
   ],
   "source": [
    "# 비교 연산자\n",
    "10 > 5\n",
    "\n",
    "10 < 5\n",
    "\n",
    "10 == 10\n",
    "\n",
    "10 != 5\n",
    "\n",
    "a , b = 10, 10\n",
    "\n",
    "a == b\n",
    "\n",
    "a >= b\n",
    "\n",
    "a > b\n",
    "\n",
    "c, d, e = \"빅데이터\", \"빅데이터\", \"데이터\"\n",
    "\n",
    "c == d\n",
    "d == e"
   ]
  },
  {
   "cell_type": "code",
   "execution_count": 87,
   "id": "88d78e96-875d-4d2e-b351-dc06d391f7b0",
   "metadata": {},
   "outputs": [
    {
     "name": "stdout",
     "output_type": "stream",
     "text": [
      "B\n",
      "False\n",
      "True\n",
      "B\n",
      "실행\n"
     ]
    }
   ],
   "source": [
    "# 조건문\n",
    "score = 10\n",
    "\n",
    "# if\n",
    "if score >= 10:\n",
    "    print(\"10보다 크거나 같다\")\n",
    "\n",
    "# if ~ else\n",
    "if score >= 10:\n",
    "    print(\"10보다 크거나 같다\")\n",
    "else:\n",
    "    print(\"10보다 작다\")\n",
    "\n",
    "# 다중 조건문 \n",
    "점수 = 87\n",
    "\n",
    "if 점수 >= 90:\n",
    "    print('A')\n",
    "elif 점수 >= 80:\n",
    "    print('B')\n",
    "elif 점수 >= 70:\n",
    "    print('C')\n",
    "else:\n",
    "    print('D')\n",
    "    \n",
    "# True / False 확인\n",
    "print(점수 >= 90)\n",
    "print(점수 >= 80)\n",
    "\n",
    "if 점수 >= 90 and 점수 <= 100:\n",
    "    print('A')\n",
    "elif 점수 >= 80 and 점수 < 90:\n",
    "    print('B')\n",
    "elif 점수 >= 70 and 점수 < 80:\n",
    "    print('C')\n",
    "else:\n",
    "    print('D')\n",
    "\n",
    "if True:\n",
    "    print(\"실행\")\n",
    "\n",
    "if False:\n",
    "    print(\"무시\")"
   ]
  },
  {
   "cell_type": "code",
   "execution_count": 153,
   "id": "40a7bd91-276c-4ecb-81f4-908a866ee1f0",
   "metadata": {},
   "outputs": [
    {
     "name": "stdout",
     "output_type": "stream",
     "text": [
      "4\n",
      "8\n",
      "8\n",
      "[4, 2]\n",
      "[10, 5, 8]\n",
      "[4, 2, 10, 5, 8]\n",
      "['길벗', '시나공', '빅데이터']\n",
      "['길벗', '자격증', '시나공', '빅데이터']\n",
      "['자격증', '시나공', '빅데이터']\n"
     ]
    }
   ],
   "source": [
    "# 리스트\n",
    "listbox = [4, 2, 10, 5, 8]\n",
    "listbox\n",
    "type(listbox)\n",
    "\n",
    "# 인덱싱 접근\n",
    "print(listbox[0])\n",
    "print(listbox[4])\n",
    "print(listbox[-1])\n",
    "\n",
    "# 문자 리스트\n",
    "listbox2 = [\"길벗\", \"시나공\", \"빅데이터\"]\n",
    "print(listbox2)\n",
    "\n",
    "# 요소(값) 추가\n",
    "listbox2.append(\"분석\")\n",
    "listbox2.insert(1, \"자격증\")\n",
    "\n",
    "# 요소 삭제\n",
    "# del listbox2[0]\n",
    "listbox2.pop()\n",
    "print(listbox2)"
   ]
  },
  {
   "cell_type": "code",
   "execution_count": 161,
   "id": "e4fb8a19-1cc9-4cb8-bf88-aeb1826d35d5",
   "metadata": {
    "scrolled": true
   },
   "outputs": [
    {
     "name": "stdout",
     "output_type": "stream",
     "text": [
      "{'name': '쿠키', 'level': 5}\n",
      "<class 'dict'>\n",
      "dict_keys(['name', 'level'])\n",
      "dict_values(['쿠키', 5])\n",
      "쿠키\n",
      "5\n",
      "{'name': '쿠키', 'level': 5, 'id': 'cookie'}\n",
      "6\n",
      "{'name': '쿠키', 'level': 6, 'id': 'cookie'}\n",
      "{'요리': ['분식', '한식', '중식'], '점포수': [3, 4, 1]}\n"
     ]
    }
   ],
   "source": [
    "# 딕셔너리\n",
    "dictbox = {\"name\": \"쿠키\", \"level\": 5}\n",
    "print(dictbox)\n",
    "print(type(dictbox))\n",
    "\n",
    "# 키, 값\n",
    "print(dictbox.keys())\n",
    "print(dictbox.values())\n",
    "\n",
    "# 값 조회\n",
    "print(dictbox[\"name\"])\n",
    "print(dictbox[\"level\"])\n",
    "\n",
    "# 값 추가\n",
    "dictbox[\"id\"] = \"cookie\"\n",
    "print(dictbox)\n",
    "\n",
    "# 값 변경(업데이트)\n",
    "dictbox[\"level\"] = 6\n",
    "print(dictbox[\"level\"])\n",
    "\n",
    "# 값 삭제\n",
    "# del dictbox[\"name\"]\n",
    "print(dictbox)\n",
    "\n",
    "# 딕셔너리를 리스트로 변환\n",
    "list(dictbox.values())\n",
    "\n",
    "# 딕셔너리 생성\n",
    "cook = [\"분식\", \"한식\", \"중식\"]\n",
    "number = [3, 4, 1]\n",
    "\n",
    "store = {\n",
    "    \"요리\": cook,\n",
    "    \"점포수\": number \n",
    "}\n",
    "print(store)"
   ]
  },
  {
   "cell_type": "code",
   "execution_count": 177,
   "id": "107ad560-380c-4e14-b488-1fff2975c038",
   "metadata": {},
   "outputs": [
    {
     "name": "stdout",
     "output_type": "stream",
     "text": [
      "2\n",
      "8\n",
      "10\n",
      "[2, 4, 6]\n",
      "[2, 4, 6]\n",
      "[2, 4, 6, 8]\n",
      "[2, 4, 6, 8, 10]\n",
      "[2, 6, 10]\n"
     ]
    }
   ],
   "source": [
    "# 인덱싱과 슬라이싱\n",
    "even = [2, 4, 6, 8, 10]\n",
    "\n",
    "print(even[0])\n",
    "print(even[3])\n",
    "print(even[-1])\n",
    "\n",
    "# 시작인덱스 : 끝인덱스\n",
    "print(even[0:3])\n",
    "print(even[:3])\n",
    "print(even[:-1])\n",
    "print(even[:])\n",
    "\n",
    "print(even[::2]) "
   ]
  }
 ],
 "metadata": {
  "kernelspec": {
   "display_name": "Python 3 (ipykernel)",
   "language": "python",
   "name": "python3"
  },
  "language_info": {
   "codemirror_mode": {
    "name": "ipython",
    "version": 3
   },
   "file_extension": ".py",
   "mimetype": "text/x-python",
   "name": "python",
   "nbconvert_exporter": "python",
   "pygments_lexer": "ipython3",
   "version": "3.12.4"
  }
 },
 "nbformat": 4,
 "nbformat_minor": 5
}

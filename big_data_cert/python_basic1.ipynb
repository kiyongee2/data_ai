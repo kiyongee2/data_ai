{
 "cells": [
  {
   "cell_type": "code",
   "execution_count": 23,
   "id": "b8c3f35c-4e18-48bf-8d60-31dab842dae5",
   "metadata": {},
   "outputs": [
    {
     "data": {
      "text/plain": [
       "14"
      ]
     },
     "execution_count": 23,
     "metadata": {},
     "output_type": "execute_result"
    }
   ],
   "source": [
    "# 산술 연산\n",
    "16 / 3\n",
    "\n",
    "16 // 3\n",
    "\n",
    "16 % 3\n",
    "\n",
    "# 거듭제곱\n",
    "4 ** 2\n",
    "4 * 4\n",
    "\n",
    "# 제곱근\n",
    "16 ** 0.5\n",
    "\n",
    "import numpy as np\n",
    "np.sqrt(16)\n",
    "\n",
    "# 우선 순위\n",
    "4 + 3 * 2\n",
    "(4 + 3) * 2\n",
    "\n",
    "# 문자 더하기\n",
    "\"py\" + \"thon\"\n",
    "\n",
    "\"py\" * 3\n",
    "\n",
    "\"py\" + \"3\""
   ]
  },
  {
   "cell_type": "code",
   "execution_count": 33,
   "id": "2e5d9fcb-a135-43d0-abd0-7f49d2b95681",
   "metadata": {},
   "outputs": [
    {
     "data": {
      "text/plain": [
       "2"
      ]
     },
     "execution_count": 33,
     "metadata": {},
     "output_type": "execute_result"
    }
   ],
   "source": [
    "# 자료형\n",
    "\n",
    "type(1)\n",
    "\n",
    "type(1.1)\n",
    "\n",
    "type(\"hello\")\n",
    "\n",
    "type(\"3\")\n",
    "\n",
    "type(True), type(False)\n",
    "\n",
    "# bool 연산\n",
    "True + False + True"
   ]
  },
  {
   "cell_type": "code",
   "execution_count": 47,
   "id": "c672bd8c-23f7-419d-9aaf-49d2f50ceba5",
   "metadata": {},
   "outputs": [
    {
     "name": "stdout",
     "output_type": "stream",
     "text": [
      "9500\n",
      "3500\n",
      "10\n",
      "20\n",
      "30\n"
     ]
    }
   ],
   "source": [
    "# 변수\n",
    "americano = 4500\n",
    "americano\n",
    "\n",
    "latte = 5000\n",
    "latte\n",
    "\n",
    "americano + latte\n",
    "\n",
    "result = americano + latte\n",
    "print(result)\n",
    "\n",
    "americano = americano - 1000\n",
    "print(americano)\n",
    "\n",
    "# 다중 변수 할당\n",
    "a, b = 10, 20\n",
    "print(a)\n",
    "print(b)\n",
    "print(a + b)"
   ]
  },
  {
   "cell_type": "code",
   "execution_count": 63,
   "id": "85cd4634-8a38-4b3c-bafe-95715aafcfce",
   "metadata": {},
   "outputs": [
    {
     "name": "stdout",
     "output_type": "stream",
     "text": [
      "2.17\n",
      "<class 'float'>\n",
      "2.17\n",
      "2.17는 실수입니다\n",
      "정수형:  2\n"
     ]
    },
    {
     "name": "stdin",
     "output_type": "stream",
     "text": [
      "숫자 입력 1\n"
     ]
    },
    {
     "name": "stdout",
     "output_type": "stream",
     "text": [
      "1\n",
      "11\n"
     ]
    }
   ],
   "source": [
    "# 자료형 변환\n",
    "# 암시적(암묵적) 형 변환\n",
    "a = 2\n",
    "b = 0.17\n",
    "a = a + b\n",
    "print(a)\n",
    "print(type(a))\n",
    "\n",
    "# 명시적 형변환(캐스팅 - casting)\n",
    "box = 2.17\n",
    "print(box)\n",
    "print(str(box) + \"는 실수입니다\")\n",
    "print(\"정수형: \", int(box))\n",
    "\n",
    "# 입력은 문자형이므로 숫자로 변환함\n",
    "num = input(\"숫자 입력\")\n",
    "num = int(num)\n",
    "print(num)\n",
    "print(num + 10)"
   ]
  },
  {
   "cell_type": "code",
   "execution_count": 79,
   "id": "ee6790b9-34f3-4a5b-8c43-6dc0743a7c18",
   "metadata": {},
   "outputs": [
    {
     "data": {
      "text/plain": [
       "False"
      ]
     },
     "execution_count": 79,
     "metadata": {},
     "output_type": "execute_result"
    }
   ],
   "source": [
    "# 비교 연산자\n",
    "10 > 5\n",
    "\n",
    "10 < 5\n",
    "\n",
    "10 == 10\n",
    "\n",
    "10 != 5\n",
    "\n",
    "a , b = 10, 10\n",
    "\n",
    "a == b\n",
    "\n",
    "a >= b\n",
    "\n",
    "a > b\n",
    "\n",
    "c, d, e = \"빅데이터\", \"빅데이터\", \"데이터\"\n",
    "\n",
    "c == d\n",
    "d == e"
   ]
  },
  {
   "cell_type": "code",
   "execution_count": 2,
   "id": "03b08aaf-af98-40d3-b1a9-1f44b2a7997c",
   "metadata": {},
   "outputs": [
    {
     "name": "stdout",
     "output_type": "stream",
     "text": [
      "관람불가 입니다.\n",
      "나이는  14 세입니다.\n"
     ]
    }
   ],
   "source": [
    "# 조건문\n",
    "# 1. if구문\n",
    "age = 14\n",
    "\n",
    "if age >= 15:\n",
    "    print(\"관람가 입니다.\")\n",
    "print(\"나이는 \", age, \"세입니다.\")\n",
    "\n",
    "# 2. if ~ else 구문\n",
    "if age >= 15:\n",
    "    print(\"관람가 입니다.\")\n",
    "else:\n",
    "    print(\"관람불가 입니다.\")\n",
    "print(\"나이는 \", age, \"세입니다.\")"
   ]
  },
  {
   "cell_type": "code",
   "execution_count": 9,
   "id": "88d78e96-875d-4d2e-b351-dc06d391f7b0",
   "metadata": {},
   "outputs": [
    {
     "name": "stdin",
     "output_type": "stream",
     "text": [
      "점수 입력:  85\n"
     ]
    },
    {
     "name": "stdout",
     "output_type": "stream",
     "text": [
      "<class 'int'>\n",
      "B 학점\n",
      "Score :  85 점\n"
     ]
    }
   ],
   "source": [
    "# 3. if ~ elif ~ else 구문\n",
    "# 점수 = 87\n",
    "\n",
    "점수 = input(\"점수 입력: \")\n",
    "점수 = int(점수) #문자형을 정수형으로 변환해야 함. \n",
    "print(type(점수))\n",
    "\n",
    "if 점수 >= 90:\n",
    "    print('A 학점')\n",
    "elif 점수 >= 80:\n",
    "    print('B 학점')\n",
    "elif 점수 >= 70:\n",
    "    print('C 학점')\n",
    "else:\n",
    "    print('F 학점')\n",
    "print(\"Score : \", 점수, \"점\")"
   ]
  },
  {
   "cell_type": "code",
   "execution_count": 17,
   "id": "fff173e5-e4d5-4da0-965e-674423d3cce8",
   "metadata": {},
   "outputs": [
    {
     "name": "stdout",
     "output_type": "stream",
     "text": [
      "1\n",
      "2\n",
      "3\n",
      "4\n",
      "5\n",
      "6\n",
      "7\n",
      "8\n",
      "9\n",
      "10\n",
      "n = 1 total = 1\n",
      "n = 2 total = 3\n",
      "n = 3 total = 6\n",
      "n = 4 total = 10\n",
      "n = 5 total = 15\n",
      "n = 6 total = 21\n",
      "n = 7 total = 28\n",
      "n = 8 total = 36\n",
      "n = 9 total = 45\n",
      "n = 10 total = 55\n",
      "합계는 55 입니다\n"
     ]
    }
   ],
   "source": [
    "# 반복문\n",
    "# while문\n",
    "# 1부터 10까지 출력하기 \n",
    "n = 1\n",
    "\n",
    "while n <= 10:\n",
    "    print(n)\n",
    "    n = n + 1\n",
    "    \n",
    "# 1부터 10까지 더하기\n",
    "n = 1\n",
    "total = 0\n",
    "while n <= 10:\n",
    "    total = total + n\n",
    "    print(\"n =\", n, \"total =\", total)\n",
    "    n = n + 1\n",
    "    \n",
    "print(\"합계는\", total, \"입니다\")"
   ]
  },
  {
   "cell_type": "code",
   "execution_count": 16,
   "id": "54e90da5-ce17-4be2-8194-098fb08b0081",
   "metadata": {},
   "outputs": [
    {
     "name": "stdout",
     "output_type": "stream",
     "text": [
      "1\n",
      "2\n",
      "3\n",
      "4\n",
      "5\n",
      "6\n",
      "7\n",
      "8\n",
      "9\n",
      "10\n",
      "합계는 55 입니다\n"
     ]
    }
   ],
   "source": [
    "# 반복 조건문(while ~ if ~ break문)\n",
    "\n",
    "n = 1\n",
    "\n",
    "while True:\n",
    "    if n > 10:\n",
    "        break\n",
    "    print(n)\n",
    "    n = n + 1\n",
    "\n",
    "# 1부터 10까지 더하기\n",
    "n = 1\n",
    "total = 0\n",
    "while True:\n",
    "    if n > 10:\n",
    "        break\n",
    "    total = total + n\n",
    "    n = n + 1\n",
    "\n",
    "print(\"합계는\", total, \"입니다\")"
   ]
  },
  {
   "cell_type": "code",
   "execution_count": 32,
   "id": "e9fe0d16-9002-4ef8-b834-3f71ca1f253c",
   "metadata": {},
   "outputs": [
    {
     "name": "stdout",
     "output_type": "stream",
     "text": [
      "라면\n",
      "['라면', '계란', '우유']\n",
      "<class 'list'>\n",
      "range(0, 10)\n",
      "range(0, 10)\n",
      "[0, 1, 2, 3, 4, 5, 6, 7, 8, 9]\n",
      "[0, 1, 2, 3, 4, 5, 6, 7, 8, 9]\n",
      "1\n",
      "2\n",
      "3\n",
      "4\n",
      "5\n",
      "6\n",
      "7\n",
      "8\n",
      "9\n",
      "10\n",
      "1 3 5 7 9 \n",
      "합계는 55 입니다\n"
     ]
    }
   ],
   "source": [
    "# for문\n",
    "\n",
    "# 리스트 - 여러 개의 자료를 저장하는 자료구조이다.\n",
    "cart = \"라면\"\n",
    "print(cart)\n",
    "\n",
    "carts = [\"라면\", \"계란\", \"우유\"]\n",
    "print(carts)\n",
    "print(type(carts))\n",
    "\n",
    "# range(처음값, 종료값) 사용 \n",
    "# 종료값은 종료값-1로 출력됨\n",
    "print(range(10))\n",
    "print(range(0, 10))\n",
    "\n",
    "print(list(range(10)))\n",
    "print(list(range(0, 10)))\n",
    "\n",
    "# 1부터 10까지 출력하기\n",
    "# 1씩 증가\n",
    "for i in range(1, 11, 1):\n",
    "    print(i)\n",
    "\n",
    "# 2씩 증가\n",
    "for i in range(1, 11, 2):\n",
    "    print(i, end=' ')\n",
    "\n",
    "# 1부터 10까지의 합계 구하기\n",
    "total = 0\n",
    "for i in range(1, 11):\n",
    "    total = total + i\n",
    "\n",
    "print(\"\\n합계는\", total, \"입니다\")"
   ]
  },
  {
   "cell_type": "code",
   "execution_count": 39,
   "id": "0d2cf81e-c716-44ba-8f06-5d5186c600fc",
   "metadata": {},
   "outputs": [
    {
     "name": "stdout",
     "output_type": "stream",
     "text": [
      "aaaa\n",
      "3333333333\n"
     ]
    }
   ],
   "source": [
    "# 구구단 출력하기\n",
    "# dan = 4\n",
    "dan = int(input(\"단 입력: \"))\n",
    "\n",
    "for i in range(1, 10):\n",
    "    print(dan, 'x', i, '=', dan * i)\n",
    "\n",
    "# 문자 곱하기\n",
    "print('a' * 4)\n",
    "print('3' * 10)"
   ]
  },
  {
   "cell_type": "code",
   "execution_count": null,
   "id": "0f1a8fb9-1168-415f-a622-b0a9072a99b2",
   "metadata": {},
   "outputs": [],
   "source": [
    "# 반복문\n",
    "for i in range(0, 3):\n",
    "    print(\"hello\")\n",
    "\n",
    "for i in range(1, 11):\n",
    "    print(i)\n",
    "\n",
    "word = [\"빅데이터\", \"분석기사\", \"자격증\"]\n",
    "for i in word:\n",
    "    print(i)\n",
    "print(\"끝\")\n",
    "\n",
    "print(\"빅데이터\" in word)\n",
    "print(\"머신러닝\" in word)\n",
    "\n",
    "odd = [1, 3, 5, 7, 9]\n",
    "for i in odd:\n",
    "    print(i, end=' ')\n",
    "print('\\n')\n",
    "\n",
    "# 빈리스트 채우기\n",
    "listbox = []\n",
    "for i in range(1, 6):\n",
    "    listbox.append(i * 2)\n",
    "\n",
    "# 인덱스 번호 알기\n",
    "for index, item in enumerate(word):\n",
    "    print(index, item)\n",
    "\n",
    "# zip() - 여러개의 값을 묶어줌\n",
    "cook = [\"분식\", \"한식\", \"중식\"]\n",
    "number = [3, 4, 1]\n",
    "\n",
    "store = {\n",
    "    \"요리\": cook,\n",
    "    \"점포수\": number \n",
    "}\n",
    "print(store)\n",
    "\n",
    "for k, v in zip(store.keys(), store.values()):\n",
    "    print(k, v)"
   ]
  },
  {
   "cell_type": "code",
   "execution_count": 153,
   "id": "40a7bd91-276c-4ecb-81f4-908a866ee1f0",
   "metadata": {},
   "outputs": [
    {
     "name": "stdout",
     "output_type": "stream",
     "text": [
      "4\n",
      "8\n",
      "8\n",
      "[4, 2]\n",
      "[10, 5, 8]\n",
      "[4, 2, 10, 5, 8]\n",
      "['길벗', '시나공', '빅데이터']\n",
      "['길벗', '자격증', '시나공', '빅데이터']\n",
      "['자격증', '시나공', '빅데이터']\n"
     ]
    }
   ],
   "source": [
    "# 리스트\n",
    "listbox = [4, 2, 10, 5, 8]\n",
    "listbox\n",
    "type(listbox)\n",
    "\n",
    "# 인덱싱 접근\n",
    "print(listbox[0])\n",
    "print(listbox[4])\n",
    "print(listbox[-1])\n",
    "\n",
    "# 인덱싱과 슬라이싱\n",
    "even = [2, 4, 6, 8, 10]\n",
    "\n",
    "print(even[0])\n",
    "print(even[3])\n",
    "print(even[-1])\n",
    "\n",
    "# 시작인덱스 : 끝인덱스\n",
    "print(even[0:3])\n",
    "print(even[:3])\n",
    "print(even[:-1])\n",
    "print(even[:])\n",
    "\n",
    "print(even[::2]) \n",
    "\n",
    "# 문자 리스트\n",
    "listbox2 = [\"길벗\", \"시나공\", \"빅데이터\"]\n",
    "print(listbox2)\n",
    "\n",
    "# 요소(값) 추가\n",
    "listbox2.append(\"분석\")\n",
    "listbox2.insert(1, \"자격증\")\n",
    "\n",
    "# 요소 삭제\n",
    "# del listbox2[0]\n",
    "listbox2.pop()\n",
    "print(listbox2)"
   ]
  },
  {
   "cell_type": "code",
   "execution_count": 161,
   "id": "e4fb8a19-1cc9-4cb8-bf88-aeb1826d35d5",
   "metadata": {
    "scrolled": true
   },
   "outputs": [
    {
     "name": "stdout",
     "output_type": "stream",
     "text": [
      "{'name': '쿠키', 'level': 5}\n",
      "<class 'dict'>\n",
      "dict_keys(['name', 'level'])\n",
      "dict_values(['쿠키', 5])\n",
      "쿠키\n",
      "5\n",
      "{'name': '쿠키', 'level': 5, 'id': 'cookie'}\n",
      "6\n",
      "{'name': '쿠키', 'level': 6, 'id': 'cookie'}\n",
      "{'요리': ['분식', '한식', '중식'], '점포수': [3, 4, 1]}\n"
     ]
    }
   ],
   "source": [
    "# 딕셔너리\n",
    "dictbox = {\"name\": \"쿠키\", \"level\": 5}\n",
    "print(dictbox)\n",
    "print(type(dictbox))\n",
    "\n",
    "# 키, 값\n",
    "print(dictbox.keys())\n",
    "print(dictbox.values())\n",
    "\n",
    "# 값 조회\n",
    "print(dictbox[\"name\"])\n",
    "print(dictbox[\"level\"])\n",
    "\n",
    "# 값 추가\n",
    "dictbox[\"id\"] = \"cookie\"\n",
    "print(dictbox)\n",
    "\n",
    "# 값 변경(업데이트)\n",
    "dictbox[\"level\"] = 6\n",
    "print(dictbox[\"level\"])\n",
    "\n",
    "# 값 삭제\n",
    "# del dictbox[\"name\"]\n",
    "print(dictbox)\n",
    "\n",
    "# 딕셔너리를 리스트로 변환\n",
    "list(dictbox.values())\n",
    "\n",
    "# 딕셔너리 생성\n",
    "cook = [\"분식\", \"한식\", \"중식\"]\n",
    "number = [3, 4, 1]\n",
    "\n",
    "store = {\n",
    "    \"요리\": cook,\n",
    "    \"점포수\": number \n",
    "}\n",
    "print(store)"
   ]
  }
 ],
 "metadata": {
  "kernelspec": {
   "display_name": "Python 3 (ipykernel)",
   "language": "python",
   "name": "python3"
  },
  "language_info": {
   "codemirror_mode": {
    "name": "ipython",
    "version": 3
   },
   "file_extension": ".py",
   "mimetype": "text/x-python",
   "name": "python",
   "nbconvert_exporter": "python",
   "pygments_lexer": "ipython3",
   "version": "3.12.7"
  }
 },
 "nbformat": 4,
 "nbformat_minor": 5
}

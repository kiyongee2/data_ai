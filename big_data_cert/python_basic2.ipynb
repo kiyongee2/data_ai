{
 "cells": [
  {
   "cell_type": "code",
   "execution_count": 35,
   "id": "8b62ae53-7194-472b-bf95-3cf948c04307",
   "metadata": {},
   "outputs": [
    {
     "name": "stdout",
     "output_type": "stream",
     "text": [
      "hello\n",
      "hello\n",
      "hello\n",
      "1\n",
      "2\n",
      "3\n",
      "4\n",
      "5\n",
      "6\n",
      "7\n",
      "8\n",
      "9\n",
      "10\n",
      "빅데이터\n",
      "분석기사\n",
      "자격증\n",
      "끝\n",
      "True\n",
      "False\n",
      "1 3 5 7 9 \n",
      "\n",
      "0 빅데이터\n",
      "1 분석기사\n",
      "2 자격증\n",
      "{'요리': ['분식', '한식', '중식'], '점포수': [3, 4, 1]}\n",
      "요리 ['분식', '한식', '중식']\n",
      "점포수 [3, 4, 1]\n"
     ]
    }
   ],
   "source": [
    "# 반복문\n",
    "for i in range(0, 3):\n",
    "    print(\"hello\")\n",
    "\n",
    "for i in range(1, 11):\n",
    "    print(i)\n",
    "\n",
    "word = [\"빅데이터\", \"분석기사\", \"자격증\"]\n",
    "for i in word:\n",
    "    print(i)\n",
    "print(\"끝\")\n",
    "\n",
    "print(\"빅데이터\" in word)\n",
    "print(\"머신러닝\" in word)\n",
    "\n",
    "odd = [1, 3, 5, 7, 9]\n",
    "for i in odd:\n",
    "    print(i, end=' ')\n",
    "print('\\n')\n",
    "\n",
    "# 빈리스트 채우기\n",
    "listbox = []\n",
    "for i in range(1, 6):\n",
    "    listbox.append(i * 2)\n",
    "\n",
    "# 인덱스 번호 알기\n",
    "for index, item in enumerate(word):\n",
    "    print(index, item)\n",
    "\n",
    "# zip() - 여러개의 값을 묶어줌\n",
    "cook = [\"분식\", \"한식\", \"중식\"]\n",
    "number = [3, 4, 1]\n",
    "\n",
    "store = {\n",
    "    \"요리\": cook,\n",
    "    \"점포수\": number \n",
    "}\n",
    "print(store)\n",
    "\n",
    "for k, v in zip(store.keys(), store.values()):\n",
    "    print(k, v)"
   ]
  },
  {
   "cell_type": "code",
   "execution_count": 31,
   "id": "4e261829-01c3-4581-b75a-cb608bc37d61",
   "metadata": {},
   "outputs": [
    {
     "name": "stdout",
     "output_type": "stream",
     "text": [
      "빅\n",
      "빅데이터 \n",
      "빅데이터 분석기사 파이썬 스터디\n",
      "2024-11-13\n"
     ]
    }
   ],
   "source": [
    "# 내장 함수\n",
    "number = [4, 2, 10, 6, 8]\n",
    "sum(number)\n",
    "max(number)\n",
    "min(number)\n",
    "len(number)\n",
    "\n",
    "# 반올림\n",
    "round(1.234, 2), round(1.2375, 2)\n",
    "\n",
    "# 문자열 함수\n",
    "text = \"빅데이터 분석기사 파이썬 공부\"\n",
    "print(text[0])\n",
    "print(text[:5])\n",
    "\n",
    "text = text.replace(\"공부\", \"스터디\")\n",
    "print(text)\n",
    "\n",
    "date = \"2024-11-13\"\n",
    "date.split('-')\n",
    "print(date)"
   ]
  },
  {
   "cell_type": "code",
   "execution_count": 7,
   "id": "7e73072b-d88d-4f24-aaf3-5eaaaa20b1b0",
   "metadata": {},
   "outputs": [
    {
     "name": "stdout",
     "output_type": "stream",
     "text": [
      "안녕\n",
      "안녕\n",
      "안녕 Jerry\n",
      "안녕 한강\n"
     ]
    }
   ],
   "source": [
    "# 함수\n",
    "def hello():\n",
    "    print(\"안녕\")\n",
    "\n",
    "def hello2(name):\n",
    "    print(\"안녕 \" + name)\n",
    "\n",
    "hello()\n",
    "hello()\n",
    "\n",
    "hello2(\"Jerry\")\n",
    "hello2(\"한강\")"
   ]
  },
  {
   "cell_type": "code",
   "execution_count": 25,
   "id": "d214a95b-5dd0-43fe-83c3-92734812b8a2",
   "metadata": {},
   "outputs": [
    {
     "name": "stdout",
     "output_type": "stream",
     "text": [
      "9\n",
      "3\n",
      "최소값: 1\n",
      "최대값: 4\n"
     ]
    }
   ],
   "source": [
    "def square(x):\n",
    "    return x * x\n",
    "value = square(3)\n",
    "print(value)\n",
    "\n",
    "def plus(x, y):\n",
    "    return x + y\n",
    "\n",
    "result = plus(1, 2)\n",
    "print(result)"
   ]
  },
  {
   "cell_type": "code",
   "execution_count": 29,
   "id": "677dc379-d5a5-44cb-ab92-f674d7fbcd16",
   "metadata": {},
   "outputs": [
    {
     "name": "stdout",
     "output_type": "stream",
     "text": [
      "평균: 2.5\n",
      "최소값: 1\n",
      "최대값: 4\n"
     ]
    }
   ],
   "source": [
    "def mean(data):\n",
    "    avg = sum(data) / len(data)\n",
    "    return avg\n",
    "\n",
    "def min_max(data):\n",
    "    m1 = min(data)\n",
    "    m2 = max(data)\n",
    "    return m1, m2\n",
    "\n",
    "lists = [1, 2, 3, 4]\n",
    "# 평균\n",
    "average = mean(lists)\n",
    "print(\"평균:\", average)\n",
    "\n",
    "# 최대, 최소\n",
    "m1, m2 = min_max(lists)\n",
    "print(f'최소값: {m1}')\n",
    "print(f'최대값: {m2}')"
   ]
  },
  {
   "cell_type": "code",
   "execution_count": 3,
   "id": "5b01929e-e095-426b-8934-3281b0d8ecce",
   "metadata": {},
   "outputs": [
    {
     "name": "stdout",
     "output_type": "stream",
     "text": [
      "생성자 함수\n",
      "이름: 한강\n",
      "학년: 3\n"
     ]
    }
   ],
   "source": [
    "# 클래스\n",
    "class Student:\n",
    "    def __init__(self):\n",
    "        self.name = \"한강\"\n",
    "        self.grade = 3\n",
    "        print(\"생성자 함수\")\n",
    "\n",
    "s = Student()\n",
    "# print(\"이름:\", s.name)\n",
    "print(f\"이름: {s.name}\")\n",
    "# print(\"학년:\", s.grade)\n",
    "print(f\"학년: {s.grade}\")"
   ]
  },
  {
   "cell_type": "code",
   "execution_count": 11,
   "id": "e2297a8e-8ce9-40dd-8c4a-88fc86f43c72",
   "metadata": {},
   "outputs": [
    {
     "name": "stdout",
     "output_type": "stream",
     "text": [
      "한강 학생은 3학년입니다.\n",
      "남산 학생은 1학년입니다.\n"
     ]
    }
   ],
   "source": [
    "class Student:\n",
    "    def __init__(self, name, grade):\n",
    "        self.name = name\n",
    "        self.grade = grade\n",
    "        \n",
    "    def showInfo(self):\n",
    "        return f'{self.name} 학생은 {self.grade}학년입니다.'\n",
    "\n",
    "s1 = Student(\"한강\", 3)\n",
    "print(s1.showInfo())\n",
    "\n",
    "s2 = Student(\"남산\", 1)\n",
    "print(s2.showInfo())"
   ]
  },
  {
   "cell_type": "code",
   "execution_count": 23,
   "id": "18e97568-2a62-4c32-bfcd-c1242d847b7b",
   "metadata": {},
   "outputs": [
    {
     "name": "stdout",
     "output_type": "stream",
     "text": [
      "2024-11-13 07:24:51.794219\n",
      "2024\n",
      "11\n",
      "13\n",
      "2024년 11월 13일\n",
      "7\n",
      "24\n",
      "51\n",
      "7시 24분 51초\n"
     ]
    }
   ],
   "source": [
    "# 모듈\n",
    "import datetime\n",
    "\n",
    "now = datetime.datetime.today()\n",
    "print(now)\n",
    "\n",
    "print(now.year)\n",
    "print(now.month)\n",
    "print(now.day)\n",
    "print(f\"{now.year}년 {now.month}월 {now.day}일\")\n",
    "\n",
    "print(now.hour)\n",
    "print(now.minute)\n",
    "print(now.second)\n",
    "print(f\"{now.hour}시 {now.minute}분 {now.second}초\")"
   ]
  },
  {
   "cell_type": "code",
   "execution_count": 27,
   "id": "00f2a9d2-37e8-498b-ba3f-5caac2e2497e",
   "metadata": {},
   "outputs": [
    {
     "name": "stdout",
     "output_type": "stream",
     "text": [
      "2024-10-01\n",
      "2024-11-13\n",
      "43 days, 0:00:00\n"
     ]
    }
   ],
   "source": [
    "import datetime\n",
    "\n",
    "day1 = datetime.date(2024, 10, 1)\n",
    "print(day1)\n",
    "today = datetime.date.today()\n",
    "print(today)\n",
    "\n",
    "passedtime = today - day1\n",
    "print(passedtime)"
   ]
  },
  {
   "cell_type": "code",
   "execution_count": 37,
   "id": "27f8f514-ca33-493f-8025-c1e616d07ffd",
   "metadata": {},
   "outputs": [
    {
     "data": {
      "text/plain": [
       "1.3"
      ]
     },
     "execution_count": 37,
     "metadata": {},
     "output_type": "execute_result"
    }
   ],
   "source": [
    "import math\n",
    "\n",
    "math.pi\n",
    "\n",
    "math.floor(4.9)\n",
    "\n",
    "math.ceil(4.1)\n",
    "\n",
    "# round() - 반올림\n",
    "round(1.275, 1)"
   ]
  },
  {
   "cell_type": "code",
   "execution_count": null,
   "id": "acd86f95-713a-4e3d-9adf-0fec007e9aba",
   "metadata": {},
   "outputs": [],
   "source": []
  }
 ],
 "metadata": {
  "kernelspec": {
   "display_name": "Python 3 (ipykernel)",
   "language": "python",
   "name": "python3"
  },
  "language_info": {
   "codemirror_mode": {
    "name": "ipython",
    "version": 3
   },
   "file_extension": ".py",
   "mimetype": "text/x-python",
   "name": "python",
   "nbconvert_exporter": "python",
   "pygments_lexer": "ipython3",
   "version": "3.12.4"
  }
 },
 "nbformat": 4,
 "nbformat_minor": 5
}

{
 "cells": [
  {
   "cell_type": "code",
   "execution_count": 131,
   "id": "411f21e4-5a68-4ade-af52-a6092521671f",
   "metadata": {},
   "outputs": [
    {
     "name": "stdout",
     "output_type": "stream",
     "text": [
      "RangeIndex(start=0, stop=3, step=1)\n",
      "0     사과\n",
      "1      감\n",
      "2    바나나\n",
      "dtype: object\n",
      "<class 'pandas.core.series.Series'>\n"
     ]
    }
   ],
   "source": [
    "# Series\n",
    "import pandas as pd\n",
    "\n",
    "s = pd.Series([\"사과\", \"감\", \"바나나\"])\n",
    "# s = pd.Series([\"사과\", \"감\", \"바나나\"], index=[1, 2, 3])\n",
    "\n",
    "print(s.index)\n",
    "# s.index=[1, 2, 3]\n",
    "print(s)\n",
    "print(type(s))"
   ]
  },
  {
   "cell_type": "code",
   "execution_count": 133,
   "id": "6feb1b81-9e4d-40ec-85eb-1ba160f8d4e9",
   "metadata": {},
   "outputs": [
    {
     "name": "stdout",
     "output_type": "stream",
     "text": [
      "0    3000\n",
      "1    2000\n",
      "2    1000\n",
      "dtype: int64\n"
     ]
    }
   ],
   "source": [
    "# Series\n",
    "import pandas as pd\n",
    "\n",
    "s = pd.Series([3000, 2000, 1000])\n",
    "print(s)"
   ]
  },
  {
   "cell_type": "code",
   "execution_count": 143,
   "id": "957db141-c8bd-47e9-b730-4bb4e727e5af",
   "metadata": {},
   "outputs": [
    {
     "name": "stdout",
     "output_type": "stream",
     "text": [
      "<class 'pandas.core.frame.DataFrame'>\n",
      "Index(['name', 'price'], dtype='object')\n",
      "<class 'pandas.core.frame.DataFrame'>\n",
      "RangeIndex: 3 entries, 0 to 2\n",
      "Data columns (total 2 columns):\n",
      " #   Column  Non-Null Count  Dtype \n",
      "---  ------  --------------  ----- \n",
      " 0   name    3 non-null      object\n",
      " 1   price   3 non-null      int64 \n",
      "dtypes: int64(1), object(1)\n",
      "memory usage: 180.0+ bytes\n"
     ]
    },
    {
     "data": {
      "text/plain": [
       "0    3000\n",
       "1    2000\n",
       "2    1000\n",
       "Name: price, dtype: int64"
      ]
     },
     "execution_count": 143,
     "metadata": {},
     "output_type": "execute_result"
    }
   ],
   "source": [
    "# DataFrame\n",
    "name = pd.Series([\"사과\", \"감\", \"바나나\"])\n",
    "price = pd.Series([3000, 2000, 1000])\n",
    "\n",
    "data = {\n",
    "    \"name\": name,\n",
    "    \"price\": price\n",
    "}\n",
    "\n",
    "df = pd.DataFrame(data)\n",
    "df\n",
    "\n",
    "print(type(df))\n",
    "print(df.columns)\n",
    "\n",
    "# 정보\n",
    "df.info()\n",
    "\n",
    "# 탐색\n",
    "df['name']\n",
    "df['price']"
   ]
  },
  {
   "cell_type": "code",
   "execution_count": 93,
   "id": "1218e7c0-e938-4d95-8842-4c1e01cebac0",
   "metadata": {},
   "outputs": [
    {
     "name": "stdout",
     "output_type": "stream",
     "text": [
      "   Age  Score\n",
      "0   24   85.5\n",
      "1   27   90.3\n",
      "2   22   76.8\n",
      "3   32   88.2\n",
      "RangeIndex(start=0, stop=4, step=1)\n",
      "Index(['Age', 'Score'], dtype='object')\n"
     ]
    },
    {
     "data": {
      "text/html": [
       "<div>\n",
       "<style scoped>\n",
       "    .dataframe tbody tr th:only-of-type {\n",
       "        vertical-align: middle;\n",
       "    }\n",
       "\n",
       "    .dataframe tbody tr th {\n",
       "        vertical-align: top;\n",
       "    }\n",
       "\n",
       "    .dataframe thead th {\n",
       "        text-align: right;\n",
       "    }\n",
       "</style>\n",
       "<table border=\"1\" class=\"dataframe\">\n",
       "  <thead>\n",
       "    <tr style=\"text-align: right;\">\n",
       "      <th></th>\n",
       "      <th>Age</th>\n",
       "      <th>Score</th>\n",
       "    </tr>\n",
       "  </thead>\n",
       "  <tbody>\n",
       "    <tr>\n",
       "      <th>대한</th>\n",
       "      <td>24</td>\n",
       "      <td>85.5</td>\n",
       "    </tr>\n",
       "    <tr>\n",
       "      <th>민국</th>\n",
       "      <td>27</td>\n",
       "      <td>90.3</td>\n",
       "    </tr>\n",
       "    <tr>\n",
       "      <th>한강</th>\n",
       "      <td>22</td>\n",
       "      <td>76.8</td>\n",
       "    </tr>\n",
       "    <tr>\n",
       "      <th>남산</th>\n",
       "      <td>32</td>\n",
       "      <td>88.2</td>\n",
       "    </tr>\n",
       "  </tbody>\n",
       "</table>\n",
       "</div>"
      ],
      "text/plain": [
       "    Age  Score\n",
       "대한   24   85.5\n",
       "민국   27   90.3\n",
       "한강   22   76.8\n",
       "남산   32   88.2"
      ]
     },
     "execution_count": 93,
     "metadata": {},
     "output_type": "execute_result"
    }
   ],
   "source": [
    "import pandas as pd\n",
    "\n",
    "# 데이터프레임 생성\n",
    "data = {\n",
    "    'Age': [24, 27, 22, 32],\n",
    "    'Score': [85.5, 90.3, 76.8, 88.2]\n",
    "}\n",
    "\n",
    "df = pd.DataFrame(data)\n",
    "print(df)\n",
    "\n",
    "# index 추가\n",
    "df.index = ['대한', '민국', '한강', '남산']\n",
    "# df = pd.DataFrame(data, index=['대한', '민국', '한강', '남산'])\n",
    "\n",
    "df"
   ]
  },
  {
   "cell_type": "code",
   "execution_count": 97,
   "id": "6a6cd959-1d9e-40e1-98b8-16e5ca062021",
   "metadata": {},
   "outputs": [
    {
     "data": {
      "text/html": [
       "<div>\n",
       "<style scoped>\n",
       "    .dataframe tbody tr th:only-of-type {\n",
       "        vertical-align: middle;\n",
       "    }\n",
       "\n",
       "    .dataframe tbody tr th {\n",
       "        vertical-align: top;\n",
       "    }\n",
       "\n",
       "    .dataframe thead th {\n",
       "        text-align: right;\n",
       "    }\n",
       "</style>\n",
       "<table border=\"1\" class=\"dataframe\">\n",
       "  <thead>\n",
       "    <tr style=\"text-align: right;\">\n",
       "      <th></th>\n",
       "      <th>나이</th>\n",
       "      <th>점수</th>\n",
       "    </tr>\n",
       "    <tr>\n",
       "      <th>Name</th>\n",
       "      <th></th>\n",
       "      <th></th>\n",
       "    </tr>\n",
       "  </thead>\n",
       "  <tbody>\n",
       "    <tr>\n",
       "      <th>대한</th>\n",
       "      <td>24</td>\n",
       "      <td>85.5</td>\n",
       "    </tr>\n",
       "    <tr>\n",
       "      <th>민국</th>\n",
       "      <td>27</td>\n",
       "      <td>90.3</td>\n",
       "    </tr>\n",
       "    <tr>\n",
       "      <th>한강</th>\n",
       "      <td>22</td>\n",
       "      <td>76.8</td>\n",
       "    </tr>\n",
       "    <tr>\n",
       "      <th>남산</th>\n",
       "      <td>32</td>\n",
       "      <td>88.2</td>\n",
       "    </tr>\n",
       "  </tbody>\n",
       "</table>\n",
       "</div>"
      ],
      "text/plain": [
       "      나이    점수\n",
       "Name          \n",
       "대한    24  85.5\n",
       "민국    27  90.3\n",
       "한강    22  76.8\n",
       "남산    32  88.2"
      ]
     },
     "execution_count": 97,
     "metadata": {},
     "output_type": "execute_result"
    }
   ],
   "source": [
    "import pandas as pd\n",
    "\n",
    "# 데이터프레임 생성\n",
    "data = {\n",
    "    'Name': ['대한', '민국', '한강', '남산'],\n",
    "    'Age': [24, 27, 22, 32],\n",
    "    'Score': [85.5, 90.3, 76.8, 88.2]\n",
    "}\n",
    "df = pd.DataFrame(data)\n",
    "df\n",
    "\n",
    "# index 설정\n",
    "df = df.set_index('Name')\n",
    "df\n",
    "\n",
    "# 칼럼 이름 바꾸기\n",
    "df_new = df.rename(columns={'Age':'나이', 'Score':'점수'})\n",
    "df_new\n",
    "\n",
    "\n",
    "# 데이터 탐색\n",
    "# print(df.head())        # 앞 5개 데이터 확인\n",
    "# print(df.describe())    # 통계 요약\n",
    "\n",
    "# 특정 열 필터링\n",
    "# df_filtered = df[df['Score'] > 80]\n",
    "# print(df_filtered)\n",
    "\n",
    "# 그룹화와 평균 계산\n",
    "# average_age = df.groupby('Name')['Age'].mean()\n",
    "# print(average_age)\n"
   ]
  }
 ],
 "metadata": {
  "kernelspec": {
   "display_name": "Python 3 (ipykernel)",
   "language": "python",
   "name": "python3"
  },
  "language_info": {
   "codemirror_mode": {
    "name": "ipython",
    "version": 3
   },
   "file_extension": ".py",
   "mimetype": "text/x-python",
   "name": "python",
   "nbconvert_exporter": "python",
   "pygments_lexer": "ipython3",
   "version": "3.12.4"
  }
 },
 "nbformat": 4,
 "nbformat_minor": 5
}

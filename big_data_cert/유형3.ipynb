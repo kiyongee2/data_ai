{
 "cells": [
  {
   "cell_type": "markdown",
   "id": "0f6f8649-84ff-4227-aa6d-344e2773a97b",
   "metadata": {},
   "source": [
    "### 단일 표본 검정"
   ]
  },
  {
   "cell_type": "code",
   "execution_count": 15,
   "id": "4947babf-3737-4d0c-8206-6858fda40f56",
   "metadata": {},
   "outputs": [
    {
     "name": "stdout",
     "output_type": "stream",
     "text": [
      "Caffeine(mg)    94.264\n",
      "dtype: float64\n",
      "ShapiroResult(statistic=0.9826578166170536, pvalue=0.9322031137746971)\n",
      "TtestResult(statistic=-5.501737036221897, pvalue=5.8686553916715e-06, df=24)\n",
      "0.0000058687\n"
     ]
    }
   ],
   "source": [
    "import pandas as pd\n",
    "\n",
    "df = pd.DataFrame({\n",
    "    'Caffeine(mg)': [\n",
    "        94.2,93.7,95.5,93.9,94.0,95.2,94.7,93.5,92.8,94.4,\n",
    "        93.8,94.6,93.3,95.1,94.3,94.9,93.9,94.8,95.0,94.2,\n",
    "        93.7,94.4,95.1,94.0,93.6\n",
    "    ]\n",
    "})\n",
    "df\n",
    "# 표본 평균\n",
    "print(df.mean())\n",
    "\n",
    "# 정규성 검정\n",
    "from scipy import stats\n",
    "print(stats.shapiro(df['Caffeine(mg)']))\n",
    "\n",
    "# 단일 표본 t-검정\n",
    "print(stats.ttest_1samp(df['Caffeine(mg)'], 95, alternative='less'))\n",
    "statistic, pvalue = stats.ttest_1samp(df['Caffeine(mg)'], 95, alternative='less')\n",
    "print(\"{:.10f}\".format(pvalue))"
   ]
  },
  {
   "cell_type": "markdown",
   "id": "4e9b093c-4b6d-4eb6-8a8e-ed105cdf7aba",
   "metadata": {},
   "source": [
    "### 독립 표본 검정"
   ]
  },
  {
   "cell_type": "code",
   "execution_count": 25,
   "id": "65f40550-11ba-4c87-b497-aaf6fd326e08",
   "metadata": {},
   "outputs": [
    {
     "name": "stdout",
     "output_type": "stream",
     "text": [
      "   충전기  충전시간\n",
      "0  New   1.5\n",
      "1  New   1.6\n",
      "TtestResult(statistic=-4.582575694955849, pvalue=0.00011546547787696304, df=18.0)\n"
     ]
    }
   ],
   "source": [
    "import pandas as pd\n",
    "from scipy import stats\n",
    "\n",
    "df = pd.DataFrame({\n",
    "    '충전기': ['New'] * 10 + ['Old'] * 10,\n",
    "    '충전시간': [\n",
    "        1.5,1.6,1.4,1.7,1.5,1.6,1.7,1.4,1.6,1.5,\n",
    "        1.7,1.8,1.7,1.9,1.8,1.7,1.8,1.9,1.7,1.6\n",
    "    ]\n",
    "})\n",
    "print(df.head(2))\n",
    "\n",
    "# 독립 표본 t-검정\n",
    "new_cond = df['충전기'] == 'New'\n",
    "old_cond = df['충전기'] == 'Old'\n",
    "print(stats.ttest_ind(df[new_cond]['충전시간'], df[old_cond]['충전시간'],\n",
    "            alternative='less', equal_var=True))"
   ]
  },
  {
   "cell_type": "code",
   "execution_count": 31,
   "id": "56495662-9ca5-402e-b60e-5956dec85771",
   "metadata": {},
   "outputs": [
    {
     "name": "stdout",
     "output_type": "stream",
     "text": [
      "-1.0300000000000005\n",
      "TtestResult(statistic=-3.407973078114844, pvalue=0.0038872633380070652, df=9)\n"
     ]
    }
   ],
   "source": [
    "# 대응 표본 검정(쌍체 표본)\n",
    "import pandas as pd\n",
    "from scipy import stats\n",
    "\n",
    "df = pd.DataFrame({\n",
    "    'User': list(range(1, 11)),\n",
    "    '기존방법': [60.4, 60.7, 60.5, 60.3, 60.8, 60.6, 60.2, 60.5, 60.7, 60.4],\n",
    "    '새로운방법': [59.8, 60.2, 60.1, 59.9, 59.7, 58.4, 57.0, 60.3, 59.6, 59.8]\n",
    "})\n",
    "df\n",
    "\n",
    "# 표본 평균\n",
    "df['diff'] = df['새로운방법'] - df['기존방법']\n",
    "print(df['diff'].mean())\n",
    "\n",
    "# 대응 표본 t-검정\n",
    "print(stats.ttest_rel(df['새로운방법'], df['기존방법'], alternative='less'))"
   ]
  },
  {
   "cell_type": "code",
   "execution_count": 53,
   "id": "382b265e-d9ad-4d22-85ca-3712bbf61c0a",
   "metadata": {},
   "outputs": [
    {
     "name": "stdout",
     "output_type": "stream",
     "text": [
      "<class 'pandas.core.frame.DataFrame'>\n",
      "RangeIndex: 40 entries, 0 to 39\n",
      "Data columns (total 2 columns):\n",
      " #   Column  Non-Null Count  Dtype \n",
      "---  ------  --------------  ----- \n",
      " 0   groups  40 non-null     object\n",
      " 1   scores  40 non-null     int64 \n",
      "dtypes: int64(1), object(1)\n",
      "memory usage: 772.0+ bytes\n",
      "None\n",
      "    groups  scores\n",
      "0  group_A      85\n",
      "1  group_A      88\n",
      "2  group_A      90\n",
      "3  group_A      82\n",
      "4  group_A      87\n",
      "ShapiroResult(statistic=0.9715896670696531, pvalue=0.9051800443853569)\n",
      "ShapiroResult(statistic=0.9499422438060351, pvalue=0.6678172590861611)\n",
      "ShapiroResult(statistic=0.9299424104842702, pvalue=0.44732595113862045)\n",
      "ShapiroResult(statistic=0.9065684572704982, pvalue=0.25824165549017347)\n",
      "LeveneResult(statistic=1.757685352622062, pvalue=0.17270284963232108)\n",
      "            df  sum_sq     mean_sq          F        PR(>F)\n",
      "groups     3.0   411.8  137.266667  34.174274  1.240642e-10\n",
      "Residual  36.0   144.6    4.016667        NaN           NaN\n"
     ]
    }
   ],
   "source": [
    "# 일원 분산 분석\n",
    "import pandas as pd\n",
    "from scipy import stats\n",
    "\n",
    "df = pd.read_csv(\"math.csv\")\n",
    "print(df.info())\n",
    "print(df.head())\n",
    "\n",
    "# Shapiro-Wilk 검정(정규성)\n",
    "condA = df['groups'] == 'group_A'\n",
    "print(stats.shapiro(df[condA]['scores']))\n",
    "\n",
    "condB = df['groups'] == 'group_B'\n",
    "print(stats.shapiro(df[condB]['scores']))\n",
    "\n",
    "condC = df['groups'] == 'group_C'\n",
    "print(stats.shapiro(df[condC]['scores']))\n",
    "\n",
    "condD = df['groups'] == 'group_D'\n",
    "print(stats.shapiro(df[condD]['scores']))\n",
    "\n",
    "# Levene 검정(등분산성)\n",
    "print(stats.levene(df[condA]['scores'], df[condB]['scores'], df[condC]['scores'], df[condD]['scores']))\n",
    "\n",
    "# 일원 분산분석을 위한 모델 학습\n",
    "from statsmodels.formula.api import ols\n",
    "model = ols('scores ~ groups', df).fit()\n",
    "\n",
    "# ANOVA 테이블\n",
    "from statsmodels.stats.anova import anova_lm\n",
    "print(anova_lm(model))"
   ]
  }
 ],
 "metadata": {
  "kernelspec": {
   "display_name": "Python 3 (ipykernel)",
   "language": "python",
   "name": "python3"
  },
  "language_info": {
   "codemirror_mode": {
    "name": "ipython",
    "version": 3
   },
   "file_extension": ".py",
   "mimetype": "text/x-python",
   "name": "python",
   "nbconvert_exporter": "python",
   "pygments_lexer": "ipython3",
   "version": "3.12.4"
  }
 },
 "nbformat": 4,
 "nbformat_minor": 5
}

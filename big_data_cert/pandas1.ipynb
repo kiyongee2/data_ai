{
 "cells": [
  {
   "cell_type": "markdown",
   "id": "4db16149-5b0e-4c57-a0d1-44bb008cbf52",
   "metadata": {},
   "source": [
    "#### 데이터프레임과 시리즈"
   ]
  },
  {
   "cell_type": "code",
   "execution_count": 16,
   "id": "2260ae95-2677-4daa-afc6-38349315fc03",
   "metadata": {},
   "outputs": [
    {
     "data": {
      "text/plain": [
       "pandas.core.series.Series"
      ]
     },
     "execution_count": 16,
     "metadata": {},
     "output_type": "execute_result"
    }
   ],
   "source": [
    "import pandas as pd\n",
    "\n",
    "menu = pd.Series([\"비빔밥\", \"김치찌개\", \"된장찌게\"])\n",
    "menu\n",
    "\n",
    "price = pd.Series([9000, 8000, 7500])\n",
    "price\n",
    "type(price)"
   ]
  },
  {
   "cell_type": "code",
   "execution_count": 18,
   "id": "8f8f6231-5c82-46d4-b0d8-09a5cd3a6151",
   "metadata": {},
   "outputs": [
    {
     "data": {
      "text/plain": [
       "pandas.core.frame.DataFrame"
      ]
     },
     "execution_count": 18,
     "metadata": {},
     "output_type": "execute_result"
    }
   ],
   "source": [
    "df = pd.DataFrame({\n",
    "    \"menu\": menu,\n",
    "    \"price\": price\n",
    "})\n",
    "df\n",
    "type(df)"
   ]
  },
  {
   "cell_type": "code",
   "execution_count": 14,
   "id": "b1db5222-371c-439d-804b-fb318285f07b",
   "metadata": {},
   "outputs": [
    {
     "data": {
      "text/html": [
       "<div>\n",
       "<style scoped>\n",
       "    .dataframe tbody tr th:only-of-type {\n",
       "        vertical-align: middle;\n",
       "    }\n",
       "\n",
       "    .dataframe tbody tr th {\n",
       "        vertical-align: top;\n",
       "    }\n",
       "\n",
       "    .dataframe thead th {\n",
       "        text-align: right;\n",
       "    }\n",
       "</style>\n",
       "<table border=\"1\" class=\"dataframe\">\n",
       "  <thead>\n",
       "    <tr style=\"text-align: right;\">\n",
       "      <th></th>\n",
       "      <th>메뉴</th>\n",
       "      <th>가격</th>\n",
       "      <th>원산지</th>\n",
       "    </tr>\n",
       "  </thead>\n",
       "  <tbody>\n",
       "    <tr>\n",
       "      <th>0</th>\n",
       "      <td>비빔밥</td>\n",
       "      <td>9000</td>\n",
       "      <td>국내산</td>\n",
       "    </tr>\n",
       "    <tr>\n",
       "      <th>1</th>\n",
       "      <td>김치찌개</td>\n",
       "      <td>8000</td>\n",
       "      <td>국내산</td>\n",
       "    </tr>\n",
       "    <tr>\n",
       "      <th>2</th>\n",
       "      <td>짜장면</td>\n",
       "      <td>7500</td>\n",
       "      <td>중국산</td>\n",
       "    </tr>\n",
       "  </tbody>\n",
       "</table>\n",
       "</div>"
      ],
      "text/plain": [
       "     메뉴    가격  원산지\n",
       "0   비빔밥  9000  국내산\n",
       "1  김치찌개  8000  국내산\n",
       "2   짜장면  7500  중국산"
      ]
     },
     "execution_count": 14,
     "metadata": {},
     "output_type": "execute_result"
    }
   ],
   "source": [
    "df = pd.DataFrame({\n",
    "    \"메뉴\": [\"비빔밥\", \"김치찌개\", \"짜장면\"],\n",
    "    \"가격\": [9000, 8000, 7500],\n",
    "    \"원산지\": [\"국내산\", \"국내산\", \"중국산\"]\n",
    "})\n",
    "df\n",
    "\n",
    "# 칼럼 선택\n",
    "df[\"메뉴\"]\n",
    "df[[\"메뉴\", \"가격\"]]\n",
    "\n",
    "cols = [\"메뉴\", \"가격\", \"원산지\"]\n",
    "df[cols]"
   ]
  },
  {
   "cell_type": "markdown",
   "id": "2268aef2-eb31-4940-8a3d-e9e07502a3de",
   "metadata": {},
   "source": [
    "#### 데이터 저장 및 불러오기"
   ]
  },
  {
   "cell_type": "code",
   "execution_count": 27,
   "id": "8b454bf5-de10-444c-b94e-0b670a7261b6",
   "metadata": {},
   "outputs": [],
   "source": [
    "import pandas as pd\n",
    "\n",
    "# 데이터 준비\n",
    "df = pd.DataFrame({\n",
    "    \"메뉴\":['아메리카노', '카페라떼', '카페모카', '카푸치노', '에스프레소', '밀크티', '녹차'],\n",
    "    \"가격\":[4500, 5000, 5500, 5000, 4000, 5900, 5300],\n",
    "    \"칼로리\":[10, 110, 250, 110, 20, 210, 0],\n",
    "})\n",
    "df\n",
    "\n",
    "df.to_csv(\"cafe.csv\", index=False)"
   ]
  },
  {
   "cell_type": "code",
   "execution_count": 37,
   "id": "e8e435b1-195f-46e6-92e5-1838a0475f56",
   "metadata": {},
   "outputs": [
    {
     "name": "stdout",
     "output_type": "stream",
     "text": [
      "<class 'pandas.core.frame.DataFrame'>\n",
      "RangeIndex: 7 entries, 0 to 6\n",
      "Data columns (total 3 columns):\n",
      " #   Column  Non-Null Count  Dtype \n",
      "---  ------  --------------  ----- \n",
      " 0   메뉴      7 non-null      object\n",
      " 1   가격      7 non-null      int64 \n",
      " 2   칼로리     7 non-null      int64 \n",
      "dtypes: int64(2), object(1)\n",
      "memory usage: 300.0+ bytes\n"
     ]
    }
   ],
   "source": [
    "cafe = pd.read_csv(\"cafe.csv\")\n",
    "cafe\n",
    "cafe.head(2)\n",
    "cafe.tail(3)\n",
    "\n",
    "cafe.shape\n",
    "cafe.info()"
   ]
  },
  {
   "cell_type": "code",
   "execution_count": 45,
   "id": "434f7708-dda6-47a8-b848-d12659efe461",
   "metadata": {},
   "outputs": [
    {
     "data": {
      "text/html": [
       "<div>\n",
       "<style scoped>\n",
       "    .dataframe tbody tr th:only-of-type {\n",
       "        vertical-align: middle;\n",
       "    }\n",
       "\n",
       "    .dataframe tbody tr th {\n",
       "        vertical-align: top;\n",
       "    }\n",
       "\n",
       "    .dataframe thead th {\n",
       "        text-align: right;\n",
       "    }\n",
       "</style>\n",
       "<table border=\"1\" class=\"dataframe\">\n",
       "  <thead>\n",
       "    <tr style=\"text-align: right;\">\n",
       "      <th></th>\n",
       "      <th>가격</th>\n",
       "      <th>칼로리</th>\n",
       "    </tr>\n",
       "  </thead>\n",
       "  <tbody>\n",
       "    <tr>\n",
       "      <th>가격</th>\n",
       "      <td>1.000000</td>\n",
       "      <td>0.713227</td>\n",
       "    </tr>\n",
       "    <tr>\n",
       "      <th>칼로리</th>\n",
       "      <td>0.713227</td>\n",
       "      <td>1.000000</td>\n",
       "    </tr>\n",
       "  </tbody>\n",
       "</table>\n",
       "</div>"
      ],
      "text/plain": [
       "           가격       칼로리\n",
       "가격   1.000000  0.713227\n",
       "칼로리  0.713227  1.000000"
      ]
     },
     "execution_count": 45,
     "metadata": {},
     "output_type": "execute_result"
    }
   ],
   "source": [
    "# 상관 관계\n",
    "# df.corr()\n",
    "df.corr(numeric_only=True)"
   ]
  },
  {
   "cell_type": "code",
   "execution_count": 11,
   "id": "f9ce2f1d-92f7-4f68-bc8f-02436161bc04",
   "metadata": {},
   "outputs": [
    {
     "name": "stdout",
     "output_type": "stream",
     "text": [
      "car     2\n",
      "size    3\n",
      "dtype: int64\n",
      "['Sedan' 'SUV']\n",
      "['S' 'M' 'L']\n",
      "car\n",
      "Sedan    7\n",
      "SUV      4\n",
      "Name: count, dtype: int64\n",
      "size\n",
      "S    6\n",
      "M    4\n",
      "L    1\n",
      "Name: count, dtype: int64\n"
     ]
    }
   ],
   "source": [
    "import pandas as pd\n",
    "# 범주형 데이터 탐색\n",
    "df_car = pd.DataFrame({\n",
    "    \"car\":['Sedan', 'SUV', 'Sedan', 'SUV', 'SUV', 'SUV', 'Sedan', 'Sedan', 'Sedan', 'Sedan', 'Sedan'],\n",
    "    \"size\":['S','M','S','S','M','M','L','S','S', 'M','S']\n",
    "})\n",
    "df_car\n",
    "\n",
    "# 고유값\n",
    "print(df_car.nunique())\n",
    "print(df_car['car'].unique())\n",
    "print(df_car['size'].unique())\n",
    "\n",
    "# 고유한 값의 개수\n",
    "print(df_car['car'].value_counts())\n",
    "print(df_car['size'].value_counts())"
   ]
  },
  {
   "cell_type": "code",
   "execution_count": 75,
   "id": "ff6a11f7-2ce3-4840-af61-aed5ecea4ec2",
   "metadata": {},
   "outputs": [
    {
     "data": {
      "text/html": [
       "<div>\n",
       "<style scoped>\n",
       "    .dataframe tbody tr th:only-of-type {\n",
       "        vertical-align: middle;\n",
       "    }\n",
       "\n",
       "    .dataframe tbody tr th {\n",
       "        vertical-align: top;\n",
       "    }\n",
       "\n",
       "    .dataframe thead th {\n",
       "        text-align: right;\n",
       "    }\n",
       "</style>\n",
       "<table border=\"1\" class=\"dataframe\">\n",
       "  <thead>\n",
       "    <tr style=\"text-align: right;\">\n",
       "      <th></th>\n",
       "      <th>가격</th>\n",
       "      <th>칼로리</th>\n",
       "    </tr>\n",
       "  </thead>\n",
       "  <tbody>\n",
       "    <tr>\n",
       "      <th>count</th>\n",
       "      <td>7.000000</td>\n",
       "      <td>7.000000</td>\n",
       "    </tr>\n",
       "    <tr>\n",
       "      <th>mean</th>\n",
       "      <td>5028.571429</td>\n",
       "      <td>101.428571</td>\n",
       "    </tr>\n",
       "    <tr>\n",
       "      <th>std</th>\n",
       "      <td>631.702160</td>\n",
       "      <td>99.402980</td>\n",
       "    </tr>\n",
       "    <tr>\n",
       "      <th>min</th>\n",
       "      <td>4000.000000</td>\n",
       "      <td>0.000000</td>\n",
       "    </tr>\n",
       "    <tr>\n",
       "      <th>25%</th>\n",
       "      <td>4750.000000</td>\n",
       "      <td>15.000000</td>\n",
       "    </tr>\n",
       "    <tr>\n",
       "      <th>50%</th>\n",
       "      <td>5000.000000</td>\n",
       "      <td>110.000000</td>\n",
       "    </tr>\n",
       "    <tr>\n",
       "      <th>75%</th>\n",
       "      <td>5400.000000</td>\n",
       "      <td>160.000000</td>\n",
       "    </tr>\n",
       "    <tr>\n",
       "      <th>max</th>\n",
       "      <td>5900.000000</td>\n",
       "      <td>250.000000</td>\n",
       "    </tr>\n",
       "  </tbody>\n",
       "</table>\n",
       "</div>"
      ],
      "text/plain": [
       "                가격         칼로리\n",
       "count     7.000000    7.000000\n",
       "mean   5028.571429  101.428571\n",
       "std     631.702160   99.402980\n",
       "min    4000.000000    0.000000\n",
       "25%    4750.000000   15.000000\n",
       "50%    5000.000000  110.000000\n",
       "75%    5400.000000  160.000000\n",
       "max    5900.000000  250.000000"
      ]
     },
     "execution_count": 75,
     "metadata": {},
     "output_type": "execute_result"
    }
   ],
   "source": [
    "df_car.describe()  \n",
    "\n",
    "df_cafe = pd.read_csv(\"cafe.csv\")\n",
    "df.head()\n",
    "df_cafe.describe()\n",
    "df_cafe.describe(include=\"object\")\n",
    "df_cafe.describe(include=\"number\")"
   ]
  },
  {
   "cell_type": "code",
   "execution_count": 15,
   "id": "d44740d5-ba9c-4f90-b157-326c2fe2108c",
   "metadata": {},
   "outputs": [
    {
     "name": "stdout",
     "output_type": "stream",
     "text": [
      "<class 'pandas.core.frame.DataFrame'>\n",
      "RangeIndex: 7 entries, 0 to 6\n",
      "Data columns (total 3 columns):\n",
      " #   Column  Non-Null Count  Dtype  \n",
      "---  ------  --------------  -----  \n",
      " 0   메뉴      7 non-null      object \n",
      " 1   가격      7 non-null      float64\n",
      " 2   칼로리     7 non-null      int64  \n",
      "dtypes: float64(1), int64(1), object(1)\n",
      "memory usage: 300.0+ bytes\n",
      "<class 'pandas.core.frame.DataFrame'>\n",
      "RangeIndex: 7 entries, 0 to 6\n",
      "Data columns (total 3 columns):\n",
      " #   Column  Non-Null Count  Dtype  \n",
      "---  ------  --------------  -----  \n",
      " 0   메뉴      7 non-null      object \n",
      " 1   가격      7 non-null      int32  \n",
      " 2   칼로리     7 non-null      float64\n",
      "dtypes: float64(1), int32(1), object(1)\n",
      "memory usage: 272.0+ bytes\n"
     ]
    }
   ],
   "source": [
    "import pandas as pd\n",
    "\n",
    "df = pd.DataFrame({\n",
    "    \"메뉴\":['아메리카노', '카페라떼', '카페모카', '카푸치노', '에스프레소', '밀크티', '녹차'],\n",
    "    \"가격\":[4500.0, 5000.0, 5500.0, 5000.0, 4000.0, 5900.0, 5300.0],\n",
    "    \"칼로리\":[10, 110, 250, 110, 20, 210, 0],\n",
    "})\n",
    "df.info()\n",
    "df.head()\n",
    "\n",
    "# 자료형 변환\n",
    "df['가격'] = df['가격'].astype('int')\n",
    "\n",
    "df['칼로리'] = df['칼로리'].astype('float')\n",
    "df.info()"
   ]
  },
  {
   "cell_type": "code",
   "execution_count": 35,
   "id": "48eb497c-e5e5-4613-9d9c-0189071d0a9b",
   "metadata": {},
   "outputs": [
    {
     "name": "stdout",
     "output_type": "stream",
     "text": [
      "Index(['메뉴', '가격', '칼로리', '할인가'], dtype='object')\n",
      "<class 'pandas.core.frame.DataFrame'>\n",
      "RangeIndex: 7 entries, 0 to 6\n",
      "Data columns (total 4 columns):\n",
      " #   Column  Non-Null Count  Dtype  \n",
      "---  ------  --------------  -----  \n",
      " 0   메뉴      7 non-null      object \n",
      " 1   가격      7 non-null      int32  \n",
      " 2   칼로리     7 non-null      float64\n",
      " 3   할인가격    7 non-null      int32  \n",
      "dtypes: float64(1), int32(2), object(1)\n",
      "memory usage: 300.0+ bytes\n"
     ]
    },
    {
     "data": {
      "text/html": [
       "<div>\n",
       "<style scoped>\n",
       "    .dataframe tbody tr th:only-of-type {\n",
       "        vertical-align: middle;\n",
       "    }\n",
       "\n",
       "    .dataframe tbody tr th {\n",
       "        vertical-align: top;\n",
       "    }\n",
       "\n",
       "    .dataframe thead th {\n",
       "        text-align: right;\n",
       "    }\n",
       "</style>\n",
       "<table border=\"1\" class=\"dataframe\">\n",
       "  <thead>\n",
       "    <tr style=\"text-align: right;\">\n",
       "      <th></th>\n",
       "      <th>메뉴</th>\n",
       "      <th>가격</th>\n",
       "      <th>칼로리</th>\n",
       "      <th>할인가격</th>\n",
       "    </tr>\n",
       "  </thead>\n",
       "  <tbody>\n",
       "    <tr>\n",
       "      <th>0</th>\n",
       "      <td>아메리카노</td>\n",
       "      <td>4500</td>\n",
       "      <td>10.0</td>\n",
       "      <td>3600</td>\n",
       "    </tr>\n",
       "    <tr>\n",
       "      <th>1</th>\n",
       "      <td>카페라떼</td>\n",
       "      <td>5000</td>\n",
       "      <td>110.0</td>\n",
       "      <td>4000</td>\n",
       "    </tr>\n",
       "    <tr>\n",
       "      <th>2</th>\n",
       "      <td>카페모카</td>\n",
       "      <td>5500</td>\n",
       "      <td>250.0</td>\n",
       "      <td>4400</td>\n",
       "    </tr>\n",
       "    <tr>\n",
       "      <th>3</th>\n",
       "      <td>카푸치노</td>\n",
       "      <td>5000</td>\n",
       "      <td>110.0</td>\n",
       "      <td>4000</td>\n",
       "    </tr>\n",
       "    <tr>\n",
       "      <th>4</th>\n",
       "      <td>에스프레소</td>\n",
       "      <td>4000</td>\n",
       "      <td>20.0</td>\n",
       "      <td>3200</td>\n",
       "    </tr>\n",
       "  </tbody>\n",
       "</table>\n",
       "</div>"
      ],
      "text/plain": [
       "      메뉴    가격    칼로리  할인가격\n",
       "0  아메리카노  4500   10.0  3600\n",
       "1   카페라떼  5000  110.0  4000\n",
       "2   카페모카  5500  250.0  4400\n",
       "3   카푸치노  5000  110.0  4000\n",
       "4  에스프레소  4000   20.0  3200"
      ]
     },
     "execution_count": 35,
     "metadata": {},
     "output_type": "execute_result"
    }
   ],
   "source": [
    "# 새 칼럼 추가\n",
    "# df['new'] = 0\n",
    "\n",
    "# 기존 칼럼 이용 - 파생 변수\n",
    "discount = 0.2\n",
    "# df['할인가'] = df['가격'] * 0.8\n",
    "df['할인가'] = df['가격'] * (1 - discount)\n",
    "\n",
    "df['할인가'] = df['할인가'].astype('int')\n",
    "\n",
    "# 데이터 삭제\n",
    "# 행 삭제\n",
    "# df.drop(1, axis=0, inplace=True)\n",
    "\n",
    "# 열 삭제\n",
    "# df.drop(\"new\", axis=1, inplace=True)\n",
    "# df = df.drop(\"new\", axis=1)\n",
    "# df = df.drop(columns=[\"할인가격\"], axis=1)\n",
    "\n",
    "# 칼럼 이름 변경\n",
    "print(df.columns)\n",
    "\n",
    "# df = df.rename(columns={\"할인가\" : \"할인가격\"})\n",
    "df.rename(columns={\"할인가\" : \"할인가격\"}, inplace=True)\n",
    "\n",
    "df.info()\n",
    "df.head()\n",
    "\n"
   ]
  },
  {
   "cell_type": "code",
   "execution_count": 47,
   "id": "87e4a869-84b9-49d2-9b42-666410f551f3",
   "metadata": {},
   "outputs": [
    {
     "name": "stdout",
     "output_type": "stream",
     "text": [
      "메뉴      아메리카노\n",
      "가격       4500\n",
      "칼로리      10.0\n",
      "할인가격     3600\n",
      "Name: 0, dtype: object\n",
      "5500\n",
      "0    4500\n",
      "1    5000\n",
      "2    5500\n",
      "3    5000\n",
      "4    4000\n",
      "5    5900\n",
      "6    5300\n",
      "Name: 가격, dtype: int32\n",
      "메뉴      카페모카\n",
      "가격      5500\n",
      "칼로리    250.0\n",
      "Name: 2, dtype: object\n",
      "메뉴      카페모카\n",
      "칼로리    250.0\n",
      "Name: 2, dtype: object\n",
      "      메뉴    칼로리\n",
      "2   카페모카  250.0\n",
      "3   카푸치노  110.0\n",
      "4  에스프레소   20.0\n"
     ]
    }
   ],
   "source": [
    "# 인덱싱 / 슬라이싱 - loc\n",
    "print(df.loc[0])\n",
    "\n",
    "print(df.loc[2, \"가격\"])\n",
    "\n",
    "print(df.loc[:, \"가격\"])\n",
    "\n",
    "print(df.loc[2, \"메뉴\":\"칼로리\"])\n",
    "\n",
    "print(df.loc[2, [\"메뉴\", \"칼로리\"]])\n",
    "\n",
    "print(df.loc[2:4, [\"메뉴\", \"칼로리\"]])"
   ]
  },
  {
   "cell_type": "code",
   "execution_count": 151,
   "id": "5ff55cdd-b959-43eb-93db-3e27ef9000e1",
   "metadata": {},
   "outputs": [
    {
     "name": "stdout",
     "output_type": "stream",
     "text": [
      "      메뉴    가격  칼로리\n",
      "0  아메리카노  4500   10\n",
      "1   카페라떼  5000  110\n",
      "2   카페모카  5500  250\n",
      "3   카푸치노  5000  110\n",
      "4  에스프레소  4000   20\n",
      "5    밀크티  5900  210\n",
      "6     녹차  5300    0\n",
      "카페라떼\n",
      "카페라떼\n",
      "0    4500\n",
      "1    5000\n",
      "2    5500\n",
      "3    5000\n",
      "4    4000\n",
      "5    5900\n",
      "6    5300\n",
      "Name: 가격, dtype: int64\n",
      "메뉴    카페모카\n",
      "가격    5500\n",
      "Name: 2, dtype: object\n"
     ]
    }
   ],
   "source": [
    "# 인덱싱 / 슬라이싱 - iloc\n",
    "df = pd.read_csv('cafe.csv')\n",
    "print(df)\n",
    "\n",
    "# df.iloc[0]\n",
    "print(df.iloc[1, 0])\n",
    "print(df.loc[1, \"메뉴\"])\n",
    "\n",
    "print(df.iloc[:, 1])\n",
    "print(df.iloc[2, 0:2])"
   ]
  }
 ],
 "metadata": {
  "kernelspec": {
   "display_name": "Python 3 (ipykernel)",
   "language": "python",
   "name": "python3"
  },
  "language_info": {
   "codemirror_mode": {
    "name": "ipython",
    "version": 3
   },
   "file_extension": ".py",
   "mimetype": "text/x-python",
   "name": "python",
   "nbconvert_exporter": "python",
   "pygments_lexer": "ipython3",
   "version": "3.12.4"
  }
 },
 "nbformat": 4,
 "nbformat_minor": 5
}

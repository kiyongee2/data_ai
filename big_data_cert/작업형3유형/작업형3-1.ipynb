{
 "cells": [
  {
   "cell_type": "markdown",
   "id": "d69a9763-6bb0-44e1-9a2e-e9404d43438d",
   "metadata": {},
   "source": [
    "#### 단일 표본(One Sample t-test) 검정"
   ]
  },
  {
   "cell_type": "code",
   "execution_count": 25,
   "id": "38875973-0307-4e7f-910e-d6ba6125f0d6",
   "metadata": {},
   "outputs": [
    {
     "name": "stdout",
     "output_type": "stream",
     "text": [
      "t_statistic: 2.1155384372682344\n",
      "p_value: 0.043092957066609296\n",
      "귀무가설 기각, 대립가설 채택\n"
     ]
    }
   ],
   "source": [
    "\"\"\"\n",
    "# 어떤 집단의 평균이 특정 값과 유의미하게 다른 지를 검정하는 통계 방법이다.\n",
    "# 표본 - 표본 평균\n",
    "# t-test(t-검정) - 유의 수준(0.05) 보다 작으면 통계적으로는 유의미하게 다르다.\n",
    "# stats.ttest_1samp(데이터, popmean=모집단 평균, alternative)\n",
    "# 예제 - 영화관에서 판매하는 팝콘의 무게가 평균적으로 120g인지를 검정\n",
    "  - 귀무가설: 팝콘 라지 사이즈의 평균 무게는 120g이다.\n",
    "  - 대립가설: 팝콘 라지 사이즈의 평균 무게는 120g이 아니다.\n",
    "\"\"\"\n",
    "\n",
    "import pandas as pd\n",
    "import numpy as np\n",
    "from scipy import stats\n",
    "\n",
    "df = pd.DataFrame({\n",
    "    'weights': [122,121,120,119,125,115,121,118,117,127,\n",
    "                123,129,119,124,114,126,122,124,121,116,\n",
    "                120,123,127,118,122,117,124,125,123,121]\n",
    "})\n",
    "df\n",
    "\n",
    "# 양측검정 : 검정 통계량, p-값\n",
    "# print(stats.ttest_1samp(df['weights'], 120))\n",
    "\n",
    "t_statistic, p_value = stats.ttest_1samp(df['weights'], 120)\n",
    "\n",
    "print(\"t_statistic:\", t_statistic)\n",
    "print(\"p_value:\", p_value)\n",
    "print(\"귀무가설 기각, 대립가설 채택\")"
   ]
  },
  {
   "cell_type": "markdown",
   "id": "807769c7-25ad-4daa-804f-6889f705271f",
   "metadata": {},
   "source": [
    "#### 대응 표본 검정(Paired sample t-test)"
   ]
  },
  {
   "cell_type": "code",
   "execution_count": 29,
   "id": "252cbd3c-4e2f-4fe0-b429-d5ff60c3d98b",
   "metadata": {},
   "outputs": [
    {
     "name": "stdout",
     "output_type": "stream",
     "text": [
      "0.56\n",
      "TtestResult(statistic=2.1818699281825236, pvalue=0.059589330071355334, df=8.272682358753572)\n",
      "검정통계량: 2.21\n",
      "p-값: 0.03\n",
      "귀무가설 기각\n"
     ]
    }
   ],
   "source": [
    "\"\"\"\n",
    "동일한 집단에 대해 시간차를 두고 두 번의 측정결과를 비교할 때 사용\n",
    "# stats.ttest_rel(a 표본 데이터, b 표본데이터, alternative)\n",
    "# 예제 - 어떤 기업이 새로운 교육 프로그램을 도입해 직원의 교육전과 후의 성과 검정\n",
    "  - 귀무가설: 새로운 교육 프로그램은 효과가 없다.\n",
    "  - 대립가설: 새로운 교육 프로그램은 효과가 있다.\n",
    "\"\"\"\n",
    "\n",
    "import pandas as pd\n",
    "import numpy as np\n",
    "from scipy import stats\n",
    "\n",
    "df = pd.DataFrame({\n",
    "    'before': [85, 90, 92, 88, 86, 89, 83, 87],\n",
    "    'after': [85.5, 89.9, 92.6, 89.5, 85.8, 88.8, 84.6, 87.8]\n",
    "})\n",
    "df\n",
    "\n",
    "# 표본 평균\n",
    "df['diff'] = df['after'] - df['before']\n",
    "d_mean = round(df['diff'].mean(), 2)\n",
    "print(d_mean)\n",
    "\n",
    "# 검정 통계량\n",
    "# 단측 검정\n",
    "# t_statistic, p_value = stats.ttest_rel(df['before'], df['after'], alternative='less')\n",
    "# 단측 검정\n",
    "t_statistic, p_value = stats.ttest_rel(df['after'], df['before'], alternative='greater')\n",
    "print(result)\n",
    "print(\"검정통계량:\", round(t_statistic, 2))\n",
    "print(\"p-값:\", round(p_value, 2))\n",
    "print(\"귀무가설 기각\")"
   ]
  },
  {
   "cell_type": "markdown",
   "id": "614db6f9-e325-49e8-bd8b-7bb675c67724",
   "metadata": {},
   "source": [
    "#### 독립 표본 검정(Independent sample t-test)"
   ]
  },
  {
   "cell_type": "code",
   "execution_count": 39,
   "id": "3906acff-e86c-4393-9829-e2e60fcd549d",
   "metadata": {},
   "outputs": [
    {
     "name": "stdout",
     "output_type": "stream",
     "text": [
      "TtestResult(statistic=2.2108140580092237, pvalue=0.04914857789252186, df=11.0)\n",
      "검정통계량: 2.211\n",
      "p-값: 0.049\n",
      "귀무가설 기각\n",
      "TtestResult(statistic=2.1818699281825236, pvalue=0.059589330071355334, df=8.272682358753572)\n",
      "검정통계량: 2.182\n",
      "p-값: 0.06\n",
      "귀무가설 기각하지 못함\n"
     ]
    }
   ],
   "source": [
    "\"\"\"\n",
    "# 두 그룹(집단)간의 평균이 서로 다름을 판단하는 통계 방법\n",
    "# ttest_ind(a, b, alternative, equal_val)\n",
    "# 예제 - 어느 학교의 반별 수학 시험 평균 점수가 차이가 있는지 검정\n",
    "  - 귀무가설: 반별 수학 평균 점수는 같다.\n",
    "  - 대립가설: 반별 수학 평균 점수는 다르다.\n",
    "\"\"\"\n",
    "\n",
    "import pandas as pd\n",
    "class1 = [85, 90, 92, 88, 86, 89, 83, 87]\n",
    "class2 = [80, 82, 88, 85, 84]\n",
    "\n",
    "from scipy import stats\n",
    "\n",
    "# 모집단의 분산이 같은 경우\n",
    "result = stats.ttest_ind(class1, class2, equal_var=True)\n",
    "print(result)\n",
    "print(\"검정통계량:\", round(result.statistic, 3))\n",
    "print(\"p-값:\", round(result.pvalue, 3))\n",
    "print(\"귀무가설 기각\")\n",
    "\n",
    "# 모집단의 분산이 다른 경우\n",
    "result = stats.ttest_ind(class1, class2, equal_var=False)\n",
    "print(result)\n",
    "print(\"검정통계량:\", round(result.statistic, 3))\n",
    "print(\"p-값:\", round(result.pvalue, 3))\n",
    "print(\"귀무가설 기각하지 못함\")"
   ]
  },
  {
   "cell_type": "markdown",
   "id": "bb1ba28c-82ab-4922-8ffe-29c3f8dc6f2a",
   "metadata": {},
   "source": [
    "### 분산 분석\n",
    "#### 분산분석(ANOVA)은 여러 집단의 평균 차이를 통계적으로 유의미한지 검정하는 방법. <br><br>주로 3개 이상의 집단을 비교할 때 사용함\n",
    "- 일원 분산 분석: 단일 요인의 수준 간 평균의 차이를 검정\n",
    "- 이원 분산 분석: 두 요인의 수준 간 및 그들의 상호 작용이 평균에 미치는 영향을 검정"
   ]
  },
  {
   "cell_type": "markdown",
   "id": "a47de0f5-5146-459e-bba4-b2e2adc2449d",
   "metadata": {},
   "source": [
    "#### 일원 분산 분석(One-way ANOVA)"
   ]
  },
  {
   "cell_type": "code",
   "execution_count": 69,
   "id": "f0210a99-a0a3-43f9-82b4-9e81c1f5d81e",
   "metadata": {},
   "outputs": [
    {
     "name": "stdout",
     "output_type": "stream",
     "text": [
      "      A     B     C    D\n",
      "0  10.5  11.9  11.2  9.8\n",
      "1  11.3  12.4  11.7  9.4\n",
      "\n",
      " === 일원 분산 분석 ===\n",
      "F_onewayResult(statistic=89.12613851177174, pvalue=1.001838152252373e-16)\n",
      "p-value 가 0.05보다 크므로 귀무가설을 기각하지 못한다.\n",
      "  비료    성장\n",
      "0  A  10.5\n",
      "1  A  11.3\n",
      "2  A  10.8\n",
      "3  A   9.6\n",
      "4  A  11.1\n",
      "            df    sum_sq    mean_sq          F        PR(>F)\n",
      "비료         3.0  43.21875  14.406250  89.126139  1.001838e-16\n",
      "Residual  36.0   5.81900   0.161639        NaN           NaN\n",
      "p-value 가 0.05보다 작으므로 귀무가설을 기각\n"
     ]
    }
   ],
   "source": [
    "\"\"\"\n",
    "# 분산 분석의 기본 가정은 독립 표본 t-검정과 매우 유사함\n",
    "# f_oneway(sample1, sample2, sample3...)\n",
    "# 예제 - 4종류의 비료를 사용한 식물의 성장에 대한 실험 결과\n",
    "  - 귀무가설: 네 가지 비료의 효과는 동일하다.\n",
    "  - 대립가설: 네 가지 비료의 효과에는 차이가 있다.\n",
    "\"\"\"\n",
    "\n",
    "import pandas as pd\n",
    "df = pd.DataFrame({\n",
    "    'A': [10.5, 11.3, 10.8, 9.6, 11.1, 10.2, 10.9, 11.4, 10.5, 10.3],\n",
    "    'B': [11.9, 12.4, 12.1, 13.2, 12.5, 11.8, 12.2, 12.9, 12.4, 12.3],\n",
    "    'C': [11.2, 11.7, 11.6, 10.9, 11.3, 11.1, 10.8, 11.5, 11.4, 11.0],\n",
    "    'D': [9.8, 9.4, 9.1, 9.5, 9.6, 9.9, 9.2, 9.7, 9.3, 9.4]\n",
    "})\n",
    "print(df.head(2))\n",
    "\n",
    "from scipy import stats\n",
    "\n",
    "print(\"\\n === 일원 분산 분석 ===\")\n",
    "result = stats.f_oneway(df['A'], df['B'], df['C'], df['D'])\n",
    "print(result)\n",
    "print(\"p-value 가 0.05보다 크므로 귀무가설을 기각하지 못한다.\")\n",
    "\n",
    "\"\"\"\n",
    "# 일원 분산 분석(ols 활용)\n",
    " - statsmodels 라이브러리 사용\n",
    " - ols(formula, data) : 최소제곱 선형 회귀\n",
    " - formula: 종속변수 ~ 독립변수, '+'는 독립변수를 추가한다는 의미\n",
    " - data: 데이터프레임\n",
    "\"\"\"\n",
    "\n",
    "import pandas as pd\n",
    "from statsmodels.formula.api import ols\n",
    "from statsmodels.stats.anova import anova_lm\n",
    "\n",
    "df = pd.read_csv(\"fertilizer.csv\")\n",
    "print(df.head())\n",
    "\n",
    "model = ols('성장 ~ 비료', df).fit()\n",
    "print(anova_lm(model))\n",
    "print(\"1.001838e-16->0.00000000000000001\")\n",
    "print(\"p-value 가 0.05보다 작으므로 귀무가설을 기각\")"
   ]
  },
  {
   "cell_type": "markdown",
   "id": "53ebb7bd-ded2-4b83-a37b-7dab20e04977",
   "metadata": {},
   "source": [
    "#### 이원 분산 분석(Two-way ANOVA)"
   ]
  },
  {
   "cell_type": "code",
   "execution_count": 67,
   "id": "478c9e1b-aef1-47a7-bd4b-b50c4932a2ec",
   "metadata": {},
   "outputs": [
    {
     "name": "stdout",
     "output_type": "stream",
     "text": [
      "  나무  비료        성장률\n",
      "0  A   1  54.967142\n",
      "1  A   1  48.617357\n",
      "2  A   1  56.476885\n",
      "3  A   1  65.230299\n",
      "4  A   1  47.658466\n",
      "             df       sum_sq      mean_sq          F        PR(>F)\n",
      "나무          3.0  4783.353938  1594.451313  18.391274  9.016693e-10\n",
      "비료          1.0   873.322002   873.322002  10.073374  1.942421e-03\n",
      "나무:비료       3.0   394.801585   131.600528   1.517952  2.137666e-01\n",
      "Residual  112.0  9709.960792    86.696078        NaN           NaN\n"
     ]
    },
    {
     "data": {
      "text/plain": [
       "'\\n# 결론\\n  - 나무 종류에 대한 효과\\n  - p-value는 9.016693e-10(0.000000000090) 이므로 나무 종류에 따른\\n    성장률에 유의미한 차이가 있다\\n\\n나무 종류와 비료 종류는 모두 성장률에 유의미한 영향을 준다\\n'"
      ]
     },
     "execution_count": 67,
     "metadata": {},
     "output_type": "execute_result"
    }
   ],
   "source": [
    "\"\"\"\n",
    "요인의 수가 2개인 경우\n",
    "일원 분산 분석으로는 상호 작용의 효과를 알 수 없다.\n",
    "- 나무(주효과)\n",
    "- 비료(주효과)\n",
    "- 상호작용효과\n",
    "\"\"\"\n",
    "\n",
    "import pandas as pd\n",
    "df = pd.read_csv(\"tree.csv\")\n",
    "print(df.head())\n",
    "\n",
    "import statsmodels.api as sm\n",
    "from statsmodels.formula.api import ols\n",
    "\n",
    "model = ols('성장률 ~  나무 + 비료 + 나무:비료', df).fit()\n",
    "anova_table = sm.stats.anova_lm(model)\n",
    "print(anova_table)\n",
    "\n",
    "\"\"\"\n",
    "# 결론\n",
    "  - 나무 종류에 대한 효과\n",
    "  - p-value는 9.016693e-10(0.000000000090) 이므로 나무 종류에 따른\n",
    "    성장률에 유의미한 차이가 있다\n",
    "    나무 종류와 비료 종류는 모두 성장률에 유의미한 영향을 준다\n",
    "  - 나무와 비료 간의 상호작용은 성장률에 유의미한 영향을 주지 않는다.\n",
    "\"\"\""
   ]
  },
  {
   "cell_type": "markdown",
   "id": "a7672ea0-0d53-4971-ad50-18e553587ba1",
   "metadata": {},
   "source": [
    "#### 카이제곱 검정(Chi-square test)\n",
    "##### 통계학에서 범주형 데이터의 관찰된 빈도와 기대된 빈도를 비교하여 두 변수 간의\n",
    "##### 독립성이나 분포의 적합성을 검정하는 방법이다.\n",
    "##### 주요 유형은 적합도 검정, 독립성 검정, 동질성 검증이 있다"
   ]
  },
  {
   "cell_type": "code",
   "execution_count": 73,
   "id": "5f90a477-1c72-4538-900d-06df05f8f8e5",
   "metadata": {},
   "outputs": [
    {
     "name": "stdout",
     "output_type": "stream",
     "text": [
      "Power_divergenceResult(statistic=7.142857142857142, pvalue=0.028115659748972056)\n",
      "검정통계량: 7.14\n",
      "p-값: 0.03\n",
      "귀무가설 기각\n"
     ]
    }
   ],
   "source": [
    "\"\"\"\n",
    "적합도 검정(Goodness of fit test)\n",
    "1개의 범주형 변수가 특정 분포를 잘 따르고 있는지 검정\n",
    " - 귀무가설: 이 도시의 아이스크림 맛 선호도는 전국적인 선호도와 동일하다.\n",
    " - 대립가설: 이 도시의 아이스크림 맛 선호도는 전국적인 선호도와 다르다.\n",
    "chisquare(observed(관측빈도), expected(기대빈도), ddof(자유도), axis(축))\n",
    "\"\"\"\n",
    "\n",
    "from scipy import stats\n",
    "\n",
    "observed = [150, 120, 30]\n",
    "expected = [0.5*300, 0.35*300, 0.15*300]\n",
    "\n",
    "result = stats.chisquare(f_obs=observed, f_exp=expected)\n",
    "print(result)\n",
    "print(\"검정통계량:\", round(result.statistic, 2))\n",
    "print(\"p-값:\", round(result.pvalue, 2))\n",
    "print(\"귀무가설 기각\")"
   ]
  },
  {
   "cell_type": "code",
   "execution_count": 111,
   "id": "2f8e0456-551d-47ee-a32f-31ac37ff976b",
   "metadata": {},
   "outputs": [
    {
     "name": "stdout",
     "output_type": "stream",
     "text": [
      "col_0  좋아하지 않음  좋아함\n",
      "row_0              \n",
      "남자          30   80\n",
      "여자          10   90\n",
      "Chi2ContingencyResult(statistic=9.045792112299468, pvalue=0.0026330012530379632, dof=1, expected_freq=array([[20.95238095, 89.04761905],\n",
      "       [19.04761905, 80.95238095]]))\n",
      "9.045792112299468 0.0026330012530379632\n"
     ]
    }
   ],
   "source": [
    "\"\"\"\n",
    "# 독립성 검정 - 2개의 변수가 서로 독립적인지, 연관이 있는지 검정\n",
    "  - 귀무가설: 성별과 운동 선호도는 독립적이다.\n",
    "  - 대립가설: 성별과 운동 선호도는 독립적이지 않다.\n",
    "\"\"\"\n",
    "\n",
    "from scipy.stats import chi2_contingency\n",
    "import pandas as pd\n",
    "\n",
    "# 열방향\n",
    "# df = pd.DataFrame({\n",
    "#     \"좋아함\": [80, 30],\n",
    "#     \"좋아하지 않음\": [90, 10],\n",
    "# },  index=[\"남자\", \"여자\"])\n",
    "# # print(df)\n",
    "\n",
    "# # 행 방향\n",
    "# # df = pd.DataFrame([[80, 30], [90, 10]],\n",
    "# #                   columns=[\"좋아함\", \"좋아하지 않음\"],\n",
    "# #                   index=[\"남자\", \"여자\"])\n",
    "\n",
    "# # 독립성 검정 - 교차표 기반\n",
    "# # print(type(chi2_contingency))\n",
    "# # print(help(chi2_contingency))\n",
    "# print(chi2_contingency(df))\n",
    "\n",
    "# result = chi2_contingency(df)\n",
    "# print(\"검정통계량: \", result.statistic)\n",
    "# print(\"p-값: \", result.pvalue)\n",
    "# print(\"귀무가설 기각\")\n",
    "\n",
    "\n",
    "# 로우(raw) 데이터가 주어짐\n",
    "data = {\n",
    "    '성별': ['남자'] * 110 + ['여자'] * 100,\n",
    "    '운동': ['좋아함'] * 80 + ['좋아하지 않음'] * 30 +\n",
    "          ['좋아함'] * 90 + ['좋아하지 않음'] * 10\n",
    "}\n",
    "df = pd.DataFrame(data)\n",
    "# print(df.iloc[90:120, :])\n",
    "table = pd.crosstab(data['성별'], data['운동'])\n",
    "print(table)\n",
    "\n",
    "result = chi2_contingency(table)\n",
    "print(result)\n",
    "# t_stat, p, dof, f_exp = chi2_contingency(table)\n",
    "# print(t_stat, p)\n",
    "print(\"검정통계량:\", round(result.statistic, 3))\n",
    "print(\"p-값:\", round(result.pvalue, 3))\n",
    "print(\"귀무가설 기각\")"
   ]
  },
  {
   "cell_type": "code",
   "execution_count": 113,
   "id": "a523a179-9fb0-4b5c-b897-344d29db5db0",
   "metadata": {},
   "outputs": [
    {
     "name": "stdout",
     "output_type": "stream",
     "text": [
      "    0   1\n",
      "0  50  50\n",
      "1  30  70\n",
      "Chi2ContingencyResult(statistic=7.520833333333334, pvalue=0.006098945931214352, dof=1, expected_freq=array([[40., 60.],\n",
      "       [40., 60.]]))\n",
      "동아리가입여부  가입  미가입\n",
      "학과              \n",
      "컴퓨터공학과   30   70\n",
      "통계학과     50   50\n",
      "Chi2ContingencyResult(statistic=7.520833333333334, pvalue=0.006098945931214352, dof=1, expected_freq=array([[40., 60.],\n",
      "       [40., 60.]]))\n",
      "검정통계량: 7.521\n",
      "p-값: 0.006\n",
      "귀무가설 기각하지 못함\n"
     ]
    }
   ],
   "source": [
    "\"\"\"\n",
    "동질성 검정 - 2개 이상의 집단에서 분산의 동질성을 가졌는지 검정\n",
    "  - 귀무가설: 두 학과의 동아리 가입 비율은 동일하다.\n",
    "  - 대립가설: 두 학과의 동아리 가입 비율은 동일하지 않다.\n",
    "\"\"\"\n",
    "import pandas as pd\n",
    "from scipy import stats\n",
    "\n",
    "df = pd.DataFrame([[50, 50], [30, 70]])\n",
    "print(df)\n",
    "\n",
    "# 동질설 검정\n",
    "print(stats.chi2_contingency(df))\n",
    "\n",
    "# raw(로우) 데이터가 주어졌을때\n",
    "data = {\n",
    "    '학과': ['통계학과'] * 100 + ['컴퓨터공학과'] * 100,\n",
    "    '동아리가입여부': ['가입'] * 50 + ['미가입'] * 50 + ['가입'] * 30 + ['미가입'] * 70\n",
    "}\n",
    "df = pd.DataFrame(data)\n",
    "# print(df)\n",
    "# print(df.sample(5))\n",
    "\n",
    "table = pd.crosstab(df['학과'], df['동아리가입여부'])\n",
    "print(table)\n",
    "\n",
    "result = stats.chi2_contingency(table)\n",
    "print(result)\n",
    "print(\"검정통계량:\", round(result.statistic, 3))\n",
    "print(\"p-값:\", round(result.pvalue, 3))\n",
    "print(\"귀무가설 기각하지 못함\")"
   ]
  },
  {
   "cell_type": "code",
   "execution_count": null,
   "id": "3f76f402-430a-45af-b558-e7967b20d078",
   "metadata": {},
   "outputs": [],
   "source": []
  }
 ],
 "metadata": {
  "kernelspec": {
   "display_name": "Python 3 (ipykernel)",
   "language": "python",
   "name": "python3"
  },
  "language_info": {
   "codemirror_mode": {
    "name": "ipython",
    "version": 3
   },
   "file_extension": ".py",
   "mimetype": "text/x-python",
   "name": "python",
   "nbconvert_exporter": "python",
   "pygments_lexer": "ipython3",
   "version": "3.12.4"
  }
 },
 "nbformat": 4,
 "nbformat_minor": 5
}

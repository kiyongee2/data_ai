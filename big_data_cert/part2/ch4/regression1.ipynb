{
 "cells": [
  {
   "cell_type": "code",
   "execution_count": 99,
   "id": "27ff29f0-525e-403f-9cb9-3ae2bacbd0ed",
   "metadata": {},
   "outputs": [
    {
     "data": {
      "text/plain": [
       "((6818, 12), (1705, 11))"
      ]
     },
     "execution_count": 99,
     "metadata": {},
     "output_type": "execute_result"
    }
   ],
   "source": [
    "import pandas as pd\n",
    "\n",
    "train = pd.read_csv(\"train.csv\")\n",
    "test = pd.read_csv(\"test.csv\")\n",
    "\n",
    "train.shape, test.shape"
   ]
  },
  {
   "cell_type": "code",
   "execution_count": 101,
   "id": "fdd3c7c5-e929-43dc-962e-bad62ef3f737",
   "metadata": {},
   "outputs": [
    {
     "name": "stdout",
     "output_type": "stream",
     "text": [
      "<class 'pandas.core.frame.DataFrame'>\n",
      "RangeIndex: 6818 entries, 0 to 6817\n",
      "Data columns (total 12 columns):\n",
      " #   Column                     Non-Null Count  Dtype  \n",
      "---  ------                     --------------  -----  \n",
      " 0   Item_Identifier            6818 non-null   object \n",
      " 1   Item_Weight                5656 non-null   float64\n",
      " 2   Item_Fat_Content           6818 non-null   object \n",
      " 3   Item_Visibility            6818 non-null   float64\n",
      " 4   Item_Type                  6818 non-null   object \n",
      " 5   Item_MRP                   6818 non-null   float64\n",
      " 6   Outlet_Identifier          6818 non-null   object \n",
      " 7   Outlet_Establishment_Year  6818 non-null   int64  \n",
      " 8   Outlet_Size                4878 non-null   object \n",
      " 9   Outlet_Location_Type       6818 non-null   object \n",
      " 10  Outlet_Type                6818 non-null   object \n",
      " 11  Item_Outlet_Sales          6818 non-null   float64\n",
      "dtypes: float64(4), int64(1), object(7)\n",
      "memory usage: 639.3+ KB\n",
      "<class 'pandas.core.frame.DataFrame'>\n",
      "RangeIndex: 1705 entries, 0 to 1704\n",
      "Data columns (total 11 columns):\n",
      " #   Column                     Non-Null Count  Dtype  \n",
      "---  ------                     --------------  -----  \n",
      " 0   Item_Identifier            1705 non-null   object \n",
      " 1   Item_Weight                1404 non-null   float64\n",
      " 2   Item_Fat_Content           1705 non-null   object \n",
      " 3   Item_Visibility            1705 non-null   float64\n",
      " 4   Item_Type                  1705 non-null   object \n",
      " 5   Item_MRP                   1705 non-null   float64\n",
      " 6   Outlet_Identifier          1705 non-null   object \n",
      " 7   Outlet_Establishment_Year  1705 non-null   int64  \n",
      " 8   Outlet_Size                1235 non-null   object \n",
      " 9   Outlet_Location_Type       1705 non-null   object \n",
      " 10  Outlet_Type                1705 non-null   object \n",
      "dtypes: float64(3), int64(1), object(7)\n",
      "memory usage: 146.7+ KB\n"
     ]
    }
   ],
   "source": [
    "train.info()\n",
    "test.info()"
   ]
  },
  {
   "cell_type": "code",
   "execution_count": 11,
   "id": "5549a1ab-5634-4a7e-9bf4-cb5e6728ef6a",
   "metadata": {},
   "outputs": [
    {
     "data": {
      "text/html": [
       "<div>\n",
       "<style scoped>\n",
       "    .dataframe tbody tr th:only-of-type {\n",
       "        vertical-align: middle;\n",
       "    }\n",
       "\n",
       "    .dataframe tbody tr th {\n",
       "        vertical-align: top;\n",
       "    }\n",
       "\n",
       "    .dataframe thead th {\n",
       "        text-align: right;\n",
       "    }\n",
       "</style>\n",
       "<table border=\"1\" class=\"dataframe\">\n",
       "  <thead>\n",
       "    <tr style=\"text-align: right;\">\n",
       "      <th></th>\n",
       "      <th>Item_Weight</th>\n",
       "      <th>Item_Visibility</th>\n",
       "      <th>Item_MRP</th>\n",
       "      <th>Outlet_Establishment_Year</th>\n",
       "      <th>Item_Outlet_Sales</th>\n",
       "    </tr>\n",
       "  </thead>\n",
       "  <tbody>\n",
       "    <tr>\n",
       "      <th>count</th>\n",
       "      <td>5656.000000</td>\n",
       "      <td>6818.000000</td>\n",
       "      <td>6818.000000</td>\n",
       "      <td>6818.000000</td>\n",
       "      <td>6818.000000</td>\n",
       "    </tr>\n",
       "    <tr>\n",
       "      <th>mean</th>\n",
       "      <td>12.872703</td>\n",
       "      <td>0.066121</td>\n",
       "      <td>140.419533</td>\n",
       "      <td>1997.885890</td>\n",
       "      <td>2190.941459</td>\n",
       "    </tr>\n",
       "    <tr>\n",
       "      <th>std</th>\n",
       "      <td>4.651034</td>\n",
       "      <td>0.051383</td>\n",
       "      <td>62.067861</td>\n",
       "      <td>8.339795</td>\n",
       "      <td>1706.131256</td>\n",
       "    </tr>\n",
       "    <tr>\n",
       "      <th>min</th>\n",
       "      <td>4.555000</td>\n",
       "      <td>0.000000</td>\n",
       "      <td>31.290000</td>\n",
       "      <td>1985.000000</td>\n",
       "      <td>33.290000</td>\n",
       "    </tr>\n",
       "    <tr>\n",
       "      <th>25%</th>\n",
       "      <td>8.785000</td>\n",
       "      <td>0.026914</td>\n",
       "      <td>93.610050</td>\n",
       "      <td>1987.000000</td>\n",
       "      <td>836.577700</td>\n",
       "    </tr>\n",
       "    <tr>\n",
       "      <th>50%</th>\n",
       "      <td>12.600000</td>\n",
       "      <td>0.053799</td>\n",
       "      <td>142.448300</td>\n",
       "      <td>1999.000000</td>\n",
       "      <td>1806.648300</td>\n",
       "    </tr>\n",
       "    <tr>\n",
       "      <th>75%</th>\n",
       "      <td>17.000000</td>\n",
       "      <td>0.095273</td>\n",
       "      <td>185.060150</td>\n",
       "      <td>2004.000000</td>\n",
       "      <td>3115.944000</td>\n",
       "    </tr>\n",
       "    <tr>\n",
       "      <th>max</th>\n",
       "      <td>21.350000</td>\n",
       "      <td>0.328391</td>\n",
       "      <td>266.888400</td>\n",
       "      <td>2009.000000</td>\n",
       "      <td>13086.964800</td>\n",
       "    </tr>\n",
       "  </tbody>\n",
       "</table>\n",
       "</div>"
      ],
      "text/plain": [
       "       Item_Weight  Item_Visibility     Item_MRP  Outlet_Establishment_Year  \\\n",
       "count  5656.000000      6818.000000  6818.000000                6818.000000   \n",
       "mean     12.872703         0.066121   140.419533                1997.885890   \n",
       "std       4.651034         0.051383    62.067861                   8.339795   \n",
       "min       4.555000         0.000000    31.290000                1985.000000   \n",
       "25%       8.785000         0.026914    93.610050                1987.000000   \n",
       "50%      12.600000         0.053799   142.448300                1999.000000   \n",
       "75%      17.000000         0.095273   185.060150                2004.000000   \n",
       "max      21.350000         0.328391   266.888400                2009.000000   \n",
       "\n",
       "       Item_Outlet_Sales  \n",
       "count        6818.000000  \n",
       "mean         2190.941459  \n",
       "std          1706.131256  \n",
       "min            33.290000  \n",
       "25%           836.577700  \n",
       "50%          1806.648300  \n",
       "75%          3115.944000  \n",
       "max         13086.964800  "
      ]
     },
     "execution_count": 11,
     "metadata": {},
     "output_type": "execute_result"
    }
   ],
   "source": [
    "train.describe()"
   ]
  },
  {
   "cell_type": "code",
   "execution_count": 103,
   "id": "5543b0a3-5266-423c-9e1b-fe8de69b6449",
   "metadata": {},
   "outputs": [
    {
     "data": {
      "text/plain": [
       "Item_Identifier                0\n",
       "Item_Weight                  301\n",
       "Item_Fat_Content               0\n",
       "Item_Visibility                0\n",
       "Item_Type                      0\n",
       "Item_MRP                       0\n",
       "Outlet_Identifier              0\n",
       "Outlet_Establishment_Year      0\n",
       "Outlet_Size                  470\n",
       "Outlet_Location_Type           0\n",
       "Outlet_Type                    0\n",
       "dtype: int64"
      ]
     },
     "execution_count": 103,
     "metadata": {},
     "output_type": "execute_result"
    }
   ],
   "source": [
    "train.isnull().sum()\n",
    "test.isnull().sum()"
   ]
  },
  {
   "cell_type": "code",
   "execution_count": 105,
   "id": "395c8494-dcf8-40ec-8e8d-684a77044957",
   "metadata": {},
   "outputs": [
    {
     "data": {
      "text/plain": [
       "Item_Identifier              0\n",
       "Item_Weight                  0\n",
       "Item_Fat_Content             0\n",
       "Item_Visibility              0\n",
       "Item_Type                    0\n",
       "Item_MRP                     0\n",
       "Outlet_Identifier            0\n",
       "Outlet_Establishment_Year    0\n",
       "Outlet_Size                  0\n",
       "Outlet_Location_Type         0\n",
       "Outlet_Type                  0\n",
       "dtype: int64"
      ]
     },
     "execution_count": 105,
     "metadata": {},
     "output_type": "execute_result"
    }
   ],
   "source": [
    "# 데이터 전처리\n",
    "train[\"Item_Weight\"] = train[\"Item_Weight\"].fillna(train[\"Item_Weight\"].min())\n",
    "train[\"Outlet_Size\"] = train[\"Outlet_Size\"].fillna(train[\"Outlet_Size\"].mode()[0])\n",
    "\n",
    "test[\"Item_Weight\"] = test[\"Item_Weight\"].fillna(test[\"Item_Weight\"].min())\n",
    "test[\"Outlet_Size\"] = test[\"Outlet_Size\"].fillna(test[\"Outlet_Size\"].mode()[0])\n",
    "train.isnull().sum()\n",
    "test.isnull().sum()"
   ]
  },
  {
   "cell_type": "code",
   "execution_count": 107,
   "id": "bbc7c9c5-50db-4dd3-aacb-81463b771c74",
   "metadata": {},
   "outputs": [
    {
     "name": "stdout",
     "output_type": "stream",
     "text": [
      "(6818, 12) (1705, 11)\n",
      "(6818, 11) (1705, 10)\n",
      "<class 'pandas.core.frame.DataFrame'>\n",
      "RangeIndex: 6818 entries, 0 to 6817\n",
      "Data columns (total 11 columns):\n",
      " #   Column                     Non-Null Count  Dtype  \n",
      "---  ------                     --------------  -----  \n",
      " 0   Item_Weight                6818 non-null   float64\n",
      " 1   Item_Fat_Content           6818 non-null   object \n",
      " 2   Item_Visibility            6818 non-null   float64\n",
      " 3   Item_Type                  6818 non-null   object \n",
      " 4   Item_MRP                   6818 non-null   float64\n",
      " 5   Outlet_Identifier          6818 non-null   object \n",
      " 6   Outlet_Establishment_Year  6818 non-null   int64  \n",
      " 7   Outlet_Size                6818 non-null   object \n",
      " 8   Outlet_Location_Type       6818 non-null   object \n",
      " 9   Outlet_Type                6818 non-null   object \n",
      " 10  Item_Outlet_Sales          6818 non-null   float64\n",
      "dtypes: float64(4), int64(1), object(6)\n",
      "memory usage: 586.1+ KB\n"
     ]
    }
   ],
   "source": [
    "# data preprocessing\n",
    "print(train.shape, test.shape)\n",
    "train.drop(\"Item_Identifier\", axis=1, inplace=True)\n",
    "test.drop(\"Item_Identifier\", axis=1, inplace=True)\n",
    "print(train.shape, test.shape)\n",
    "train.info()"
   ]
  },
  {
   "cell_type": "code",
   "execution_count": 109,
   "id": "756cff3a-05cf-4dd8-8a60-0e06f3c624d7",
   "metadata": {},
   "outputs": [
    {
     "name": "stdout",
     "output_type": "stream",
     "text": [
      "(6818, 10) (1705, 10)\n",
      "(8523, 10)\n"
     ]
    }
   ],
   "source": [
    "# data preprocessing\n",
    "list(train.columns[train.dtypes == object])\n",
    "cols = [\"Item_Fat_Content\", \"Item_Type\", \"Outlet_Identifier\", \"Outlet_Size\", \n",
    "        \"Outlet_Location_Type\", \"Outlet_Type\"]\n",
    "\n",
    "target = train.pop(\"Item_Outlet_Sales\")\n",
    "print(train.shape, test.shape)\n",
    "df = pd.concat([train, test])\n",
    "print(df.shape)\n",
    "# print(df)"
   ]
  },
  {
   "cell_type": "code",
   "execution_count": 111,
   "id": "c50341f9-aa96-43b7-bff1-7b29f7eb59f0",
   "metadata": {},
   "outputs": [
    {
     "data": {
      "text/html": [
       "<div>\n",
       "<style scoped>\n",
       "    .dataframe tbody tr th:only-of-type {\n",
       "        vertical-align: middle;\n",
       "    }\n",
       "\n",
       "    .dataframe tbody tr th {\n",
       "        vertical-align: top;\n",
       "    }\n",
       "\n",
       "    .dataframe thead th {\n",
       "        text-align: right;\n",
       "    }\n",
       "</style>\n",
       "<table border=\"1\" class=\"dataframe\">\n",
       "  <thead>\n",
       "    <tr style=\"text-align: right;\">\n",
       "      <th></th>\n",
       "      <th>Item_Weight</th>\n",
       "      <th>Item_Fat_Content</th>\n",
       "      <th>Item_Visibility</th>\n",
       "      <th>Item_Type</th>\n",
       "      <th>Item_MRP</th>\n",
       "      <th>Outlet_Identifier</th>\n",
       "      <th>Outlet_Establishment_Year</th>\n",
       "      <th>Outlet_Size</th>\n",
       "      <th>Outlet_Location_Type</th>\n",
       "      <th>Outlet_Type</th>\n",
       "    </tr>\n",
       "  </thead>\n",
       "  <tbody>\n",
       "    <tr>\n",
       "      <th>0</th>\n",
       "      <td>12.500</td>\n",
       "      <td>1</td>\n",
       "      <td>0.006760</td>\n",
       "      <td>9</td>\n",
       "      <td>42.8112</td>\n",
       "      <td>1</td>\n",
       "      <td>1987</td>\n",
       "      <td>0</td>\n",
       "      <td>2</td>\n",
       "      <td>1</td>\n",
       "    </tr>\n",
       "    <tr>\n",
       "      <th>1</th>\n",
       "      <td>12.600</td>\n",
       "      <td>1</td>\n",
       "      <td>0.048741</td>\n",
       "      <td>1</td>\n",
       "      <td>60.4194</td>\n",
       "      <td>1</td>\n",
       "      <td>1987</td>\n",
       "      <td>0</td>\n",
       "      <td>2</td>\n",
       "      <td>1</td>\n",
       "    </tr>\n",
       "    <tr>\n",
       "      <th>2</th>\n",
       "      <td>12.800</td>\n",
       "      <td>1</td>\n",
       "      <td>0.075997</td>\n",
       "      <td>6</td>\n",
       "      <td>97.1410</td>\n",
       "      <td>1</td>\n",
       "      <td>1987</td>\n",
       "      <td>0</td>\n",
       "      <td>2</td>\n",
       "      <td>1</td>\n",
       "    </tr>\n",
       "    <tr>\n",
       "      <th>3</th>\n",
       "      <td>6.635</td>\n",
       "      <td>2</td>\n",
       "      <td>0.046351</td>\n",
       "      <td>5</td>\n",
       "      <td>37.4506</td>\n",
       "      <td>2</td>\n",
       "      <td>2007</td>\n",
       "      <td>1</td>\n",
       "      <td>1</td>\n",
       "      <td>1</td>\n",
       "    </tr>\n",
       "    <tr>\n",
       "      <th>4</th>\n",
       "      <td>13.500</td>\n",
       "      <td>2</td>\n",
       "      <td>0.125170</td>\n",
       "      <td>13</td>\n",
       "      <td>261.4910</td>\n",
       "      <td>1</td>\n",
       "      <td>1987</td>\n",
       "      <td>0</td>\n",
       "      <td>2</td>\n",
       "      <td>1</td>\n",
       "    </tr>\n",
       "  </tbody>\n",
       "</table>\n",
       "</div>"
      ],
      "text/plain": [
       "   Item_Weight  Item_Fat_Content  Item_Visibility  Item_Type  Item_MRP  \\\n",
       "0       12.500                 1         0.006760          9   42.8112   \n",
       "1       12.600                 1         0.048741          1   60.4194   \n",
       "2       12.800                 1         0.075997          6   97.1410   \n",
       "3        6.635                 2         0.046351          5   37.4506   \n",
       "4       13.500                 2         0.125170         13  261.4910   \n",
       "\n",
       "   Outlet_Identifier  Outlet_Establishment_Year  Outlet_Size  \\\n",
       "0                  1                       1987            0   \n",
       "1                  1                       1987            0   \n",
       "2                  1                       1987            0   \n",
       "3                  2                       2007            1   \n",
       "4                  1                       1987            0   \n",
       "\n",
       "   Outlet_Location_Type  Outlet_Type  \n",
       "0                     2            1  \n",
       "1                     2            1  \n",
       "2                     2            1  \n",
       "3                     1            1  \n",
       "4                     2            1  "
      ]
     },
     "execution_count": 111,
     "metadata": {},
     "output_type": "execute_result"
    }
   ],
   "source": [
    "# Label Encoding\n",
    "from sklearn.preprocessing import LabelEncoder\n",
    "\n",
    "le = LabelEncoder()\n",
    "for col in cols:\n",
    "    df[col] = le.fit_transform(df[col])\n",
    "df.head()"
   ]
  },
  {
   "cell_type": "code",
   "execution_count": 113,
   "id": "6665f2e2-d30d-45ed-b96e-beed4ada9a93",
   "metadata": {},
   "outputs": [
    {
     "name": "stdout",
     "output_type": "stream",
     "text": [
      "6818\n"
     ]
    },
    {
     "data": {
      "text/plain": [
       "((6818, 10), (1705, 10))"
      ]
     },
     "execution_count": 113,
     "metadata": {},
     "output_type": "execute_result"
    }
   ],
   "source": [
    "print(len(train))\n",
    "train = df.iloc[:len(train)]\n",
    "test = df.iloc[len(train):]\n",
    "train.shape, test.shape"
   ]
  },
  {
   "cell_type": "code",
   "execution_count": 115,
   "id": "54faede6-8542-4add-b7c7-d49884ebbdab",
   "metadata": {},
   "outputs": [
    {
     "name": "stdout",
     "output_type": "stream",
     "text": [
      "<class 'pandas.core.frame.DataFrame'>\n",
      "Index: 6818 entries, 0 to 6817\n",
      "Data columns (total 10 columns):\n",
      " #   Column                     Non-Null Count  Dtype  \n",
      "---  ------                     --------------  -----  \n",
      " 0   Item_Weight                6818 non-null   float64\n",
      " 1   Item_Fat_Content           6818 non-null   int32  \n",
      " 2   Item_Visibility            6818 non-null   float64\n",
      " 3   Item_Type                  6818 non-null   int32  \n",
      " 4   Item_MRP                   6818 non-null   float64\n",
      " 5   Outlet_Identifier          6818 non-null   int32  \n",
      " 6   Outlet_Establishment_Year  6818 non-null   int64  \n",
      " 7   Outlet_Size                6818 non-null   int32  \n",
      " 8   Outlet_Location_Type       6818 non-null   int32  \n",
      " 9   Outlet_Type                6818 non-null   int32  \n",
      "dtypes: float64(3), int32(6), int64(1)\n",
      "memory usage: 426.1 KB\n"
     ]
    }
   ],
   "source": [
    "train.info()"
   ]
  },
  {
   "cell_type": "code",
   "execution_count": 119,
   "id": "46316297-f545-49a4-8012-a8eef14f6a93",
   "metadata": {},
   "outputs": [
    {
     "data": {
      "text/plain": [
       "((5454, 10), (1364, 10), (5454,), (1364,))"
      ]
     },
     "execution_count": 119,
     "metadata": {},
     "output_type": "execute_result"
    }
   ],
   "source": [
    "# 검증 데이터 나누기\n",
    "from sklearn.model_selection import train_test_split\n",
    "\n",
    "X_train, X_val, y_train, y_val = train_test_split(\n",
    "    train,\n",
    "    target,\n",
    "    test_size=0.2,\n",
    "    random_state=123\n",
    ")\n",
    "X_train.shape, X_val.shape, y_train.shape, y_val.shape"
   ]
  },
  {
   "cell_type": "code",
   "execution_count": 131,
   "id": "9b74ad03-6935-495f-a348-ad17ad0746ae",
   "metadata": {},
   "outputs": [
    {
     "name": "stdout",
     "output_type": "stream",
     "text": [
      "MSE: 1385670.5262421798\n",
      "MAE: 883.6093949591829\n",
      "RMSE: 1177.1450744246351\n"
     ]
    }
   ],
   "source": [
    "from sklearn.metrics import mean_squared_error, mean_absolute_error, r2_score\n",
    "\n",
    "def rmse(y_val, y_pred):\n",
    "    return mean_squared_error(y_val, y_pred)**0.5\n",
    "\n",
    "# 선형 회귀\n",
    "from sklearn.linear_model import LinearRegression\n",
    "\n",
    "lr = LinearRegression()\n",
    "lr.fit(X_train, y_train)\n",
    "y_pred = lr.predict(X_val)\n",
    "\n",
    "result = mean_squared_error(y_val, y_pred)\n",
    "print(\"MSE:\", result)\n",
    "\n",
    "result2 = mean_absolute_error(y_val, y_pred)\n",
    "print(\"MAE:\", result2)\n",
    "\n",
    "result3 = rmse(y_val, y_pred)\n",
    "print(\"RMSE:\", result3)"
   ]
  },
  {
   "cell_type": "code",
   "execution_count": 135,
   "id": "c736684e-6394-4730-b6b4-f5f6f79bd1b2",
   "metadata": {},
   "outputs": [
    {
     "name": "stdout",
     "output_type": "stream",
     "text": [
      "MSE: 1310974.9523246011\n",
      "MAE: 797.900186979472\n",
      "RMSE: 1144.9781449113345\n"
     ]
    }
   ],
   "source": [
    "# 랜덤 포레스트\n",
    "from sklearn.ensemble import RandomForestRegressor\n",
    "\n",
    "rf = RandomForestRegressor(random_state=0)\n",
    "rf.fit(X_train, y_train)\n",
    "y_pred = rf.predict(X_val)\n",
    "\n",
    "result = mean_squared_error(y_val, y_pred)\n",
    "print(\"MSE:\", result)\n",
    "\n",
    "result2 = mean_absolute_error(y_val, y_pred)\n",
    "print(\"MAE:\", result2)\n",
    "\n",
    "result3 = rmse(y_val, y_pred)\n",
    "print(\"RMSE:\", result3)"
   ]
  },
  {
   "cell_type": "code",
   "execution_count": 139,
   "id": "2262a42e-5ed9-4909-8e72-547c799b4dba",
   "metadata": {},
   "outputs": [
    {
     "data": {
      "text/html": [
       "<div>\n",
       "<style scoped>\n",
       "    .dataframe tbody tr th:only-of-type {\n",
       "        vertical-align: middle;\n",
       "    }\n",
       "\n",
       "    .dataframe tbody tr th {\n",
       "        vertical-align: top;\n",
       "    }\n",
       "\n",
       "    .dataframe thead th {\n",
       "        text-align: right;\n",
       "    }\n",
       "</style>\n",
       "<table border=\"1\" class=\"dataframe\">\n",
       "  <thead>\n",
       "    <tr style=\"text-align: right;\">\n",
       "      <th></th>\n",
       "      <th>pred</th>\n",
       "    </tr>\n",
       "  </thead>\n",
       "  <tbody>\n",
       "    <tr>\n",
       "      <th>0</th>\n",
       "      <td>1404.877948</td>\n",
       "    </tr>\n",
       "    <tr>\n",
       "      <th>1</th>\n",
       "      <td>702.971614</td>\n",
       "    </tr>\n",
       "    <tr>\n",
       "      <th>2</th>\n",
       "      <td>2106.804256</td>\n",
       "    </tr>\n",
       "    <tr>\n",
       "      <th>3</th>\n",
       "      <td>1611.961722</td>\n",
       "    </tr>\n",
       "    <tr>\n",
       "      <th>4</th>\n",
       "      <td>2771.319262</td>\n",
       "    </tr>\n",
       "    <tr>\n",
       "      <th>...</th>\n",
       "      <td>...</td>\n",
       "    </tr>\n",
       "    <tr>\n",
       "      <th>1700</th>\n",
       "      <td>298.305032</td>\n",
       "    </tr>\n",
       "    <tr>\n",
       "      <th>1701</th>\n",
       "      <td>580.677470</td>\n",
       "    </tr>\n",
       "    <tr>\n",
       "      <th>1702</th>\n",
       "      <td>4024.328230</td>\n",
       "    </tr>\n",
       "    <tr>\n",
       "      <th>1703</th>\n",
       "      <td>887.025366</td>\n",
       "    </tr>\n",
       "    <tr>\n",
       "      <th>1704</th>\n",
       "      <td>1564.017464</td>\n",
       "    </tr>\n",
       "  </tbody>\n",
       "</table>\n",
       "<p>1705 rows × 1 columns</p>\n",
       "</div>"
      ],
      "text/plain": [
       "             pred\n",
       "0     1404.877948\n",
       "1      702.971614\n",
       "2     2106.804256\n",
       "3     1611.961722\n",
       "4     2771.319262\n",
       "...           ...\n",
       "1700   298.305032\n",
       "1701   580.677470\n",
       "1702  4024.328230\n",
       "1703   887.025366\n",
       "1704  1564.017464\n",
       "\n",
       "[1705 rows x 1 columns]"
      ]
     },
     "execution_count": 139,
     "metadata": {},
     "output_type": "execute_result"
    }
   ],
   "source": [
    "# 예측값 성능 평가\n",
    "pred = rf.predict(test)\n",
    "pred\n",
    "\n",
    "# csv 파일 만들기\n",
    "submit = pd.DataFrame({'pred': pred})\n",
    "submit.to_csv(\"result.csv\", index=False)\n",
    "\n",
    "pd.read_csv(\"result.csv\")"
   ]
  }
 ],
 "metadata": {
  "kernelspec": {
   "display_name": "Python 3 (ipykernel)",
   "language": "python",
   "name": "python3"
  },
  "language_info": {
   "codemirror_mode": {
    "name": "ipython",
    "version": 3
   },
   "file_extension": ".py",
   "mimetype": "text/x-python",
   "name": "python",
   "nbconvert_exporter": "python",
   "pygments_lexer": "ipython3",
   "version": "3.12.4"
  }
 },
 "nbformat": 4,
 "nbformat_minor": 5
}

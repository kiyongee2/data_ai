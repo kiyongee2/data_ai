{
 "cells": [
  {
   "cell_type": "code",
   "execution_count": 59,
   "id": "d4b6ac41-bb73-45aa-9e73-ab4ecc9147a4",
   "metadata": {},
   "outputs": [
    {
     "name": "stdout",
     "output_type": "stream",
     "text": [
      "<class 'pandas.core.frame.DataFrame'>\n",
      "RangeIndex: 10000 entries, 0 to 9999\n",
      "Data columns (total 21 columns):\n",
      " #   Column                    Non-Null Count  Dtype  \n",
      "---  ------                    --------------  -----  \n",
      " 0   Delay_from_due_date       10000 non-null  float64\n",
      " 1   Num_of_Delayed_Payment    10000 non-null  float64\n",
      " 2   Num_Credit_Inquiries      10000 non-null  float64\n",
      " 3   Credit_Utilization_Ratio  10000 non-null  float64\n",
      " 4   Credit_History_Age        10000 non-null  float64\n",
      " 5   Payment_of_Min_Amount     10000 non-null  object \n",
      " 6   Amount_invested_monthly   10000 non-null  float64\n",
      " 7   Monthly_Balance           10000 non-null  float64\n",
      " 8   Credit_Score              10000 non-null  int64  \n",
      " 9   Credit_Mix                10000 non-null  object \n",
      " 10  Payment_Behaviour         10000 non-null  object \n",
      " 11  Age                       10000 non-null  float64\n",
      " 12  Annual_Income             10000 non-null  float64\n",
      " 13  Num_Bank_Accounts         10000 non-null  float64\n",
      " 14  Num_Credit_Card           10000 non-null  float64\n",
      " 15  Interest_Rate             10000 non-null  float64\n",
      " 16  Num_of_Loan               10000 non-null  float64\n",
      " 17  Monthly_Inhand_Salary     10000 non-null  float64\n",
      " 18  Changed_Credit_Limit      10000 non-null  float64\n",
      " 19  Outstanding_Debt          10000 non-null  float64\n",
      " 20  Total_EMI_per_month       10000 non-null  float64\n",
      "dtypes: float64(17), int64(1), object(3)\n",
      "memory usage: 1.6+ MB\n"
     ]
    },
    {
     "data": {
      "text/plain": [
       "((10000, 21), (10000, 20))"
      ]
     },
     "execution_count": 59,
     "metadata": {},
     "output_type": "execute_result"
    }
   ],
   "source": [
    "import pandas as pd\n",
    "\n",
    "train = pd.read_csv(\"train.csv\")\n",
    "test = pd.read_csv(\"test.csv\")\n",
    "\n",
    "train.info()\n",
    "train.head()\n",
    "train.shape, test.shape"
   ]
  },
  {
   "cell_type": "code",
   "execution_count": 61,
   "id": "e3c7581a-0c4a-449c-93ca-9520ae333e8c",
   "metadata": {},
   "outputs": [
    {
     "data": {
      "text/html": [
       "<div>\n",
       "<style scoped>\n",
       "    .dataframe tbody tr th:only-of-type {\n",
       "        vertical-align: middle;\n",
       "    }\n",
       "\n",
       "    .dataframe tbody tr th {\n",
       "        vertical-align: top;\n",
       "    }\n",
       "\n",
       "    .dataframe thead th {\n",
       "        text-align: right;\n",
       "    }\n",
       "</style>\n",
       "<table border=\"1\" class=\"dataframe\">\n",
       "  <thead>\n",
       "    <tr style=\"text-align: right;\">\n",
       "      <th></th>\n",
       "      <th>Payment_of_Min_Amount</th>\n",
       "      <th>Credit_Mix</th>\n",
       "      <th>Payment_Behaviour</th>\n",
       "    </tr>\n",
       "  </thead>\n",
       "  <tbody>\n",
       "    <tr>\n",
       "      <th>count</th>\n",
       "      <td>10000</td>\n",
       "      <td>10000</td>\n",
       "      <td>10000</td>\n",
       "    </tr>\n",
       "    <tr>\n",
       "      <th>unique</th>\n",
       "      <td>3</td>\n",
       "      <td>3</td>\n",
       "      <td>6</td>\n",
       "    </tr>\n",
       "    <tr>\n",
       "      <th>top</th>\n",
       "      <td>Yes</td>\n",
       "      <td>Standard</td>\n",
       "      <td>Low_spent_Small_value_payments</td>\n",
       "    </tr>\n",
       "    <tr>\n",
       "      <th>freq</th>\n",
       "      <td>5269</td>\n",
       "      <td>4591</td>\n",
       "      <td>3416</td>\n",
       "    </tr>\n",
       "  </tbody>\n",
       "</table>\n",
       "</div>"
      ],
      "text/plain": [
       "       Payment_of_Min_Amount Credit_Mix               Payment_Behaviour\n",
       "count                  10000      10000                           10000\n",
       "unique                     3          3                               6\n",
       "top                      Yes   Standard  Low_spent_Small_value_payments\n",
       "freq                    5269       4591                            3416"
      ]
     },
     "execution_count": 61,
     "metadata": {},
     "output_type": "execute_result"
    }
   ],
   "source": [
    "train.describe(include='O')"
   ]
  },
  {
   "cell_type": "code",
   "execution_count": 63,
   "id": "2b107f9c-f8e8-413f-90ab-197c77ce38e1",
   "metadata": {},
   "outputs": [
    {
     "data": {
      "text/plain": [
       "Credit_Score\n",
       "2    5237\n",
       "1    2978\n",
       "3    1785\n",
       "Name: count, dtype: int64"
      ]
     },
     "execution_count": 63,
     "metadata": {},
     "output_type": "execute_result"
    }
   ],
   "source": [
    "train['Credit_Score'].value_counts()"
   ]
  },
  {
   "cell_type": "code",
   "execution_count": 65,
   "id": "57ff0684-4e97-4c23-be52-995e55f800aa",
   "metadata": {},
   "outputs": [
    {
     "data": {
      "text/plain": [
       "Index(['Payment_of_Min_Amount', 'Credit_Mix', 'Payment_Behaviour'], dtype='object')"
      ]
     },
     "execution_count": 65,
     "metadata": {},
     "output_type": "execute_result"
    }
   ],
   "source": [
    "# 데이터 전처리\n",
    "target = train.pop('Credit_Score')\n",
    "cols = train.columns[train.dtypes == object]\n",
    "cols"
   ]
  },
  {
   "cell_type": "code",
   "execution_count": 67,
   "id": "fefccd35-6659-409e-a333-8ef9d0487b6d",
   "metadata": {},
   "outputs": [
    {
     "name": "stdout",
     "output_type": "stream",
     "text": [
      "<class 'pandas.core.frame.DataFrame'>\n",
      "RangeIndex: 10000 entries, 0 to 9999\n",
      "Data columns (total 3 columns):\n",
      " #   Column                 Non-Null Count  Dtype   \n",
      "---  ------                 --------------  -----   \n",
      " 0   Payment_of_Min_Amount  10000 non-null  category\n",
      " 1   Credit_Mix             10000 non-null  category\n",
      " 2   Payment_Behaviour      10000 non-null  category\n",
      "dtypes: category(3)\n",
      "memory usage: 29.9 KB\n"
     ]
    },
    {
     "data": {
      "text/html": [
       "<div>\n",
       "<style scoped>\n",
       "    .dataframe tbody tr th:only-of-type {\n",
       "        vertical-align: middle;\n",
       "    }\n",
       "\n",
       "    .dataframe tbody tr th {\n",
       "        vertical-align: top;\n",
       "    }\n",
       "\n",
       "    .dataframe thead th {\n",
       "        text-align: right;\n",
       "    }\n",
       "</style>\n",
       "<table border=\"1\" class=\"dataframe\">\n",
       "  <thead>\n",
       "    <tr style=\"text-align: right;\">\n",
       "      <th></th>\n",
       "      <th>Payment_of_Min_Amount</th>\n",
       "      <th>Credit_Mix</th>\n",
       "      <th>Payment_Behaviour</th>\n",
       "    </tr>\n",
       "  </thead>\n",
       "  <tbody>\n",
       "    <tr>\n",
       "      <th>0</th>\n",
       "      <td>Yes</td>\n",
       "      <td>Bad</td>\n",
       "      <td>High_spent_Medium_value_payments</td>\n",
       "    </tr>\n",
       "    <tr>\n",
       "      <th>1</th>\n",
       "      <td>Yes</td>\n",
       "      <td>Bad</td>\n",
       "      <td>High_spent_Small_value_payments</td>\n",
       "    </tr>\n",
       "    <tr>\n",
       "      <th>2</th>\n",
       "      <td>Yes</td>\n",
       "      <td>Bad</td>\n",
       "      <td>Low_spent_Large_value_payments</td>\n",
       "    </tr>\n",
       "    <tr>\n",
       "      <th>3</th>\n",
       "      <td>NM</td>\n",
       "      <td>Standard</td>\n",
       "      <td>High_spent_Small_value_payments</td>\n",
       "    </tr>\n",
       "    <tr>\n",
       "      <th>4</th>\n",
       "      <td>Yes</td>\n",
       "      <td>Bad</td>\n",
       "      <td>High_spent_Medium_value_payments</td>\n",
       "    </tr>\n",
       "  </tbody>\n",
       "</table>\n",
       "</div>"
      ],
      "text/plain": [
       "  Payment_of_Min_Amount Credit_Mix                 Payment_Behaviour\n",
       "0                   Yes        Bad  High_spent_Medium_value_payments\n",
       "1                   Yes        Bad   High_spent_Small_value_payments\n",
       "2                   Yes        Bad    Low_spent_Large_value_payments\n",
       "3                    NM   Standard   High_spent_Small_value_payments\n",
       "4                   Yes        Bad  High_spent_Medium_value_payments"
      ]
     },
     "execution_count": 67,
     "metadata": {},
     "output_type": "execute_result"
    }
   ],
   "source": [
    "train['Payment_of_Min_Amount'] = train['Payment_of_Min_Amount'].astype('category')\n",
    "train['Credit_Mix'] = train['Credit_Mix'].astype('category')\n",
    "train['Payment_Behaviour'] = train['Payment_Behaviour'].astype('category')\n",
    "\n",
    "test['Payment_of_Min_Amount'] = test['Payment_of_Min_Amount'].astype('category')\n",
    "test['Credit_Mix'] = test['Credit_Mix'].astype('category')\n",
    "test['Payment_Behaviour'] = test['Payment_Behaviour'].astype('category')\n",
    "\n",
    "# train.info()\n",
    "train[cols].info()\n",
    "train[cols].head()"
   ]
  },
  {
   "cell_type": "code",
   "execution_count": 69,
   "id": "1cb9b35f-b782-45a4-b8e3-d2df07b2f13e",
   "metadata": {},
   "outputs": [
    {
     "data": {
      "text/plain": [
       "((8000, 20), (2000, 20), (8000,), (2000,))"
      ]
     },
     "execution_count": 69,
     "metadata": {},
     "output_type": "execute_result"
    }
   ],
   "source": [
    "# 검증 데이터 나누기\n",
    "from sklearn.model_selection import train_test_split\n",
    "\n",
    "X_train, X_val, y_train, y_val = train_test_split(\n",
    "    train,\n",
    "    target,\n",
    "    test_size=0.2,\n",
    "    random_state=0)\n",
    "X_train.shape, X_val.shape, y_train.shape, y_val.shape"
   ]
  },
  {
   "cell_type": "code",
   "execution_count": 41,
   "id": "85362250-2f05-4cd0-aebe-619c0309092f",
   "metadata": {},
   "outputs": [],
   "source": [
    "from sklearn.metrics import accuracy_score, f1_score\n",
    "from sklearn.ensemble import RandomForestClassifier\n",
    "\n",
    "# rf = RandomForestClassifier(random_state=0)\n",
    "# rf.fit(X_train, y_train)\n",
    "# ValueError - 숫자로 인코딩하지 않아서"
   ]
  },
  {
   "cell_type": "code",
   "execution_count": 47,
   "id": "99f86b24-8c50-400e-a584-ab77c6a71bbe",
   "metadata": {},
   "outputs": [
    {
     "name": "stdout",
     "output_type": "stream",
     "text": [
      "Collecting lightgbm\n",
      "  Downloading lightgbm-4.5.0-py3-none-win_amd64.whl.metadata (17 kB)\n",
      "Requirement already satisfied: numpy>=1.17.0 in c:\\users\\lg\\anaconda3\\lib\\site-packages (from lightgbm) (1.26.4)\n",
      "Requirement already satisfied: scipy in c:\\users\\lg\\anaconda3\\lib\\site-packages (from lightgbm) (1.13.1)\n",
      "Downloading lightgbm-4.5.0-py3-none-win_amd64.whl (1.4 MB)\n",
      "   ---------------------------------------- 0.0/1.4 MB ? eta -:--:--\n",
      "   - -------------------------------------- 0.0/1.4 MB 991.0 kB/s eta 0:00:02\n",
      "   ------------ --------------------------- 0.5/1.4 MB 5.6 MB/s eta 0:00:01\n",
      "   ---------------------------- ----------- 1.0/1.4 MB 8.0 MB/s eta 0:00:01\n",
      "   ---------------------------------------  1.4/1.4 MB 9.2 MB/s eta 0:00:01\n",
      "   ---------------------------------------- 1.4/1.4 MB 8.3 MB/s eta 0:00:00\n",
      "Installing collected packages: lightgbm\n",
      "Successfully installed lightgbm-4.5.0\n"
     ]
    }
   ],
   "source": [
    "# LightGBM 분류 모델 사용\n",
    "!pip install lightgbm"
   ]
  },
  {
   "cell_type": "code",
   "execution_count": 77,
   "id": "b2671354-0acd-4f65-9b6f-c4f9df5296d5",
   "metadata": {},
   "outputs": [
    {
     "name": "stdout",
     "output_type": "stream",
     "text": [
      "[LightGBM] [Info] Auto-choosing col-wise multi-threading, the overhead of testing was 0.003700 seconds.\n",
      "You can set `force_col_wise=true` to remove the overhead.\n",
      "[LightGBM] [Info] Total Bins 2529\n",
      "[LightGBM] [Info] Number of data points in the train set: 8000, number of used features: 20\n",
      "[LightGBM] [Info] Start training from score -1.208148\n",
      "[LightGBM] [Info] Start training from score -0.643881\n",
      "[LightGBM] [Info] Start training from score -1.737271\n"
     ]
    },
    {
     "data": {
      "text/plain": [
       "array([2, 2, 2, ..., 3, 2, 2], dtype=int64)"
      ]
     },
     "execution_count": 77,
     "metadata": {},
     "output_type": "execute_result"
    }
   ],
   "source": [
    "# LightGBM 분류 모델 사용\n",
    "from sklearn.metrics import accuracy_score, f1_score\n",
    "import lightgbm as lgb\n",
    "\n",
    "# 학습\n",
    "lgbmc = lgb.LGBMClassifier(random_state=0, verbose=1)\n",
    "lgbmc.fit(X_train, y_train)\n",
    "pred = lgbmc.predict(X_val)\n",
    "pred"
   ]
  },
  {
   "cell_type": "code",
   "execution_count": 83,
   "id": "ae78f191-3c96-4097-b38e-88bf12381414",
   "metadata": {},
   "outputs": [
    {
     "name": "stdout",
     "output_type": "stream",
     "text": [
      "accuracy_score: 0.6985\n",
      "f1_score: 0.6777379561595467\n"
     ]
    }
   ],
   "source": [
    "# 평가\n",
    "accuracy = accuracy_score(y_val, pred)\n",
    "print('accuracy_score:', accuracy)\n",
    "\n",
    "f1 = f1_score(y_val, pred, average=\"macro\")\n",
    "print('f1_score:', f1)"
   ]
  },
  {
   "cell_type": "code",
   "execution_count": 87,
   "id": "df810b20-e5fc-493d-8f33-2299b2ab75f4",
   "metadata": {},
   "outputs": [
    {
     "data": {
      "text/html": [
       "<div>\n",
       "<style scoped>\n",
       "    .dataframe tbody tr th:only-of-type {\n",
       "        vertical-align: middle;\n",
       "    }\n",
       "\n",
       "    .dataframe tbody tr th {\n",
       "        vertical-align: top;\n",
       "    }\n",
       "\n",
       "    .dataframe thead th {\n",
       "        text-align: right;\n",
       "    }\n",
       "</style>\n",
       "<table border=\"1\" class=\"dataframe\">\n",
       "  <thead>\n",
       "    <tr style=\"text-align: right;\">\n",
       "      <th></th>\n",
       "      <th>pred</th>\n",
       "    </tr>\n",
       "  </thead>\n",
       "  <tbody>\n",
       "    <tr>\n",
       "      <th>0</th>\n",
       "      <td>2</td>\n",
       "    </tr>\n",
       "    <tr>\n",
       "      <th>1</th>\n",
       "      <td>1</td>\n",
       "    </tr>\n",
       "    <tr>\n",
       "      <th>2</th>\n",
       "      <td>1</td>\n",
       "    </tr>\n",
       "    <tr>\n",
       "      <th>3</th>\n",
       "      <td>2</td>\n",
       "    </tr>\n",
       "    <tr>\n",
       "      <th>4</th>\n",
       "      <td>1</td>\n",
       "    </tr>\n",
       "    <tr>\n",
       "      <th>...</th>\n",
       "      <td>...</td>\n",
       "    </tr>\n",
       "    <tr>\n",
       "      <th>9995</th>\n",
       "      <td>2</td>\n",
       "    </tr>\n",
       "    <tr>\n",
       "      <th>9996</th>\n",
       "      <td>2</td>\n",
       "    </tr>\n",
       "    <tr>\n",
       "      <th>9997</th>\n",
       "      <td>1</td>\n",
       "    </tr>\n",
       "    <tr>\n",
       "      <th>9998</th>\n",
       "      <td>1</td>\n",
       "    </tr>\n",
       "    <tr>\n",
       "      <th>9999</th>\n",
       "      <td>2</td>\n",
       "    </tr>\n",
       "  </tbody>\n",
       "</table>\n",
       "<p>10000 rows × 1 columns</p>\n",
       "</div>"
      ],
      "text/plain": [
       "      pred\n",
       "0        2\n",
       "1        1\n",
       "2        1\n",
       "3        2\n",
       "4        1\n",
       "...    ...\n",
       "9995     2\n",
       "9996     2\n",
       "9997     1\n",
       "9998     1\n",
       "9999     2\n",
       "\n",
       "[10000 rows x 1 columns]"
      ]
     },
     "execution_count": 87,
     "metadata": {},
     "output_type": "execute_result"
    }
   ],
   "source": [
    "# 예측 및 결과 파일 생성\n",
    "pred2 = lgbmc.predict(test)\n",
    "pred2\n",
    "\n",
    "submit = pd.DataFrame({\n",
    "    'pred': pred2\n",
    "})\n",
    "submit.to_csv(\"result.csv\", index=False)\n",
    "\n",
    "pd.read_csv(\"result.csv\")"
   ]
  }
 ],
 "metadata": {
  "kernelspec": {
   "display_name": "Python 3 (ipykernel)",
   "language": "python",
   "name": "python3"
  },
  "language_info": {
   "codemirror_mode": {
    "name": "ipython",
    "version": 3
   },
   "file_extension": ".py",
   "mimetype": "text/x-python",
   "name": "python",
   "nbconvert_exporter": "python",
   "pygments_lexer": "ipython3",
   "version": "3.12.4"
  }
 },
 "nbformat": 4,
 "nbformat_minor": 5
}

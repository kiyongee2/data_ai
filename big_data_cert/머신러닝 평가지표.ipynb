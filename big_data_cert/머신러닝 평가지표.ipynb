{
 "cells": [
  {
   "cell_type": "markdown",
   "id": "30b1f9db-bde9-4513-96fd-2b295d27e1f4",
   "metadata": {},
   "source": [
    "### 이진 분류 평가 지표"
   ]
  },
  {
   "cell_type": "code",
   "execution_count": 7,
   "id": "51cdc7e4-9712-484d-8d76-103338cff317",
   "metadata": {},
   "outputs": [],
   "source": [
    "import pandas as pd\n",
    "# 이진분류 데이터\n",
    "y_true = pd.DataFrame([1, 1, 1, 0, 0, 1, 1, 1, 1, 0])  #실제 값\n",
    "y_pred = pd.DataFrame([1, 0, 1, 1, 0, 0, 0, 1, 1, 0])  #예측 값\n",
    "\n",
    "y_true_str = pd.DataFrame(['A', 'A', 'A', 'B', 'B', 'A', 'A', 'A', 'A', 'B'])  #실제 값\n",
    "y_pred_str = pd.DataFrame(['A', 'B', 'A', 'A', 'B', 'B', 'B', 'A', 'A', 'B'])  #예측 값"
   ]
  },
  {
   "cell_type": "markdown",
   "id": "93a7b6ea-aba6-481d-a831-f2197b91955a",
   "metadata": {},
   "source": [
    "#### 정확도"
   ]
  },
  {
   "cell_type": "code",
   "execution_count": 11,
   "id": "2a6ee15b-e86f-4b6a-8d5d-766ea9363698",
   "metadata": {},
   "outputs": [
    {
     "name": "stdout",
     "output_type": "stream",
     "text": [
      "정확도: 0.6\n",
      "정확도: 0.6\n"
     ]
    }
   ],
   "source": [
    "# 정확도(Accuracy)\n",
    "from sklearn.metrics import accuracy_score\n",
    "\n",
    "accuracy = accuracy_score(y_true, y_pred)\n",
    "print(\"정확도:\", accuracy)\n",
    "\n",
    "accuracy = accuracy_score(y_true_str, y_pred_str)\n",
    "print(\"정확도:\", accuracy)"
   ]
  },
  {
   "cell_type": "markdown",
   "id": "22edf60f-19d2-4f57-bcfc-2e7686f01a0d",
   "metadata": {},
   "source": [
    "#### 정밀도"
   ]
  },
  {
   "cell_type": "code",
   "execution_count": 18,
   "id": "58a09c72-533c-4237-a306-3d74ed70991d",
   "metadata": {},
   "outputs": [
    {
     "name": "stdout",
     "output_type": "stream",
     "text": [
      "정밀도: 0.8\n",
      "정밀도: 0.8\n"
     ]
    }
   ],
   "source": [
    "# 정밀도(Precision)\n",
    "from sklearn.metrics import precision_score\n",
    "\n",
    "precision = precision_score(y_true, y_pred)\n",
    "print(\"정밀도:\", precision)\n",
    "\n",
    "precision = precision_score(y_true_str, y_pred_str, pos_label='A')\n",
    "print(\"정밀도:\", precision)"
   ]
  },
  {
   "cell_type": "markdown",
   "id": "4f68fcc9-4f90-4b1d-a1bc-aa9843b2e3ed",
   "metadata": {},
   "source": [
    "#### 재현율"
   ]
  },
  {
   "cell_type": "code",
   "execution_count": 29,
   "id": "df4f5659-26e9-4a53-b00e-d608cc3d21d2",
   "metadata": {},
   "outputs": [
    {
     "name": "stdout",
     "output_type": "stream",
     "text": [
      "재현율: 0.5714285714285714\n",
      "재현율: 0.5714285714285714\n"
     ]
    }
   ],
   "source": [
    "# 재현율\n",
    "from sklearn.metrics import recall_score\n",
    "\n",
    "recall = recall_score(y_true, y_pred)\n",
    "print(\"재현율:\", recall)\n",
    "\n",
    "recall = recall_score(y_true_str, y_pred_str, pos_label='A')\n",
    "print(\"재현율:\", recall)"
   ]
  },
  {
   "cell_type": "markdown",
   "id": "74542a07-7967-4a8f-bee7-11457eb56ede",
   "metadata": {},
   "source": [
    "#### F1 스코어"
   ]
  },
  {
   "cell_type": "code",
   "execution_count": 24,
   "id": "105842f3-0f3a-42a9-b25a-81a161227adf",
   "metadata": {},
   "outputs": [
    {
     "name": "stdout",
     "output_type": "stream",
     "text": [
      "f1 스코어: 0.6666666666666666\n",
      "f1 스코어: 0.6666666666666666\n"
     ]
    }
   ],
   "source": [
    "# f1 스코어\n",
    "from sklearn.metrics import f1_score\n",
    "\n",
    "f1 = f1_score(y_true, y_pred)\n",
    "print(\"f1 스코어:\", f1)\n",
    "\n",
    "f1 = f1_score(y_true_str, y_pred_str, pos_label='A')\n",
    "print(\"f1 스코어:\", f1)"
   ]
  },
  {
   "cell_type": "markdown",
   "id": "8de523c3-acc8-4f61-a910-9549cb93c333",
   "metadata": {},
   "source": [
    "#### ROC-AUC"
   ]
  },
  {
   "cell_type": "code",
   "execution_count": 34,
   "id": "e9839971-463f-4715-99e6-3650abb0ce88",
   "metadata": {},
   "outputs": [
    {
     "name": "stdout",
     "output_type": "stream",
     "text": [
      "정확도: 0.86\n"
     ]
    }
   ],
   "source": [
    "# ROC-AUC\n",
    "from sklearn.metrics import roc_auc_score\n",
    "# 실제 값(0:음성, 1:양성)\n",
    "y_true = pd.DataFrame([0, 1, 0, 1, 1, 0, 0, 0, 1, 1])\n",
    "\n",
    "# 예측값 중 양성(1) 확률\n",
    "y_pred_proba = pd.DataFrame([0.4, 0.9, 0.1, 0.3, 0.8, 0.6, 0.4, 0.2, 0.7, 0.6])\n",
    "\n",
    "roc_auc = roc_auc_score(y_true, y_pred_proba)\n",
    "print(\"ROC-AUC:\", roc_auc)"
   ]
  },
  {
   "cell_type": "code",
   "execution_count": 36,
   "id": "23293750-dbae-4f8e-b902-b2fc69c20dfb",
   "metadata": {},
   "outputs": [
    {
     "name": "stdout",
     "output_type": "stream",
     "text": [
      "ROC-AUC: 0.86\n"
     ]
    }
   ],
   "source": [
    "# 문자형 실제값\n",
    "y_true_str = pd.DataFrame(['A', 'B', 'A', 'B', 'B', 'A', 'A', 'A', 'B', 'B'])\n",
    "\n",
    "# 예측값 중 B 확률\n",
    "y_pred_proba_str = pd.DataFrame([0.4, 0.9, 0.1, 0.3, 0.8, 0.6, 0.4, 0.2, 0.7, 0.6])\n",
    "\n",
    "roc_auc = roc_auc_score(y_true_str, y_pred_proba_str)\n",
    "print(\"ROC-AUC:\", roc_auc)"
   ]
  },
  {
   "cell_type": "markdown",
   "id": "305316b1-f5ea-4fbe-bd59-44f3efdf32ae",
   "metadata": {},
   "source": [
    "### 다중 분류 평가 지표"
   ]
  },
  {
   "cell_type": "code",
   "execution_count": 40,
   "id": "fcb302ec-9d4b-4f8f-9e36-d98e9d4af256",
   "metadata": {},
   "outputs": [],
   "source": [
    "# 다중 분류 데이터\n",
    "import pandas as pd\n",
    "\n",
    "y_true = pd.DataFrame([1, 2, 3, 3, 2, 1, 3, 3, 2, 1])  #실제 값\n",
    "y_pred = pd.DataFrame([1, 2, 1, 3, 2, 1, 1, 2, 2, 1])  #예측 값\n",
    "\n",
    "y_true_str = pd.DataFrame(['A', 'B', 'C', 'C', 'B', 'A', 'C', 'C', 'B', 'A'])  #실제 값\n",
    "y_pred_str = pd.DataFrame(['A', 'B', 'A', 'C', 'B', 'A', 'A', 'B', 'B', 'A'])  #예측 값"
   ]
  },
  {
   "cell_type": "code",
   "execution_count": 42,
   "id": "423490a1-af33-4522-ac3e-76317575f4b9",
   "metadata": {},
   "outputs": [
    {
     "name": "stdout",
     "output_type": "stream",
     "text": [
      "정확도: 0.7\n",
      "정확도: 0.7\n"
     ]
    }
   ],
   "source": [
    "# 정확도(Accuracy)\n",
    "from sklearn.metrics import accuracy_score\n",
    "\n",
    "accuracy = accuracy_score(y_true, y_pred)\n",
    "print(\"정확도:\", accuracy)\n",
    "\n",
    "accuracy = accuracy_score(y_true_str, y_pred_str)\n",
    "print(\"정확도:\", accuracy)"
   ]
  },
  {
   "cell_type": "code",
   "execution_count": 46,
   "id": "75e34a3c-f8fe-4a44-ab96-0e6271e1626e",
   "metadata": {},
   "outputs": [
    {
     "name": "stdout",
     "output_type": "stream",
     "text": [
      "정밀도: 0.7833333333333333\n",
      "정밀도: 0.7833333333333333\n"
     ]
    }
   ],
   "source": [
    "# 정밀도(Precision)\n",
    "from sklearn.metrics import precision_score\n",
    "\n",
    "precision = precision_score(y_true, y_pred, average='macro')\n",
    "print(\"정밀도:\", precision)\n",
    "\n",
    "precision = precision_score(y_true_str, y_pred_str, average='macro')\n",
    "print(\"정밀도:\", precision)"
   ]
  },
  {
   "cell_type": "code",
   "execution_count": 48,
   "id": "9cf814d7-3709-4ff5-857c-f818cb3a1597",
   "metadata": {},
   "outputs": [
    {
     "name": "stdout",
     "output_type": "stream",
     "text": [
      "재현율: 0.75\n",
      "재현율: 0.75\n"
     ]
    }
   ],
   "source": [
    "# 재현율\n",
    "from sklearn.metrics import recall_score\n",
    "\n",
    "recall = recall_score(y_true, y_pred, average='macro')\n",
    "print(\"재현율:\", recall)\n",
    "\n",
    "recall = recall_score(y_true_str, y_pred_str, average='macro')\n",
    "print(\"재현율:\", recall)"
   ]
  },
  {
   "cell_type": "code",
   "execution_count": 50,
   "id": "e6643467-ff5a-4c43-91c6-74323f19ff54",
   "metadata": {},
   "outputs": [
    {
     "name": "stdout",
     "output_type": "stream",
     "text": [
      "f1 스코어: 0.669047619047619\n",
      "f1 스코어: 0.669047619047619\n"
     ]
    }
   ],
   "source": [
    "# f1 스코어\n",
    "from sklearn.metrics import f1_score\n",
    "\n",
    "f1 = f1_score(y_true, y_pred, average='macro')\n",
    "print(\"f1 스코어:\", f1)\n",
    "\n",
    "f1 = f1_score(y_true_str, y_pred_str, average='macro')\n",
    "print(\"f1 스코어:\", f1)"
   ]
  },
  {
   "cell_type": "markdown",
   "id": "c48ad2b6-be0c-4fbf-8aaf-c6b5aa8d716b",
   "metadata": {},
   "source": [
    "### 회귀 평가 지표"
   ]
  },
  {
   "cell_type": "code",
   "execution_count": 53,
   "id": "4c95bdfd-0637-450d-bc31-6a557693ff9a",
   "metadata": {},
   "outputs": [],
   "source": [
    "# 회귀 데이터\n",
    "import pandas as pd\n",
    "\n",
    "y_true = pd.DataFrame([1, 2, 5, 2, 4, 4, 7, 9])  #실제 값\n",
    "y_pred = pd.DataFrame([1.14, 2.53, 4.87, 3.08, 4.21, 5.53, 7.51, 10.32])  #예측 값"
   ]
  },
  {
   "cell_type": "markdown",
   "id": "e9413151-2fe1-48d1-8975-56606b7296ff",
   "metadata": {},
   "source": [
    "#### MSE - 평균 제곱 오차"
   ]
  },
  {
   "cell_type": "code",
   "execution_count": 57,
   "id": "b2803f6c-b34b-4a06-999a-93d466e3058c",
   "metadata": {},
   "outputs": [
    {
     "name": "stdout",
     "output_type": "stream",
     "text": [
      "MSE: 0.7339125000000001\n"
     ]
    }
   ],
   "source": [
    "# MSE\n",
    "from sklearn.metrics import mean_squared_error\n",
    "\n",
    "mse = mean_squared_error(y_true, y_pred)\n",
    "print(\"MSE:\", mse)"
   ]
  },
  {
   "cell_type": "markdown",
   "id": "1feb55d2-30fb-4af1-9622-81858203228e",
   "metadata": {},
   "source": [
    "#### MAE - 평균 절대값 오차"
   ]
  },
  {
   "cell_type": "code",
   "execution_count": 62,
   "id": "90322f63-944d-4c0c-bccc-5ac408ed42eb",
   "metadata": {},
   "outputs": [
    {
     "name": "stdout",
     "output_type": "stream",
     "text": [
      "MAE: 0.68125\n"
     ]
    }
   ],
   "source": [
    "# MAE\n",
    "from sklearn.metrics import mean_absolute_error\n",
    "\n",
    "mae = mean_absolute_error(y_true, y_pred)\n",
    "print(\"MAE:\", mae)"
   ]
  },
  {
   "cell_type": "markdown",
   "id": "16cbd628-82b4-4854-b04f-fe9098295af4",
   "metadata": {},
   "source": [
    "#### 결정 계수"
   ]
  },
  {
   "cell_type": "code",
   "execution_count": 65,
   "id": "6aa232fb-fa48-4ff1-b8a4-e7718ab969a4",
   "metadata": {},
   "outputs": [
    {
     "name": "stdout",
     "output_type": "stream",
     "text": [
      "R2: 0.8859941747572815\n"
     ]
    }
   ],
   "source": [
    "# 결정 계수(R-squared)\n",
    "from sklearn.metrics import r2_score\n",
    "\n",
    "r2 = r2_score(y_true, y_pred)\n",
    "print(\"R2:\", r2)"
   ]
  },
  {
   "cell_type": "markdown",
   "id": "5db6b7e1-4a55-47b6-a6bd-209af99c4e0d",
   "metadata": {},
   "source": [
    "#### RMSE - MSE에 제곱근을 적용한 값"
   ]
  },
  {
   "cell_type": "code",
   "execution_count": 74,
   "id": "63e29f97-013e-421d-84f9-0f63320adba7",
   "metadata": {},
   "outputs": [
    {
     "name": "stdout",
     "output_type": "stream",
     "text": [
      "RMSE: 0.8566869323154171\n"
     ]
    }
   ],
   "source": [
    "# MSE\n",
    "from sklearn.metrics import mean_squared_error\n",
    "\n",
    "mse = mean_squared_error(y_true, y_pred)\n",
    "rmse = mse ** 0.5\n",
    "print(\"RMSE:\", rmse)"
   ]
  }
 ],
 "metadata": {
  "kernelspec": {
   "display_name": "Python 3 (ipykernel)",
   "language": "python",
   "name": "python3"
  },
  "language_info": {
   "codemirror_mode": {
    "name": "ipython",
    "version": 3
   },
   "file_extension": ".py",
   "mimetype": "text/x-python",
   "name": "python",
   "nbconvert_exporter": "python",
   "pygments_lexer": "ipython3",
   "version": "3.12.4"
  }
 },
 "nbformat": 4,
 "nbformat_minor": 5
}

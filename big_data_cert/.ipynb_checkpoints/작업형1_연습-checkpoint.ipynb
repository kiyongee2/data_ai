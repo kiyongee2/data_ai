{
 "cells": [
  {
   "cell_type": "code",
   "execution_count": 19,
   "id": "5dc436f8-453a-4de6-9ece-4b19804f5aa4",
   "metadata": {},
   "outputs": [
    {
     "name": "stdout",
     "output_type": "stream",
     "text": [
      "        id    age city    f1  f2    f3    f4         f5  subscribed    views\n",
      "0     id01    2.0   서울   NaN   0  gold  ENFJ  91.297791  2024-07-16   6820.0\n",
      "1     id02    9.0   서울  70.0   1   NaN  ENFJ  60.339826  2024-05-12   2534.0\n",
      "2     id03   27.0   서울  61.0   1  gold  ISTJ  17.252986  2024-03-16   7312.0\n",
      "3     id04   75.0   서울   NaN   2   NaN  INFP  52.667078  2024-07-21    493.0\n",
      "4     id05   24.0   서울  85.0   2   NaN  ISFJ  29.269869  2024-03-07   1338.0\n",
      "..     ...    ...  ...   ...  ..   ...   ...        ...         ...      ...\n",
      "97    id97  100.0   경기   NaN   0  gold  INFP  67.886373  2024-03-18   6687.0\n",
      "98    id98   39.0   경기  58.0   2   NaN  INFP  98.429899  2024-10-02    865.0\n",
      "99    id99    1.0   경기  47.0   0  gold  ESFJ  97.381034  2024-12-02   6090.0\n",
      "100  id100   47.0   경기  53.0   0   vip  ESFP  33.308999  2024-02-21  15535.0\n",
      "101   id68   35.0   경기  45.0   2  gold  ISFP  67.886373  2024-07-29   8599.0\n",
      "\n",
      "[102 rows x 10 columns]\n",
      "5924\n"
     ]
    }
   ],
   "source": [
    "import pandas as pd\n",
    "\n",
    "df = pd.read_csv(\"type1_data1.csv\")\n",
    "# df.info()\n",
    "# df.head()\n",
    "\n",
    "# 1. 0제외\n",
    "cond = (df['f5'] == 0)\n",
    "print(df[~cond])\n",
    "\n",
    "# 2. 결측치 처리\n",
    "min_val = df['views'].min()\n",
    "# print(min_val)\n",
    "df['views'] = df['views'].fillna(min_val)\n",
    "\n",
    "# 3. 중앙값 \n",
    "print(int(df['views'].median()))"
   ]
  },
  {
   "cell_type": "code",
   "execution_count": 35,
   "id": "c8bdb8a2-5d69-4070-b770-dcdf751b6beb",
   "metadata": {},
   "outputs": [
    {
     "name": "stdout",
     "output_type": "stream",
     "text": [
      "2025-02-17\n",
      "17\n"
     ]
    }
   ],
   "source": [
    "import pandas as pd\n",
    "\n",
    "df = pd.read_csv(\"type1_data1.csv\")\n",
    "df\n",
    "\n",
    "# 1. 최빈값 - mode()\n",
    "freq = df['subscribed'].mode()[0]\n",
    "print(freq)\n",
    "\n",
    "day = freq.split('-')[2]\n",
    "day\n",
    "print(int(day))\n",
    "\n",
    "# 2. value_counts() 이용 \n",
    "# df['subscribed'].value_counts()\n",
    "# df = df['subscribed'].value_counts()\n",
    "# print(df)\n",
    "\n",
    "# print(df.index[0])\n",
    "# day = df.index[0].split('-')\n",
    "# day = df.index[0].split('-')[2]\n",
    "# print(int(day))"
   ]
  },
  {
   "cell_type": "code",
   "execution_count": 42,
   "id": "2d7ccbf0-9fc4-4c16-ba0a-427444eb7022",
   "metadata": {},
   "outputs": [
    {
     "name": "stdout",
     "output_type": "stream",
     "text": [
      "22\n"
     ]
    }
   ],
   "source": [
    "import pandas as pd\n",
    "\n",
    "df = pd.read_csv(\"type1_data1.csv\")\n",
    "# df.info()\n",
    "# df.isnull().sum()\n",
    "\n",
    "# df['f1']\n",
    "\n",
    "# 1. 결측치가 있는 행 제거 \n",
    "df = df.dropna()\n",
    "# df.isnull().sum()\n",
    "\n",
    "# 2. 새 칼럼 추가\n",
    "df['new'] = df['views'] / df['f1']\n",
    "df\n",
    "\n",
    "# 3. 내림차순 정렬 - 가장 큰 값\n",
    "df = df.sort_values('new', ascending=False)\n",
    "df\n",
    "print(int(df.iloc[0, 1]))"
   ]
  },
  {
   "cell_type": "markdown",
   "id": "bc7fcd12-74fa-43aa-940c-234e836ecd62",
   "metadata": {},
   "source": [
    "#### 값 변경, 정렬, 합계"
   ]
  },
  {
   "cell_type": "code",
   "execution_count": 56,
   "id": "7ce173c6-880d-49f2-9b5e-a130d9e1f1f5",
   "metadata": {},
   "outputs": [
    {
     "name": "stdout",
     "output_type": "stream",
     "text": [
      "652812\n"
     ]
    }
   ],
   "source": [
    "import pandas as pd\n",
    "\n",
    "df = pd.read_csv(\"type1_data1.csv\")\n",
    "\n",
    "df.isnull().sum()\n",
    "\n",
    "# 1. 결측치 0으로 대체 \n",
    "df['views'] = df['views'].fillna(0)\n",
    "# df.isnull().sum()\n",
    "df[df['views'] == 0]\n",
    "\n",
    "# 2. 상위 10번째값(최소값)으로 변경 \n",
    "df = df.sort_values(\"views\", ascending=False)\n",
    "views_min = df.iloc[:10, -1].min()\n",
    "\n",
    "# views_min = df['views'].nlargest(10).iloc[-1]\n",
    "# print(views_min)\n",
    "\n",
    "# df['views'][:10] = views_min\n",
    "df.iloc[:10, -1] = views_min\n",
    "df.head(11)\n",
    "\n",
    "# 3. 'views' 칼럼 전체의 합 \n",
    "print(int(df['views'].sum()))"
   ]
  },
  {
   "cell_type": "markdown",
   "id": "072a4226-0328-4ca4-8c91-f87e18d763f1",
   "metadata": {},
   "source": [
    "#### 문자열 슬라이싱, 파생변수, 평균값"
   ]
  },
  {
   "cell_type": "code",
   "execution_count": 63,
   "id": "5dace469-3f82-4173-b43b-b613a4aeb4dc",
   "metadata": {},
   "outputs": [
    {
     "name": "stdout",
     "output_type": "stream",
     "text": [
      "        id   age city     f1  f2      f3    f4         f5  subscribed    views\n",
      "0     id01   2.0   서울    NaN   0    gold  ENFJ  91.297791  2024-07-16   6820.0\n",
      "1     id02   9.0   서울   70.0   1     NaN  ENFJ  60.339826  2024-05-12   2534.0\n",
      "4     id05  24.0   서울   85.0   2     NaN  ISFJ  29.269869  2024-03-07   1338.0\n",
      "6     id07  36.3   서울   60.0   1     NaN  ISFJ   9.796378  2024-01-11     61.0\n",
      "7     id08  38.0   서울  101.0   1  silver  INFJ  83.685380  2024-03-06   3260.0\n",
      "8     id09   3.3   서울   35.0   2     NaN  ESFJ  17.252986  2024-03-21   2764.0\n",
      "13    id13  15.0   서울   68.0   0    gold  ESFJ  83.685380  2024-12-30   5643.0\n",
      "18    id18  41.0   서울   87.0   2    gold  ISFJ  80.138280  2024-03-03   7933.0\n",
      "24    id24  80.0   부산   44.0   0    gold  INFJ  73.586397  2024-09-11   5976.0\n",
      "31    id31  86.0   부산   77.0   0    gold  ESFJ  73.586397  2024-02-11   8014.0\n",
      "32    id32  25.0   부산   64.0   0     vip  ISFJ  13.049921  2024-05-24  17421.0\n",
      "33    id33  47.0   부산   94.0   0  silver  ENFJ  17.252986  2024-04-02   3880.0\n",
      "39    id39  56.0   부산   50.0   0     NaN  INFJ  33.308999  2024-12-22      NaN\n",
      "41    id41  81.0   대구   55.0   0    gold  ENFJ  37.113739  2024-10-04   8640.0\n",
      "45    id45  97.0   대구   88.0   0    gold  ENFJ  13.049921  2024-06-21   8317.0\n",
      "52    id52  97.0   대구   82.0   1    gold  ISFJ  90.496999  2024-05-20   8518.0\n",
      "54    id54  53.0   대구    NaN   1    gold  ENFJ  69.730313  2024-06-21   5872.0\n",
      "57    id57   3.0   대구  111.0   0  silver  ISFJ  29.269869  2024-01-12   4421.0\n",
      "59    id59  64.0   대구    NaN   1  silver  ESFJ  20.129444  2024-06-23   4994.0\n",
      "63    id63  88.0   경기   86.0   1  silver  ISFJ  73.586397  2024-12-01   4053.0\n",
      "67    id67  66.0   경기   52.0   1     NaN  ISFJ  73.586397  2024-06-17   1159.0\n",
      "73    id73  90.0   경기    NaN   1     NaN  ISFJ  73.586397  2024-08-12    512.0\n",
      "81    id81  86.0   경기   50.0   1     NaN  ISFJ  37.113739  2024-09-14    244.0\n",
      "85    id85  83.6   경기   55.0   0    gold  INFJ  80.138280  2024-09-24   6719.0\n",
      "99    id99   1.0   경기   47.0   0    gold  ESFJ  97.381034  2024-12-02   6090.0\n",
      "105  id104  21.0   서울   13.0   0  silver  ESFJ   0.000000  2025-02-17   4556.0\n",
      "106  id105  21.0   경기   24.0   0    gold  ESFJ   0.000000  2025-02-17   7654.0\n",
      "119  id118  24.0   부산   94.0   1     vip  ESFJ   0.000000  2025-02-17   2356.0\n",
      "0.61\n"
     ]
    }
   ],
   "source": [
    "import pandas as pd\n",
    "\n",
    "df = pd.read_csv(\"type1_data1.csv\")\n",
    "\n",
    "# 1. 'FJ' 포함 데이터 검색 \n",
    "cond = df['f4'].str.contains('FJ')\n",
    "# print(df[cond])\n",
    "# print(len(df[cond]))\n",
    "\n",
    "# 2. 찾은 데이터 중 'f2' 평균 \n",
    "df = df[cond]\n",
    "print(df)\n",
    "print(round(df['f2'].mean(), 2))\n",
    "# df"
   ]
  },
  {
   "cell_type": "markdown",
   "id": "fa316489-fdc5-4c61-adb1-c8d76dbee994",
   "metadata": {},
   "source": [
    "#### 필터링, 분산"
   ]
  },
  {
   "cell_type": "code",
   "execution_count": 64,
   "id": "81f5ced2-6225-4790-a341-07a4f6c82c2e",
   "metadata": {},
   "outputs": [
    {
     "name": "stdout",
     "output_type": "stream",
     "text": [
      "        id   age city    f1  f2    f3    f4         f5  subscribed   views\n",
      "18    id18  41.0   서울  87.0   2  gold  ISFJ  80.138280  2024-03-03  7933.0\n",
      "29    id29 -13.5   부산  47.0   2  gold  ENTP  67.886373  2024-08-28  6793.0\n",
      "42    id42  65.0   대구  48.0   2  gold  ESTP  33.308999  2024-02-09  5999.0\n",
      "55    id55  75.0   대구  63.0   2  gold  ENTP  13.049921  2024-02-06  6042.0\n",
      "64    id64  43.0   경기  62.0   2  gold  ESFP  73.586397  2024-02-22  5995.0\n",
      "68    id68  35.0   경기  45.0   2  gold  ISFP  67.886373  2024-07-29  8599.0\n",
      "71    id71  35.0   경기  84.0   2  gold  ISFP  52.667078  2024-07-15  8087.0\n",
      "101   id68  35.0   경기  45.0   2  gold  ISFP  67.886373  2024-07-29  8599.0\n",
      "112  id111  22.0   부산  65.0   2  gold  ENTP   0.000000  2025-02-17  7894.0\n",
      "118  id117  23.0   대구  65.0   2  gold  INFP   0.000000  2025-02-17  6543.0\n",
      "        id   age city    f1  f2    f3    f4         f5  subscribed   views\n",
      "18    id18  41.0   서울  87.0   2  gold  ISFJ  80.138280  2024-03-03  7933.0\n",
      "29    id29 -13.5   부산  47.0   2  gold  ENTP  67.886373  2024-08-28  6793.0\n",
      "42    id42  65.0   대구  48.0   2  gold  ESTP  33.308999  2024-02-09  5999.0\n",
      "55    id55  75.0   대구  63.0   2  gold  ENTP  13.049921  2024-02-06  6042.0\n",
      "64    id64  43.0   경기  62.0   2  gold  ESFP  73.586397  2024-02-22  5995.0\n",
      "68    id68  35.0   경기  45.0   2  gold  ISFP  67.886373  2024-07-29  8599.0\n",
      "71    id71  35.0   경기  84.0   2  gold  ISFP  52.667078  2024-07-15  8087.0\n",
      "101   id68  35.0   경기  45.0   2  gold  ISFP  67.886373  2024-07-29  8599.0\n",
      "112  id111  22.0   부산  65.0   2  gold  ENTP   0.000000  2025-02-17  7894.0\n",
      "118  id117  23.0   대구  65.0   2  gold  INFP   0.000000  2025-02-17  6543.0\n",
      "235.43\n"
     ]
    }
   ],
   "source": [
    "import pandas as pd\n",
    "\n",
    "df = pd.read_csv(\"type1_data1.csv\")\n",
    "\n",
    "# 1. '&' 연산 \n",
    "cond1 = (df['f3'] == 'gold') \n",
    "cond2 = (df['f2'] == 2)\n",
    "print(df[cond1 & cond2])\n",
    "new_df = df[cond1 & cond2]\n",
    "print(new_df)\n",
    "\n",
    "# 2. 분산 - 각각의 값에서 평균을 뺀 값을 제곱하여 모두 더함 \n",
    "var = new_df['f1'].var()\n",
    "print(round(var, 2))"
   ]
  },
  {
   "cell_type": "markdown",
   "id": "30cb7247-cea7-4dd7-9248-61ef1349f0a9",
   "metadata": {},
   "source": [
    "#### 값 변경(연산), 필터링 절대값"
   ]
  },
  {
   "cell_type": "code",
   "execution_count": 141,
   "id": "f352d3d1-780f-4773-94ae-a689188db7cb",
   "metadata": {},
   "outputs": [
    {
     "name": "stdout",
     "output_type": "stream",
     "text": [
      "263.13\n"
     ]
    },
    {
     "data": {
      "text/html": [
       "<div>\n",
       "<style scoped>\n",
       "    .dataframe tbody tr th:only-of-type {\n",
       "        vertical-align: middle;\n",
       "    }\n",
       "\n",
       "    .dataframe tbody tr th {\n",
       "        vertical-align: top;\n",
       "    }\n",
       "\n",
       "    .dataframe thead th {\n",
       "        text-align: right;\n",
       "    }\n",
       "</style>\n",
       "<table border=\"1\" class=\"dataframe\">\n",
       "  <thead>\n",
       "    <tr style=\"text-align: right;\">\n",
       "      <th></th>\n",
       "      <th>id</th>\n",
       "      <th>age</th>\n",
       "      <th>city</th>\n",
       "      <th>f1</th>\n",
       "      <th>f2</th>\n",
       "      <th>f3</th>\n",
       "      <th>f4</th>\n",
       "      <th>f5</th>\n",
       "      <th>subscribed</th>\n",
       "      <th>views</th>\n",
       "    </tr>\n",
       "  </thead>\n",
       "  <tbody>\n",
       "    <tr>\n",
       "      <th>0</th>\n",
       "      <td>id01</td>\n",
       "      <td>3.0</td>\n",
       "      <td>서울</td>\n",
       "      <td>NaN</td>\n",
       "      <td>0</td>\n",
       "      <td>gold</td>\n",
       "      <td>ENFJ</td>\n",
       "      <td>91.297791</td>\n",
       "      <td>2024-07-16</td>\n",
       "      <td>6820.0</td>\n",
       "    </tr>\n",
       "    <tr>\n",
       "      <th>1</th>\n",
       "      <td>id02</td>\n",
       "      <td>10.0</td>\n",
       "      <td>서울</td>\n",
       "      <td>70.0</td>\n",
       "      <td>1</td>\n",
       "      <td>NaN</td>\n",
       "      <td>ENFJ</td>\n",
       "      <td>60.339826</td>\n",
       "      <td>2024-05-12</td>\n",
       "      <td>2534.0</td>\n",
       "    </tr>\n",
       "    <tr>\n",
       "      <th>2</th>\n",
       "      <td>id03</td>\n",
       "      <td>28.0</td>\n",
       "      <td>서울</td>\n",
       "      <td>61.0</td>\n",
       "      <td>1</td>\n",
       "      <td>gold</td>\n",
       "      <td>ISTJ</td>\n",
       "      <td>17.252986</td>\n",
       "      <td>2024-03-16</td>\n",
       "      <td>7312.0</td>\n",
       "    </tr>\n",
       "    <tr>\n",
       "      <th>3</th>\n",
       "      <td>id04</td>\n",
       "      <td>76.0</td>\n",
       "      <td>서울</td>\n",
       "      <td>NaN</td>\n",
       "      <td>2</td>\n",
       "      <td>NaN</td>\n",
       "      <td>INFP</td>\n",
       "      <td>52.667078</td>\n",
       "      <td>2024-07-21</td>\n",
       "      <td>493.0</td>\n",
       "    </tr>\n",
       "    <tr>\n",
       "      <th>4</th>\n",
       "      <td>id05</td>\n",
       "      <td>25.0</td>\n",
       "      <td>서울</td>\n",
       "      <td>85.0</td>\n",
       "      <td>2</td>\n",
       "      <td>NaN</td>\n",
       "      <td>ISFJ</td>\n",
       "      <td>29.269869</td>\n",
       "      <td>2024-03-07</td>\n",
       "      <td>1338.0</td>\n",
       "    </tr>\n",
       "  </tbody>\n",
       "</table>\n",
       "</div>"
      ],
      "text/plain": [
       "     id   age city    f1  f2    f3    f4         f5  subscribed   views\n",
       "0  id01   3.0   서울   NaN   0  gold  ENFJ  91.297791  2024-07-16  6820.0\n",
       "1  id02  10.0   서울  70.0   1   NaN  ENFJ  60.339826  2024-05-12  2534.0\n",
       "2  id03  28.0   서울  61.0   1  gold  ISTJ  17.252986  2024-03-16  7312.0\n",
       "3  id04  76.0   서울   NaN   2   NaN  INFP  52.667078  2024-07-21   493.0\n",
       "4  id05  25.0   서울  85.0   2   NaN  ISFJ  29.269869  2024-03-07  1338.0"
      ]
     },
     "execution_count": 141,
     "metadata": {},
     "output_type": "execute_result"
    }
   ],
   "source": [
    "import pandas as pd\n",
    "\n",
    "df = pd.read_csv(\"type1_data1.csv\")\n",
    "\n",
    "\n",
    "# 1. 나이 + 1\n",
    "df['age'] = df['age'] + 1\n",
    "\n",
    "# 2. 20대와 30대\n",
    "cond1 = (df['age'] >= 20) & (df['age'] < 30)\n",
    "cond2 = (df['age'] >= 30) & (df['age'] < 40)\n",
    "\n",
    "# 2. 평균의 차를 절대값으로 구하기\n",
    "result = abs(df[cond1]['views'].mean() - df[cond2]['views'].mean())\n",
    "print(round(result, 2))\n",
    "df.head()"
   ]
  },
  {
   "cell_type": "markdown",
   "id": "3fa23acf-7015-4ae3-988f-0445507f93ce",
   "metadata": {},
   "source": [
    "### 시계열 데이터, 필터링, 데이터 개수"
   ]
  },
  {
   "cell_type": "code",
   "execution_count": 65,
   "id": "a9cbdefd-d583-46e3-b134-c2d4d27a1366",
   "metadata": {},
   "outputs": [
    {
     "name": "stdout",
     "output_type": "stream",
     "text": [
      "5\n"
     ]
    }
   ],
   "source": [
    "import pandas as pd\n",
    "\n",
    "df = pd.read_csv(\"type1_data1.csv\")\n",
    "# df.info()\n",
    "df['subscribed'] = pd.to_datetime(df['subscribed'])\n",
    "\n",
    "# 파생 변수 생성(연, 월)\n",
    "df['year'] = df['subscribed'].dt.year\n",
    "df['month'] = df['subscribed'].dt.month\n",
    "\n",
    "# 1. 2024년 2월인 데이터 찾고\n",
    "# 2. 'f3'이 gold인 데이터 개수\n",
    "cond1 = (df['year'] == 2024)\n",
    "cond2 = (df['month'] == 2)\n",
    "cond3 = (df['f3'] == 'gold')\n",
    "df = df[cond1 & cond2 & cond3]\n",
    "print(len(df))"
   ]
  },
  {
   "cell_type": "markdown",
   "id": "3f4143b4-d57d-40fb-b0f1-bf4346b6c7b5",
   "metadata": {},
   "source": [
    "#### 필터링, 카테고리, 최빈값"
   ]
  },
  {
   "cell_type": "code",
   "execution_count": 67,
   "id": "fd76dd88-dc00-4cb3-8d20-b866ba50f2a4",
   "metadata": {},
   "outputs": [
    {
     "name": "stdout",
     "output_type": "stream",
     "text": [
      "      id   age city    f1  f2   f3    f4         f5  subscribed  views\n",
      "3   id04  75.0   서울   NaN   2  NaN  INFP  52.667078  2024-07-21  493.0\n",
      "6   id07  36.3   서울  60.0   1  NaN  ISFJ   9.796378  2024-01-11   61.0\n",
      "30  id30  16.0   부산   NaN   0  NaN  ESTJ  17.252986  2024-05-28  240.0\n",
      "44  id44  44.0   대구   NaN   0  NaN  INTP  16.283854  2024-11-10  546.0\n",
      "61  id61  87.0   경기  62.0   2  NaN  INTP  69.730313  2024-02-03  218.0\n",
      "72  id72   8.0   경기  97.0   0  NaN  ESTJ  97.381034  2024-01-30  602.0\n",
      "73  id73  90.0   경기   NaN   1  NaN  ISFJ  73.586397  2024-08-12  512.0\n",
      "81  id81  86.0   경기  50.0   1  NaN  ISFJ  37.113739  2024-09-14  244.0\n",
      "93  id93  21.8   경기  57.0   0  NaN  ISFP  73.586397  2024-06-07   42.0\n",
      "98  id98  39.0   경기  58.0   2  NaN  INFP  98.429899  2024-10-02  865.0\n",
      "ISFJ\n"
     ]
    }
   ],
   "source": [
    "import pandas as pd\n",
    "\n",
    "df = pd.read_csv(\"type1_data1.csv\")\n",
    "\n",
    "# 1. 'views' 칼럼이 1000이하 \n",
    "cond = df['views'] <= 1000\n",
    "print(df[cond])\n",
    "\n",
    "# 2. 찾은 데이터중 'f4' 칼럼의 최빈값 \n",
    "df = df[cond]\n",
    "most_freq = df['f4'].mode()[0]\n",
    "print(most_freq)"
   ]
  },
  {
   "cell_type": "markdown",
   "id": "f3517cd9-906e-417d-8a32-c93bc6ab9ed5",
   "metadata": {},
   "source": [
    "#### 그룹핑, 최대값, 정렬"
   ]
  },
  {
   "cell_type": "code",
   "execution_count": 75,
   "id": "81adfb0b-982b-44f9-ba16-40cc9773ea75",
   "metadata": {},
   "outputs": [
    {
     "name": "stdout",
     "output_type": "stream",
     "text": [
      "            age         f1        f2         f5        views\n",
      "city                                                        \n",
      "경기    48.704000  61.360000  0.760000  52.106731  8127.880000\n",
      "대구    49.773333  66.200000  0.666667  27.370166  6819.133333\n",
      "부산    35.075000  65.875000  0.687500  38.638715  6945.437500\n",
      "서울    38.000000  60.142857  0.785714  41.122705  7369.142857\n",
      "서울\n",
      "서울\n"
     ]
    }
   ],
   "source": [
    "import pandas as pd\n",
    "\n",
    "df = pd.read_csv(\"type1_data1.csv\")\n",
    "# print(df)\n",
    "\n",
    "# 1. 결측치 있는 행 삭제 \n",
    "df = df.dropna()\n",
    "# df.info()\n",
    "# print(df.isnull().sum())\n",
    "\n",
    "# 2. 지역별 평균\n",
    "df = df.groupby(['city']).mean(numeric_only=True)\n",
    "print(df.head())\n",
    "\n",
    "# 3. 'f2' 칼럼이 가장 큰 지역\n",
    "print(df['f2'].idxmax())\n",
    "\n",
    "df = df.sort_values('f2', ascending=False)\n",
    "print(df.index[0])"
   ]
  },
  {
   "cell_type": "markdown",
   "id": "54e83350-3bc8-4e4f-898a-563687a61f78",
   "metadata": {},
   "source": [
    "#### 시계열데이터, 월별 집계, 인덱스"
   ]
  },
  {
   "cell_type": "code",
   "execution_count": 88,
   "id": "83e0c1ed-5fd8-4f1b-a65d-9a999cba0fc1",
   "metadata": {},
   "outputs": [
    {
     "data": {
      "text/plain": [
       "11"
      ]
     },
     "execution_count": 88,
     "metadata": {},
     "output_type": "execute_result"
    }
   ],
   "source": [
    "import pandas as pd\n",
    "\n",
    "df = pd.read_csv(\"type1_data1.csv\")\n",
    "df\n",
    "\n",
    "df['subscribed'] = pd.to_datetime(df['subscribed'])\n",
    "# df.info()\n",
    "# df['subscribed']\n",
    "\n",
    "# 1. 월별로 숫자형 칼럼의 합\n",
    "df['month'] = df['subscribed'].dt.month\n",
    "# df.info()\n",
    "\n",
    "df = df.groupby('month').sum(numeric_only=True)\n",
    "df\n",
    "# 2. 'views'가 가장 작은 값을 가진 월을 정수로..\n",
    "df.sort_values('views').index[0]"
   ]
  },
  {
   "cell_type": "markdown",
   "id": "49e8ea7c-c934-4583-9a45-244043f8dfdf",
   "metadata": {},
   "source": [
    "#### 시간 간의 차이 계산(분), 필터링"
   ]
  },
  {
   "cell_type": "code",
   "execution_count": 91,
   "id": "585f752a-2b10-4a76-8edd-32fccef83599",
   "metadata": {},
   "outputs": [
    {
     "name": "stdout",
     "output_type": "stream",
     "text": [
      "311\n"
     ]
    }
   ],
   "source": [
    "import pandas as pd\n",
    "\n",
    "df = pd.read_csv(\"delivery_time.csv\")\n",
    "# print(df)\n",
    "# print(df.info())\n",
    "\n",
    "df['실제도착시간'] = pd.to_datetime(df['실제도착시간'])\n",
    "df['예상도착시간'] = pd.to_datetime(df['예상도착시간'])\n",
    "# print(df.info())\n",
    "\n",
    "# 1. 예상 도착 시간보다 늦게 도착한 건수 \n",
    "df['지연시간'] = (df['실제도착시간'] - df['예상도착시간']).dt.total_seconds() / 60\n",
    "cond1 = df['지연시간'] > 0\n",
    "\n",
    "# 2. 이동 거리가 7km 이상인 데이터 수\n",
    "cond2 = df['거리'] > 7\n",
    "print(len(df[cond1 & cond2]))"
   ]
  },
  {
   "cell_type": "markdown",
   "id": "300b7e02-f66c-4249-b27d-8b497b3f80b3",
   "metadata": {},
   "source": [
    "#### 시간 간의 차이 계산(분), 그룹핑"
   ]
  },
  {
   "cell_type": "code",
   "execution_count": 92,
   "id": "cf0b14b6-26b3-4c38-9009-536e53e27519",
   "metadata": {},
   "outputs": [
    {
     "name": "stdout",
     "output_type": "stream",
     "text": [
      "0      68.283333\n",
      "1      22.166667\n",
      "2      71.816667\n",
      "3      29.950000\n",
      "4      89.500000\n",
      "         ...    \n",
      "995    60.300000\n",
      "996    24.450000\n",
      "997    28.716667\n",
      "998    17.700000\n",
      "999    70.216667\n",
      "Name: diff, Length: 1000, dtype: float64\n",
      "앱종류\n",
      "배고팡    61.818694\n",
      "배달왕    63.517864\n",
      "여기여    62.343110\n",
      "Name: diff, dtype: float64\n",
      "62\n"
     ]
    }
   ],
   "source": [
    "import pandas as pd\n",
    "\n",
    "df = pd.read_csv(\"delivery_time.csv\")\n",
    "# print(df.info())\n",
    "\n",
    "df['실제도착시간'] = pd.to_datetime(df['실제도착시간'])\n",
    "df['주문시간'] = pd.to_datetime(df['주문시간'])\n",
    "\n",
    "# 1. 주문 시간과 실제 도착시간의 차이 - 분 단위 \n",
    "df['diff'] = (df['실제도착시간'] - df['주문시간']).dt.total_seconds() / 60\n",
    "print(df['diff'])\n",
    "\n",
    "# 2. 앱종류별 평균 도착시간 \n",
    "df = df.groupby('앱종류')['diff'].mean()\n",
    "print(df)\n",
    "\n",
    "# 3. 가장 빠른 앱 시간(최소값) \n",
    "print(round(df.min()))"
   ]
  },
  {
   "cell_type": "markdown",
   "id": "6105aa38-54e4-40e2-8738-0640e6885495",
   "metadata": {},
   "source": [
    "#### 주말, 평일 구분"
   ]
  },
  {
   "cell_type": "code",
   "execution_count": 96,
   "id": "e37b942c-0918-4533-9997-fab34775f5a6",
   "metadata": {},
   "outputs": [
    {
     "name": "stdout",
     "output_type": "stream",
     "text": [
      "                   주문시간               실제도착시간               예상도착시간  앱종류     거리  \\\n",
      "5   2022-11-27 15:13:52  2022-11-27 16:47:32  2022-11-27 16:41:28  배달왕  14.85   \n",
      "6   2022-09-25 16:27:43  2022-09-25 17:52:23  2022-09-25 18:13:21  배달왕   9.72   \n",
      "8   2023-04-09 05:21:21  2023-04-09 06:47:46  2023-04-09 05:51:07  배달왕   1.51   \n",
      "23  2023-07-30 16:05:12  2023-07-30 17:25:24  2023-07-30 16:27:24  배달왕   3.58   \n",
      "24  2023-07-09 19:20:05  2023-07-09 20:19:40  2023-07-09 20:48:13  배고팡  10.52   \n",
      "..                  ...                  ...                  ...  ...    ...   \n",
      "987 2023-06-03 19:47:25  2023-06-03 21:11:59  2023-06-03 21:31:58  배달왕   2.72   \n",
      "988 2022-10-08 14:55:02  2022-10-08 16:01:08  2022-10-08 15:31:19  여기여  14.24   \n",
      "989 2022-10-01 14:01:58  2022-10-01 14:51:13  2022-10-01 14:55:00  여기여  16.40   \n",
      "992 2022-09-18 06:21:27  2022-09-18 07:34:52  2022-09-18 06:55:28  배달왕  16.87   \n",
      "993 2023-08-13 17:53:20  2023-08-13 18:43:32  2023-08-13 18:43:52  여기여   6.96   \n",
      "\n",
      "    결제종류      user  dayofweek    주말  \n",
      "5    앱결제  user_204          6  True  \n",
      "6     현금  user_343          6  True  \n",
      "8     카드  user_294          6  True  \n",
      "23    현금  user_119          6  True  \n",
      "24   앱결제  user_403          6  True  \n",
      "..   ...       ...        ...   ...  \n",
      "987   현금  user_132          5  True  \n",
      "988   카드  user_207          5  True  \n",
      "989   현금  user_252          5  True  \n",
      "992   현금  user_181          6  True  \n",
      "993   현금  user_216          6  True  \n",
      "\n",
      "[294 rows x 9 columns]\n",
      "294 706\n",
      "412\n"
     ]
    }
   ],
   "source": [
    "import pandas as pd\n",
    "\n",
    "df = pd.read_csv(\"delivery_time.csv\")\n",
    "\n",
    "df['주문시간'] = pd.to_datetime(df['주문시간'])\n",
    "\n",
    "# 1. 주말 주문 건수와 평일 주문 건수\n",
    "df['dayofweek'] = df['주문시간'].dt.dayofweek\n",
    "df['주말'] = df['dayofweek'] >= 5\n",
    "# print(df[df['주말']])\n",
    "\n",
    "weekend = sum(df['주말'])\n",
    "weekday = sum(~df['주말']) # 평일 \n",
    "print(weekend, weekday)\n",
    "\n",
    "# 2. 주말 주문 건수와 평일 주문 건수의 차이(절대값)\n",
    "print(abs(weekend - weekday))"
   ]
  },
  {
   "cell_type": "code",
   "execution_count": 112,
   "id": "69efd5cd-b545-46e9-8e59-89249e1bb5a0",
   "metadata": {},
   "outputs": [
    {
     "name": "stdout",
     "output_type": "stream",
     "text": [
      "<class 'pandas.core.frame.DataFrame'>\n",
      "RangeIndex: 1000 entries, 0 to 999\n",
      "Data columns (total 8 columns):\n",
      " #   Column    Non-Null Count  Dtype  \n",
      "---  ------    --------------  -----  \n",
      " 0   주문시간      1000 non-null   object \n",
      " 1   실제도착시간    1000 non-null   object \n",
      " 2   예상도착시간    1000 non-null   object \n",
      " 3   앱종류       1000 non-null   object \n",
      " 4   거리        1000 non-null   float64\n",
      " 5   결제종류      1000 non-null   object \n",
      " 6   user      1000 non-null   object \n",
      " 7   user_num  1000 non-null   object \n",
      "dtypes: float64(1), object(7)\n",
      "memory usage: 62.6+ KB\n"
     ]
    },
    {
     "data": {
      "text/plain": [
       "261387"
      ]
     },
     "execution_count": 112,
     "metadata": {},
     "output_type": "execute_result"
    }
   ],
   "source": [
    "# 문자열 형 변환\n",
    "import pandas as pd\n",
    "\n",
    "df = pd.read_csv(\"delivery_time.csv\")\n",
    "df\n",
    "\n",
    "# 1. 'user' 칼럼에서 user 뒤의 숫자 추출\n",
    "df['user_num'] = df['user'].str[5:]\n",
    "df['user_num'] \n",
    "df.info()\n",
    "\n",
    "# 2. 추출된 숫자 값을 모두 합한 값 \n",
    "df['user_num'] = df['user_num'].astype(int)\n",
    "df['user_num'].sum()"
   ]
  },
  {
   "cell_type": "markdown",
   "id": "793186cb-2cf7-4335-ba16-20c6339f3148",
   "metadata": {},
   "source": [
    "#### 합계(열방향), 상위 값 선택"
   ]
  },
  {
   "cell_type": "code",
   "execution_count": 103,
   "id": "fa937738-9da4-4cb3-b77e-560f0a00ee46",
   "metadata": {},
   "outputs": [
    {
     "name": "stdout",
     "output_type": "stream",
     "text": [
      "82\n"
     ]
    }
   ],
   "source": [
    "import pandas as pd\n",
    "\n",
    "df = pd.read_csv(\"school_data.csv\")\n",
    "# print(df)\n",
    "\n",
    "# 1. 수학, 영어, 국어 점수의 합 \n",
    "df['total_score'] = df[['수학', '영어', '국어']].sum(axis=1)\n",
    "# print(df)\n",
    "\n",
    "# 2. 합이 가장 큰 상위 10명 \n",
    "# 풀이 1\n",
    "# top10 = df.nlargest(10, 'total_score')\n",
    "\n",
    "# 풀이 2 \n",
    "# top10 = df.sort_values('total_score', ascending=False)\n",
    "# print(top10.iloc[:10])\n",
    "# top10 = top10.iloc[:10]\n",
    "\n",
    "# 3. 찾은 10명의 수학 평균 \n",
    "result = top10['수학'].mean()\n",
    "print(round(result))"
   ]
  },
  {
   "cell_type": "markdown",
   "id": "c2402cc8-f1ea-4b5c-91ba-12cf2b620ce5",
   "metadata": {},
   "source": [
    "#### 데이터합치기(concat)"
   ]
  },
  {
   "cell_type": "code",
   "execution_count": 107,
   "id": "40e37db4-a5b6-4f97-8325-850278583daa",
   "metadata": {},
   "outputs": [
    {
     "name": "stdout",
     "output_type": "stream",
     "text": [
      "9\n"
     ]
    }
   ],
   "source": [
    "import pandas as pd\n",
    "\n",
    "df = pd.read_csv(\"school_data.csv\")\n",
    "# print(df)\n",
    "\n",
    "df_science = pd.read_csv(\"school_data_science.csv\")\n",
    "# print(df_science)\n",
    "\n",
    "# 1. 왼쪽 + 오른쪽 합치기 \n",
    "df = pd.concat([df, df_science], axis=1)\n",
    "df\n",
    "\n",
    "# 2. 학생별 수학, 영어, 국어, 과학 평균 \n",
    "df['수영국과평균'] = df[['수학', '영어', '국어', '과학']].mean(axis=1)\n",
    "df\n",
    "\n",
    "# 3. 평균이 60 이상인 인원 수 \n",
    "print(sum(df['수영국과평균'] >= 60))"
   ]
  }
 ],
 "metadata": {
  "kernelspec": {
   "display_name": "Python 3 (ipykernel)",
   "language": "python",
   "name": "python3"
  },
  "language_info": {
   "codemirror_mode": {
    "name": "ipython",
    "version": 3
   },
   "file_extension": ".py",
   "mimetype": "text/x-python",
   "name": "python",
   "nbconvert_exporter": "python",
   "pygments_lexer": "ipython3",
   "version": "3.12.7"
  }
 },
 "nbformat": 4,
 "nbformat_minor": 5
}

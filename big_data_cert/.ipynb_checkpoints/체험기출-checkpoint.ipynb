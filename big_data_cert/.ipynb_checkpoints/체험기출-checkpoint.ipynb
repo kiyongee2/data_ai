{
 "cells": [
  {
   "cell_type": "markdown",
   "id": "0bb788ef-073c-46d4-942d-af1fc07ea526",
   "metadata": {},
   "source": [
    "#### 유형1"
   ]
  },
  {
   "cell_type": "code",
   "execution_count": null,
   "id": "ca23a8b4-c132-4058-9b90-476997681ba9",
   "metadata": {},
   "outputs": [],
   "source": [
    "from sklearn.preprocessing import MinMaxScaler\n",
    "\n",
    "scaler = MinMaxScaler()\n",
    "df['qsec'] = scaler.fit_transform(df[['qsec']])\n",
    "result = df['qsec'] > 0.5\n",
    "print(round(result, 1))  #9"
   ]
  },
  {
   "cell_type": "markdown",
   "id": "c702ccc6-3993-498b-897e-6bcb1745ea9a",
   "metadata": {},
   "source": [
    "#### 유형2"
   ]
  },
  {
   "cell_type": "code",
   "execution_count": null,
   "id": "65a6168e-fa98-4ed2-814f-60ae2d90f197",
   "metadata": {},
   "outputs": [],
   "source": [
    "import pandas as pd\n",
    "\n",
    "train = pd.read_csv(\"data/customer_train.csv\")\n",
    "test = pd.read_csv(\"data/customer_test.csv\")\n",
    "\n",
    "# print(train.info())\n",
    "# print(test.info())\n",
    "\n",
    "# print(train.isnull().sum())\n",
    "\n",
    "# 결측치 대체 - 환불금액\n",
    "mean = train['환불금액'].mean()\n",
    "# print(median)\n",
    "train['환불금액'] = train['환불금액'].fillna(mean)\n",
    "test['환불금액'] = test['환불금액'].fillna(mean)\n",
    "\n",
    "# 변수 선택\n",
    "target = train.pop('성별')\n",
    "\n",
    "# 타입 변환 - 주구매상품, 주구매지점\n",
    "cols = ['주구매상품', '주구매지점']\n",
    "\n",
    "from sklearn.preprocessing import LabelEncoder\n",
    "# 인코딩\n",
    "le = LabelEncoder()\n",
    "\n",
    "for col in cols:\n",
    "\ttrain[col] = le.fit_transform(train[col])\n",
    "\ttest[col] = le.fit_transform(test[col])\n",
    "\t\n",
    "# print(train.info())\n",
    "\n",
    "from sklearn.model_selection import train_test_split\n",
    "X_train, X_test, y_train, y_test = train_test_split(\n",
    "\ttrain, target, test_size=0.2, random_state=3)\n",
    "\n",
    "print(X_train.shape, X_test.shape, y_train.shape, y_test.shape)\n",
    "\n",
    "from sklearn.ensemble import RandomForestClassifier\n",
    "from sklearn.metrics import roc_auc_score\n",
    "\n",
    "model = RandomForestClassifier(max_depth=7, n_estimators=200, random_state=3)\n",
    "model = RandomForestClassifier(random_state=3)\n",
    "model.fit(X_train, y_train)\n",
    "pred = model.predict(X_test)\n",
    "# print(pred)\n",
    "\n",
    "score = roc_auc_score(y_test, pred)\n",
    "print(\"roc_auc:\", score)\n",
    "\n",
    "# test 데이터 측정\n",
    "pred2 = model.predict(test)\n",
    "\n",
    "submit = pd.DataFrame({'pred': pred2})\n",
    "submit.to_csv('result.csv', index=False)\n",
    "\n",
    "print(pd.read_csv('result.csv'))"
   ]
  },
  {
   "cell_type": "markdown",
   "id": "5ac15404-dee5-49b3-81e0-2e614518e40f",
   "metadata": {},
   "source": [
    "#### 유형3"
   ]
  },
  {
   "cell_type": "code",
   "execution_count": null,
   "id": "072b8de3-7c24-4013-9c4a-7a2990584807",
   "metadata": {},
   "outputs": [],
   "source": [
    "# 1번\n",
    "table = pd.crosstab(df['Gender'], df['Survived'])\n",
    "# print(table)\n",
    "\n",
    "from scipy import stats\n",
    "\n",
    "result = stats.chi2_contingency(table)\n",
    "# print(result)\n",
    "print(round(result.statistic, 3))\n",
    "\n",
    "# 2번\n",
    "from statsmodels.formula.api import logit\n",
    "\n",
    "formula = \"Survived ~ Gender + SibSp + Parch + Fare\"\n",
    "\n",
    "model = logit(formula, data=df).fit()\n",
    "print(model.summary())\n",
    "\n",
    "parch = model.params['Parch']\n",
    "print(round(parch, 3))\n",
    "\n",
    "# 3번\n",
    "import numpy as np\n",
    "\n",
    "coef = model.params['SibSp']\n",
    "# print(coef)\n",
    "odds = np.exp(coef)\n",
    "print(round(odds, 3))"
   ]
  }
 ],
 "metadata": {
  "kernelspec": {
   "display_name": "Python 3 (ipykernel)",
   "language": "python",
   "name": "python3"
  },
  "language_info": {
   "codemirror_mode": {
    "name": "ipython",
    "version": 3
   },
   "file_extension": ".py",
   "mimetype": "text/x-python",
   "name": "python",
   "nbconvert_exporter": "python",
   "pygments_lexer": "ipython3",
   "version": "3.12.4"
  }
 },
 "nbformat": 4,
 "nbformat_minor": 5
}

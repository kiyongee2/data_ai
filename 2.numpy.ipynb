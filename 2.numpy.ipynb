{
 "cells": [
  {
   "cell_type": "code",
   "execution_count": 23,
   "id": "6298c03b-63fb-488a-b036-6928e6d2ecda",
   "metadata": {},
   "outputs": [
    {
     "name": "stdout",
     "output_type": "stream",
     "text": [
      "int32\n",
      "int64\n"
     ]
    },
    {
     "data": {
      "text/plain": [
       "array([ 0, 11,  2, 13,  4], dtype=int64)"
      ]
     },
     "execution_count": 23,
     "metadata": {},
     "output_type": "execute_result"
    }
   ],
   "source": [
    "import numpy as np\n",
    "\n",
    "x = np.arange(15)\n",
    "x\n",
    "\n",
    "print(x.dtype)\n",
    "\n",
    "x = np.arange(15, dtype=np.int64)\n",
    "x\n",
    "print(x.dtype)\n",
    "\n",
    "x = x.reshape(3, 5)\n",
    "x\n",
    "\n",
    "x[:, :]\n",
    "\n",
    "x[1: , ::2]\n",
    "\n",
    "x[1:, ::2] = -99\n",
    "x\n",
    "\n",
    "x.max(axis=1)\n",
    "\n",
    "x.max(axis=0)"
   ]
  },
  {
   "cell_type": "code",
   "execution_count": null,
   "id": "1b52582b-ff34-4e03-b8c7-4c005b67f5f3",
   "metadata": {},
   "outputs": [],
   "source": []
  }
 ],
 "metadata": {
  "kernelspec": {
   "display_name": "Python 3 (ipykernel)",
   "language": "python",
   "name": "python3"
  },
  "language_info": {
   "codemirror_mode": {
    "name": "ipython",
    "version": 3
   },
   "file_extension": ".py",
   "mimetype": "text/x-python",
   "name": "python",
   "nbconvert_exporter": "python",
   "pygments_lexer": "ipython3",
   "version": "3.12.4"
  }
 },
 "nbformat": 4,
 "nbformat_minor": 5
}

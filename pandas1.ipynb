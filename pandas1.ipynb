{
 "cells": [
  {
   "cell_type": "markdown",
   "id": "cb9c9af7-d0bc-4a16-850d-456fb0e38140",
   "metadata": {},
   "source": [
    "### Pandas \n",
    "##### Pandas는 구조화된 데이터나 표 형식의 데이터를 빠르고 쉽게 다룰 수 있도록 하는 라이브러리이다.\n",
    "##### Series는 1차원 데이터, DataFrame은 2차원 데이터"
   ]
  },
  {
   "cell_type": "code",
   "execution_count": 117,
   "id": "20f606ef-237e-42ee-96a6-4c7ee050e440",
   "metadata": {},
   "outputs": [
    {
     "name": "stdout",
     "output_type": "stream",
     "text": [
      "0    143\n",
      "1    150\n",
      "2    157\n",
      "3    160\n",
      "dtype: int64\n"
     ]
    },
    {
     "data": {
      "text/plain": [
       "pandas.core.series.Series"
      ]
     },
     "execution_count": 117,
     "metadata": {},
     "output_type": "execute_result"
    }
   ],
   "source": [
    "import pandas as pd\n",
    "\n",
    "growth = pd.Series([143, 150, 157, 160])\n",
    "print(growth)\n",
    "type(growth)"
   ]
  },
  {
   "cell_type": "code",
   "execution_count": 7,
   "id": "0f721187-4fc5-48ec-b7b0-2221454a9b42",
   "metadata": {},
   "outputs": [
    {
     "data": {
      "text/plain": [
       "2018    143\n",
       "2019    150\n",
       "2020    157\n",
       "2021    160\n",
       "dtype: int64"
      ]
     },
     "execution_count": 7,
     "metadata": {},
     "output_type": "execute_result"
    }
   ],
   "source": [
    "import pandas as pd\n",
    "\n",
    "growth = pd.Series([143, 150, 157, 160], index=['2018', '2019', '2020', '2021'])\n",
    "growth"
   ]
  },
  {
   "cell_type": "code",
   "execution_count": 1,
   "id": "1bbb0f12-e112-4137-b6ac-e9dcb68eebf0",
   "metadata": {},
   "outputs": [
    {
     "data": {
      "text/plain": [
       "Flour     4 cups\n",
       "Milk       1 cup\n",
       "Eggs     2 large\n",
       "Spam       1 can\n",
       "Name: Dinner, dtype: object"
      ]
     },
     "execution_count": 1,
     "metadata": {},
     "output_type": "execute_result"
    }
   ],
   "source": [
    "import pandas as pd\n",
    "\n",
    "data = ['4 cups', '1 cup', '2 large', '1 can']\n",
    "index= ['Flour', 'Milk', 'Eggs', 'Spam']\n",
    "dinner = pd.Series(data, index=index, name= 'Dinner')\n",
    "dinner"
   ]
  },
  {
   "cell_type": "code",
   "execution_count": 9,
   "id": "9494aa6a-2bb4-4316-abf3-c022156b353b",
   "metadata": {},
   "outputs": [
    {
     "data": {
      "text/html": [
       "<div>\n",
       "<style scoped>\n",
       "    .dataframe tbody tr th:only-of-type {\n",
       "        vertical-align: middle;\n",
       "    }\n",
       "\n",
       "    .dataframe tbody tr th {\n",
       "        vertical-align: top;\n",
       "    }\n",
       "\n",
       "    .dataframe thead th {\n",
       "        text-align: right;\n",
       "    }\n",
       "</style>\n",
       "<table border=\"1\" class=\"dataframe\">\n",
       "  <thead>\n",
       "    <tr style=\"text-align: right;\">\n",
       "      <th></th>\n",
       "      <th>영희</th>\n",
       "      <th>철수</th>\n",
       "    </tr>\n",
       "  </thead>\n",
       "  <tbody>\n",
       "    <tr>\n",
       "      <th>2018</th>\n",
       "      <td>143</td>\n",
       "      <td>165</td>\n",
       "    </tr>\n",
       "    <tr>\n",
       "      <th>2019</th>\n",
       "      <td>150</td>\n",
       "      <td>172</td>\n",
       "    </tr>\n",
       "    <tr>\n",
       "      <th>2020</th>\n",
       "      <td>157</td>\n",
       "      <td>175</td>\n",
       "    </tr>\n",
       "    <tr>\n",
       "      <th>2021</th>\n",
       "      <td>160</td>\n",
       "      <td>180</td>\n",
       "    </tr>\n",
       "  </tbody>\n",
       "</table>\n",
       "</div>"
      ],
      "text/plain": [
       "       영희   철수\n",
       "2018  143  165\n",
       "2019  150  172\n",
       "2020  157  175\n",
       "2021  160  180"
      ]
     },
     "execution_count": 9,
     "metadata": {},
     "output_type": "execute_result"
    }
   ],
   "source": [
    "index=['2018', '2019', '2020', '2021']\n",
    "\n",
    "Younghee = pd.Series([143, 150, 157, 160], index=index)\n",
    "Cheolsu = pd.Series([165, 172, 175, 180], index=index)\n",
    "\n",
    "growth = pd.DataFrame({\n",
    "    '영희': Younghee,\n",
    "    '철수': Cheolsu\n",
    "})\n",
    "\n",
    "growth"
   ]
  },
  {
   "cell_type": "code",
   "execution_count": 125,
   "id": "8df81b21-b970-4dba-abe5-bc442af6f06f",
   "metadata": {},
   "outputs": [
    {
     "data": {
      "text/html": [
       "<div>\n",
       "<style scoped>\n",
       "    .dataframe tbody tr th:only-of-type {\n",
       "        vertical-align: middle;\n",
       "    }\n",
       "\n",
       "    .dataframe tbody tr th {\n",
       "        vertical-align: top;\n",
       "    }\n",
       "\n",
       "    .dataframe thead th {\n",
       "        text-align: right;\n",
       "    }\n",
       "</style>\n",
       "<table border=\"1\" class=\"dataframe\">\n",
       "  <thead>\n",
       "    <tr style=\"text-align: right;\">\n",
       "      <th></th>\n",
       "      <th>영희</th>\n",
       "      <th>철수</th>\n",
       "    </tr>\n",
       "  </thead>\n",
       "  <tbody>\n",
       "    <tr>\n",
       "      <th>2018</th>\n",
       "      <td>143</td>\n",
       "      <td>165</td>\n",
       "    </tr>\n",
       "    <tr>\n",
       "      <th>2019</th>\n",
       "      <td>150</td>\n",
       "      <td>172</td>\n",
       "    </tr>\n",
       "    <tr>\n",
       "      <th>2020</th>\n",
       "      <td>157</td>\n",
       "      <td>175</td>\n",
       "    </tr>\n",
       "    <tr>\n",
       "      <th>2021</th>\n",
       "      <td>160</td>\n",
       "      <td>180</td>\n",
       "    </tr>\n",
       "  </tbody>\n",
       "</table>\n",
       "</div>"
      ],
      "text/plain": [
       "       영희   철수\n",
       "2018  143  165\n",
       "2019  150  172\n",
       "2020  157  175\n",
       "2021  160  180"
      ]
     },
     "execution_count": 125,
     "metadata": {},
     "output_type": "execute_result"
    }
   ],
   "source": [
    "index=['2018', '2019', '2020', '2021']\n",
    "\n",
    "data = {\n",
    "    '영희': [143, 150, 157, 160],\n",
    "    '철수': [165, 172, 175, 180]\n",
    "}\n",
    "growth = pd.DataFrame(data, columns=['영희', '철수'], index=index)\n",
    "growth"
   ]
  },
  {
   "cell_type": "code",
   "execution_count": 141,
   "id": "6a4bf317-4dd9-4e53-be85-4a99b11836fb",
   "metadata": {},
   "outputs": [],
   "source": [
    "# csv 파일로 내보내기\n",
    "import pandas as pd\n",
    "\n",
    "index=['2018', '2019', '2020', '2021']\n",
    "\n",
    "data = {\n",
    "    '영희': [143, 150, 157, 160],\n",
    "    '철수': [165, 172, 175, 180]\n",
    "}\n",
    "growth = pd.DataFrame(data, columns=['영희', '철수'], index=index)\n",
    "growth.to_csv(\"./source/growth.csv\")"
   ]
  },
  {
   "cell_type": "code",
   "execution_count": 155,
   "id": "f1b1c010-c12a-4a70-9737-eaf219a8eb95",
   "metadata": {},
   "outputs": [
    {
     "name": "stdout",
     "output_type": "stream",
     "text": [
      "       영희   철수\n",
      "2018  143  165\n",
      "2019  150  172\n",
      "2020  157  175\n",
      "2021  160  180\n"
     ]
    },
    {
     "data": {
      "text/plain": [
       "(4, 2)"
      ]
     },
     "execution_count": 155,
     "metadata": {},
     "output_type": "execute_result"
    }
   ],
   "source": [
    "# csv 파일 읽어오기\n",
    "import pandas as pd\n",
    "\n",
    "growth = pd.read_csv(\"./source/growth.csv\", index_col=0)\n",
    "print(growth)\n",
    "growth.shape"
   ]
  },
  {
   "cell_type": "code",
   "execution_count": 3,
   "id": "035ae6de-732b-43a5-85bf-f4472c42f72a",
   "metadata": {},
   "outputs": [
    {
     "data": {
      "text/html": [
       "<div>\n",
       "<style scoped>\n",
       "    .dataframe tbody tr th:only-of-type {\n",
       "        vertical-align: middle;\n",
       "    }\n",
       "\n",
       "    .dataframe tbody tr th {\n",
       "        vertical-align: top;\n",
       "    }\n",
       "\n",
       "    .dataframe thead th {\n",
       "        text-align: right;\n",
       "    }\n",
       "</style>\n",
       "<table border=\"1\" class=\"dataframe\">\n",
       "  <thead>\n",
       "    <tr style=\"text-align: right;\">\n",
       "      <th></th>\n",
       "      <th>Apples</th>\n",
       "      <th>Bananas</th>\n",
       "    </tr>\n",
       "  </thead>\n",
       "  <tbody>\n",
       "    <tr>\n",
       "      <th>0</th>\n",
       "      <td>30</td>\n",
       "      <td>21</td>\n",
       "    </tr>\n",
       "  </tbody>\n",
       "</table>\n",
       "</div>"
      ],
      "text/plain": [
       "   Apples  Bananas\n",
       "0      30       21"
      ]
     },
     "execution_count": 3,
     "metadata": {},
     "output_type": "execute_result"
    }
   ],
   "source": [
    "import pandas as pd\n",
    "\n",
    "# fruits = pd.Series({\n",
    "#     'Apples': 30,\n",
    "#     'Bananas': 21\n",
    "# })\n",
    "\n",
    "fruits = pd.DataFrame({\n",
    "    'Apples': [30],\n",
    "    'Bananas': [21]\n",
    "})\n",
    "\n",
    "fruits"
   ]
  },
  {
   "cell_type": "code",
   "execution_count": 127,
   "id": "0db69c92-5a70-44da-a02f-c7836af02cae",
   "metadata": {},
   "outputs": [
    {
     "data": {
      "text/html": [
       "<div>\n",
       "<style scoped>\n",
       "    .dataframe tbody tr th:only-of-type {\n",
       "        vertical-align: middle;\n",
       "    }\n",
       "\n",
       "    .dataframe tbody tr th {\n",
       "        vertical-align: top;\n",
       "    }\n",
       "\n",
       "    .dataframe thead th {\n",
       "        text-align: right;\n",
       "    }\n",
       "</style>\n",
       "<table border=\"1\" class=\"dataframe\">\n",
       "  <thead>\n",
       "    <tr style=\"text-align: right;\">\n",
       "      <th></th>\n",
       "      <th>Apples</th>\n",
       "      <th>Bananas</th>\n",
       "    </tr>\n",
       "  </thead>\n",
       "  <tbody>\n",
       "    <tr>\n",
       "      <th>2017 Sales</th>\n",
       "      <td>35</td>\n",
       "      <td>41</td>\n",
       "    </tr>\n",
       "    <tr>\n",
       "      <th>2018 Sales</th>\n",
       "      <td>21</td>\n",
       "      <td>34</td>\n",
       "    </tr>\n",
       "  </tbody>\n",
       "</table>\n",
       "</div>"
      ],
      "text/plain": [
       "            Apples  Bananas\n",
       "2017 Sales      35       41\n",
       "2018 Sales      21       34"
      ]
     },
     "execution_count": 127,
     "metadata": {},
     "output_type": "execute_result"
    }
   ],
   "source": [
    "import pandas as pd\n",
    "\n",
    "data = {\n",
    "    'Apples': [35, 21],\n",
    "    'Bananas': [41, 34],\n",
    "}\n",
    "\n",
    "fruits = pd.DataFrame(data, index = ['2017 Sales', '2018 Sales'])\n",
    "fruits"
   ]
  },
  {
   "cell_type": "code",
   "execution_count": 129,
   "id": "454391b9-25a8-4b67-9728-745ad02fef62",
   "metadata": {},
   "outputs": [],
   "source": [
    "animals = pd.DataFrame(\n",
    "    {'Cows': [12, 20], 'Goats': [22, 19]}, \n",
    "    index=['Year 1', 'Year 2']\n",
    ")\n",
    "animals\n",
    "\n",
    "animals.to_csv('source/cows and goats.csv')"
   ]
  },
  {
   "cell_type": "code",
   "execution_count": 131,
   "id": "2f5edcea-8f5a-480b-93b6-b6202e69779d",
   "metadata": {},
   "outputs": [
    {
     "data": {
      "text/html": [
       "<div>\n",
       "<style scoped>\n",
       "    .dataframe tbody tr th:only-of-type {\n",
       "        vertical-align: middle;\n",
       "    }\n",
       "\n",
       "    .dataframe tbody tr th {\n",
       "        vertical-align: top;\n",
       "    }\n",
       "\n",
       "    .dataframe thead th {\n",
       "        text-align: right;\n",
       "    }\n",
       "</style>\n",
       "<table border=\"1\" class=\"dataframe\">\n",
       "  <thead>\n",
       "    <tr style=\"text-align: right;\">\n",
       "      <th></th>\n",
       "      <th>Cows</th>\n",
       "      <th>Goats</th>\n",
       "    </tr>\n",
       "  </thead>\n",
       "  <tbody>\n",
       "    <tr>\n",
       "      <th>Year 1</th>\n",
       "      <td>12</td>\n",
       "      <td>22</td>\n",
       "    </tr>\n",
       "    <tr>\n",
       "      <th>Year 2</th>\n",
       "      <td>20</td>\n",
       "      <td>19</td>\n",
       "    </tr>\n",
       "  </tbody>\n",
       "</table>\n",
       "</div>"
      ],
      "text/plain": [
       "        Cows  Goats\n",
       "Year 1    12     22\n",
       "Year 2    20     19"
      ]
     },
     "execution_count": 131,
     "metadata": {},
     "output_type": "execute_result"
    }
   ],
   "source": [
    "import pandas as pd\n",
    "\n",
    "animals = pd.read_csv(\"source/cows and goats.csv\", index_col = 0)\n",
    "animals"
   ]
  },
  {
   "cell_type": "code",
   "execution_count": 209,
   "id": "dad46534-106c-431d-8207-3272f14d668d",
   "metadata": {},
   "outputs": [
    {
     "name": "stdout",
     "output_type": "stream",
     "text": [
      "     아이디   이름 성별\n",
      "0  code1   제리  남\n",
      "1  code4   루나  여\n",
      "2  code2    존   \n",
      "3  code6  리차드  남\n",
      "0    False\n",
      "1     True\n",
      "2    False\n",
      "3    False\n",
      "Name: 성별, dtype: bool\n",
      "     아이디  이름 성별\n",
      "1  code4  루나  여\n",
      "존\n",
      "존\n",
      "0     제리\n",
      "1     루나\n",
      "2      존\n",
      "3    리차드\n",
      "Name: 이름, dtype: object\n",
      "0     제리\n",
      "1     루나\n",
      "2      존\n",
      "3    리차드\n",
      "Name: 이름, dtype: object\n"
     ]
    }
   ],
   "source": [
    "import pandas as pd\n",
    "\n",
    "member = pd.DataFrame({\n",
    "    '아이디': ['code1', 'code4', 'code2', 'code6'],\n",
    "    '이름': ['제리', '루나', '존', '리차드'],\n",
    "    '성별': ['남', '여', '', '남'],\n",
    "})\n",
    "print(member)\n",
    "# print(member['성별'])\n",
    "print(member['성별']=='여')\n",
    "print(member[member['성별']=='여'])  # 성별을 '여'로 저장\n",
    "print(member.loc[2, '이름'])  # 존\n",
    "print(member.iloc[2, 1])      # 존\n",
    "print(member.loc[0:3, '이름'])  # 마지막 인덱스(3) 포함\n",
    "print(member.iloc[0:4, 1])      # 마지막 인덱스(4) 포함되지 않음"
   ]
  },
  {
   "cell_type": "code",
   "execution_count": 201,
   "id": "39f3b9c9-a572-4e2a-ad4a-12b7a0f610d6",
   "metadata": {},
   "outputs": [
    {
     "name": "stdout",
     "output_type": "stream",
     "text": [
      "        이름 성별\n",
      "아이디          \n",
      "code1   제리  남\n",
      "code4   루나  여\n",
      "code2    존   \n",
      "code6  리차드  남\n",
      "존\n",
      "존\n",
      "아이디\n",
      "code1     제리\n",
      "code4     루나\n",
      "code2      존\n",
      "code6    리차드\n",
      "Name: 이름, dtype: object\n"
     ]
    }
   ],
   "source": [
    "import pandas as pd\n",
    "\n",
    "member = pd.DataFrame({\n",
    "    '아이디': ['code1', 'code4', 'code2', 'code6'],\n",
    "    '이름': ['제리', '루나', '존', '리차드'],\n",
    "    '성별': ['남', '여', '', '남'],\n",
    "})\n",
    "member = member.set_index('아이디')\n",
    "print(member)\n",
    "print(member.loc['code2', '이름'])\n",
    "print(member.iloc[2, 0])"
   ]
  },
  {
   "cell_type": "code",
   "execution_count": null,
   "id": "6e7fa180-a37d-42b8-bfb5-dcde81dac179",
   "metadata": {},
   "outputs": [],
   "source": []
  }
 ],
 "metadata": {
  "kernelspec": {
   "display_name": "Python 3 (ipykernel)",
   "language": "python",
   "name": "python3"
  },
  "language_info": {
   "codemirror_mode": {
    "name": "ipython",
    "version": 3
   },
   "file_extension": ".py",
   "mimetype": "text/x-python",
   "name": "python",
   "nbconvert_exporter": "python",
   "pygments_lexer": "ipython3",
   "version": "3.12.4"
  }
 },
 "nbformat": 4,
 "nbformat_minor": 5
}

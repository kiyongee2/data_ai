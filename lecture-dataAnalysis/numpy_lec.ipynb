{
 "cells": [
  {
   "cell_type": "code",
   "execution_count": 1,
   "metadata": {
    "scrolled": true
   },
   "outputs": [
    {
     "name": "stdout",
     "output_type": "stream",
     "text": [
      "[3 1 2]\n"
     ]
    },
    {
     "data": {
      "text/plain": [
       "numpy.ndarray"
      ]
     },
     "execution_count": 1,
     "metadata": {},
     "output_type": "execute_result"
    }
   ],
   "source": [
    "import numpy as np #numpy 라이브러리 import\n",
    "x = np.array([3, 1, 2]) #np.array : ndarray 타입의 배열 생성\n",
    "print(x) # x 성분 출력\n",
    "type(x) # x의 type 확인"
   ]
  },
  {
   "cell_type": "code",
   "execution_count": 11,
   "metadata": {},
   "outputs": [
    {
     "name": "stdout",
     "output_type": "stream",
     "text": [
      "1\n",
      "(3,)\n"
     ]
    }
   ],
   "source": [
    "print(x.ndim)\n",
    "print(x.shape)"
   ]
  },
  {
   "cell_type": "code",
   "execution_count": 12,
   "metadata": {},
   "outputs": [
    {
     "name": "stdout",
     "output_type": "stream",
     "text": [
      "[6 5 7]\n",
      "[ 0 -3 -3]\n",
      "[ 9  4 10]\n",
      "[1.   0.25 0.4 ]\n"
     ]
    }
   ],
   "source": [
    "y = np.array([3, 4, 5])\n",
    "\n",
    "print(x+y)\n",
    "print(x-y)\n",
    "print(x*y)\n",
    "print(x/y)"
   ]
  },
  {
   "cell_type": "code",
   "execution_count": 28,
   "metadata": {},
   "outputs": [
    {
     "name": "stdout",
     "output_type": "stream",
     "text": [
      "[[0. 0.]\n",
      " [0. 0.]]\n",
      "[[1. 1. 1.]\n",
      " [1. 1. 1.]]\n",
      "[[5 5 5]\n",
      " [5 5 5]]\n",
      "[[1. 0. 0.]\n",
      " [0. 1. 0.]\n",
      " [0. 0. 1.]]\n"
     ]
    }
   ],
   "source": [
    "print(np.zeros((2,2)))  # 영행렬 생성\n",
    "print(np.ones((2,3)))  # 유닛행렬\n",
    "print(np.full((2,3), 5)) # 모든 원소가 5인 2*3행렬\n",
    "print(np.eye(3)) # 단위행렬"
   ]
  },
  {
   "cell_type": "code",
   "execution_count": 8,
   "metadata": {},
   "outputs": [
    {
     "name": "stdout",
     "output_type": "stream",
     "text": [
      "[1, 2, 'a', 'b']\n",
      "['1' '2' 'a' 'b']\n"
     ]
    }
   ],
   "source": [
    "# list와 ndarray의 차이점\n",
    "# 1. list는 원소로 여러가지 자료형을 허용하고, ndarray는 한가지 자료형만 허용한다.\n",
    "\n",
    "a = [1, 2, 'a', 'b'] # 1, 2는 숫자형, 'a', 'b'는 문자열\n",
    "b = np.array([1, 2, 'a', 'b']) # '1', '2', 'a', 'b'의 문자열로 전환\n",
    "print(a)\n",
    "print(b)"
   ]
  },
  {
   "cell_type": "code",
   "execution_count": 9,
   "metadata": {},
   "outputs": [
    {
     "name": "stdout",
     "output_type": "stream",
     "text": [
      "[1, 2, 'a', 'b']\n",
      "['1' '2' 'a' 'b']\n"
     ]
    }
   ],
   "source": [
    "a = [1, 2, 'a', 'b'] \n",
    "b = np.array([1, 2, 'a', 'b'])\n",
    "print(a)\n",
    "print(b)"
   ]
  },
  {
   "cell_type": "code",
   "execution_count": 16,
   "metadata": {},
   "outputs": [
    {
     "name": "stderr",
     "output_type": "stream",
     "text": [
      "C:\\Users\\Lily\\AppData\\Local\\Temp\\ipykernel_37604\\2524811967.py:6: VisibleDeprecationWarning: Creating an ndarray from ragged nested sequences (which is a list-or-tuple of lists-or-tuples-or ndarrays with different lengths or shapes) is deprecated. If you meant to do this, you must specify 'dtype=object' when creating the ndarray.\n",
      "  d = np.array([[1], [2, 3], [4, 5, 6]])\n"
     ]
    }
   ],
   "source": [
    "# list와 ndarray의 차이점\n",
    "# 2. list는 내부 배열의 원소의 개수가 달라도 되고, \n",
    "# ndarray는 내부 배열의 원소가 같아야 한다.\n",
    "\n",
    "c = [[1], [2, 3], [4, 5, 6]] \n",
    "d = np.array([[1], [2, 3], [4, 5, 6]])"
   ]
  },
  {
   "cell_type": "code",
   "execution_count": 19,
   "metadata": {},
   "outputs": [
    {
     "name": "stdout",
     "output_type": "stream",
     "text": [
      "[[1 2]\n",
      " [3 4]\n",
      " [5 6]]\n"
     ]
    }
   ],
   "source": [
    "e = np.array([[1, 2], [3, 4], [5, 6]])\n",
    "print(e)"
   ]
  },
  {
   "cell_type": "code",
   "execution_count": 20,
   "metadata": {},
   "outputs": [
    {
     "name": "stdout",
     "output_type": "stream",
     "text": [
      "[[1], [2, 3], [4, 5, 6]]\n"
     ]
    }
   ],
   "source": [
    "print(c)"
   ]
  },
  {
   "cell_type": "code",
   "execution_count": 22,
   "metadata": {},
   "outputs": [
    {
     "data": {
      "text/plain": [
       "[1, 3, 5, 2, 4, 6]"
      ]
     },
     "execution_count": 22,
     "metadata": {},
     "output_type": "execute_result"
    }
   ],
   "source": [
    "list1 = [1, 3, 5]\n",
    "list2 = [2, 4, 6]\n",
    "list1 + list2"
   ]
  },
  {
   "cell_type": "code",
   "execution_count": 10,
   "metadata": {},
   "outputs": [
    {
     "name": "stdout",
     "output_type": "stream",
     "text": [
      "[1, 3, 5, 2, 4, 6]\n",
      "[1, 3, 5, 1, 3, 5, 1, 3, 5]\n"
     ]
    }
   ],
   "source": [
    "list1 = [1, 3, 5]\n",
    "list2 = [2, 4, 6]\n",
    "print(list1 + list2)\n",
    "print(list1 * 3)\n",
    "# print(list1 + 3) #불가\n",
    "# list1 - list2  #불가\n",
    "# list1 * list2  #불가\n",
    "# list1 / list2  #불가"
   ]
  },
  {
   "cell_type": "code",
   "execution_count": 20,
   "metadata": {},
   "outputs": [
    {
     "name": "stdout",
     "output_type": "stream",
     "text": [
      "[ 3  7 11]\n",
      "[-1 -1 -1]\n",
      "[ 2 12 30]\n",
      "[0.5        0.75       0.83333333]\n",
      "-------------------------\n",
      "[4 6 8]\n",
      "[-2  0  2]\n",
      "[ 3  9 15]\n",
      "[0.33333333 1.         1.66666667]\n"
     ]
    }
   ],
   "source": [
    "ndarray1 = np.array([1, 3, 5])\n",
    "ndarray2 = np.array([2, 4, 6])\n",
    "print(ndarray1 + ndarray2)\n",
    "print(ndarray1 - ndarray2)\n",
    "print(ndarray1 * ndarray2)\n",
    "print(ndarray1 / ndarray2)\n",
    "print(\"-------------------------\")\n",
    "print(ndarray1 + 3)\n",
    "print(ndarray1 - 3)\n",
    "print(ndarray1 * 3)\n",
    "print(ndarray1 / 3)"
   ]
  },
  {
   "cell_type": "code",
   "execution_count": 21,
   "metadata": {},
   "outputs": [
    {
     "name": "stdout",
     "output_type": "stream",
     "text": [
      "[1, 3, 5, 2, 4]\n"
     ]
    }
   ],
   "source": [
    "list3 = [1, 3, 5]\n",
    "list4 = [2, 4]\n",
    "print(list3 + list4)"
   ]
  },
  {
   "cell_type": "code",
   "execution_count": 22,
   "metadata": {},
   "outputs": [],
   "source": [
    "ndarray3 = np.array([1, 3, 5])\n",
    "ndarray4 = np.array([2, 4])\n",
    "# print(ndarray3 + ndarray4) # 오류 발생"
   ]
  },
  {
   "cell_type": "code",
   "execution_count": 24,
   "metadata": {},
   "outputs": [
    {
     "data": {
      "text/plain": [
       "(3,)"
      ]
     },
     "execution_count": 24,
     "metadata": {},
     "output_type": "execute_result"
    }
   ],
   "source": [
    "ndarray3.shape"
   ]
  },
  {
   "cell_type": "code",
   "execution_count": 27,
   "metadata": {},
   "outputs": [
    {
     "data": {
      "text/plain": [
       "(2, 3)"
      ]
     },
     "execution_count": 27,
     "metadata": {},
     "output_type": "execute_result"
    }
   ],
   "source": [
    "ndarray5 = np.array([[1, 2, 3], [4, 5, 6]])\n",
    "ndarray5.shape"
   ]
  },
  {
   "cell_type": "code",
   "execution_count": 29,
   "metadata": {},
   "outputs": [],
   "source": [
    "######################### numpy 관련 속성 및 메소드 ##########################"
   ]
  },
  {
   "cell_type": "code",
   "execution_count": 31,
   "metadata": {},
   "outputs": [
    {
     "data": {
      "text/plain": [
       "2"
      ]
     },
     "execution_count": 31,
     "metadata": {},
     "output_type": "execute_result"
    }
   ],
   "source": [
    "ndarray6 = np.array([[1, 2, 3], [4, 5, 6]])\n",
    "ndarray6.ndim"
   ]
  },
  {
   "cell_type": "code",
   "execution_count": 33,
   "metadata": {},
   "outputs": [
    {
     "data": {
      "text/plain": [
       "(2, 3)"
      ]
     },
     "execution_count": 33,
     "metadata": {},
     "output_type": "execute_result"
    }
   ],
   "source": [
    "ndarray6.shape"
   ]
  },
  {
   "cell_type": "code",
   "execution_count": null,
   "metadata": {},
   "outputs": [],
   "source": [
    "###### numpy dot 메소드 ######"
   ]
  },
  {
   "cell_type": "code",
   "execution_count": 47,
   "metadata": {},
   "outputs": [
    {
     "data": {
      "text/plain": [
       "8"
      ]
     },
     "execution_count": 47,
     "metadata": {},
     "output_type": "execute_result"
    }
   ],
   "source": [
    "np.dot(4, 2)"
   ]
  },
  {
   "cell_type": "code",
   "execution_count": 38,
   "metadata": {},
   "outputs": [
    {
     "name": "stdout",
     "output_type": "stream",
     "text": [
      "32\n",
      "32\n"
     ]
    }
   ],
   "source": [
    "ndar1 = np.array([1, 2, 3])\n",
    "ndar2 = np.array([4, 5, 6])\n",
    "print(np.dot(ndar1, ndar2)) # 32\n",
    "print(np.dot(ndar1, ndar2.T)) # 32"
   ]
  },
  {
   "cell_type": "code",
   "execution_count": 43,
   "metadata": {},
   "outputs": [
    {
     "name": "stdout",
     "output_type": "stream",
     "text": [
      "[[ 7 10]\n",
      " [15 22]]\n"
     ]
    }
   ],
   "source": [
    "ndar1 = np.array([[1, 2], [3, 4]])\n",
    "ndar2 = np.array([[1, 2], [3, 4]])\n",
    "print(np.dot(ndar1, ndar2)) "
   ]
  },
  {
   "cell_type": "code",
   "execution_count": 48,
   "metadata": {},
   "outputs": [],
   "source": [
    "###### numpy matmul 메소드 ######"
   ]
  },
  {
   "cell_type": "code",
   "execution_count": 49,
   "metadata": {},
   "outputs": [
    {
     "name": "stdout",
     "output_type": "stream",
     "text": [
      "[[ 7 10]\n",
      " [15 22]]\n"
     ]
    }
   ],
   "source": [
    "ndar1 = np.array([[1, 2], [3, 4]])\n",
    "ndar2 = np.array([[1, 2], [3, 4]])\n",
    "print(np.matmul(ndar1, ndar2)) "
   ]
  },
  {
   "cell_type": "code",
   "execution_count": 52,
   "metadata": {},
   "outputs": [
    {
     "name": "stdout",
     "output_type": "stream",
     "text": [
      "[[28 10]\n",
      " [73 28]]\n"
     ]
    }
   ],
   "source": [
    "ndar1 = np.array([[1, 2, 3], [4, 5, 6]])\n",
    "ndar2 = np.array([[6, 3], [5, 2], [4, 1]])\n",
    "print(np.matmul(ndar1, ndar2)) "
   ]
  },
  {
   "cell_type": "code",
   "execution_count": 55,
   "metadata": {},
   "outputs": [
    {
     "name": "stdout",
     "output_type": "stream",
     "text": [
      "[28 10]\n"
     ]
    }
   ],
   "source": [
    "ndar1 = np.array([1, 2, 3])\n",
    "ndar2 = np.array([[6, 3], [5, 2], [4, 1]])\n",
    "print(np.matmul(ndar1, ndar2)) "
   ]
  },
  {
   "cell_type": "code",
   "execution_count": 56,
   "metadata": {},
   "outputs": [
    {
     "name": "stdout",
     "output_type": "stream",
     "text": [
      "[[0. 0.]\n",
      " [0. 0.]]\n"
     ]
    }
   ],
   "source": [
    "print(np.zeros((2,2)))  # 영행렬 생성"
   ]
  },
  {
   "cell_type": "code",
   "execution_count": 57,
   "metadata": {},
   "outputs": [
    {
     "name": "stdout",
     "output_type": "stream",
     "text": [
      "[[1. 1. 1.]\n",
      " [1. 1. 1.]]\n"
     ]
    }
   ],
   "source": [
    "print(np.ones((2,3)))  # 유닛행렬"
   ]
  },
  {
   "cell_type": "code",
   "execution_count": 58,
   "metadata": {},
   "outputs": [
    {
     "name": "stdout",
     "output_type": "stream",
     "text": [
      "[[5 5 5]\n",
      " [5 5 5]]\n"
     ]
    }
   ],
   "source": [
    "print(np.full((2,3), 5)) # 모든 원소가 5인 2*3행렬"
   ]
  },
  {
   "cell_type": "code",
   "execution_count": 59,
   "metadata": {},
   "outputs": [
    {
     "name": "stdout",
     "output_type": "stream",
     "text": [
      "[[1. 0. 0.]\n",
      " [0. 1. 0.]\n",
      " [0. 0. 1.]]\n"
     ]
    }
   ],
   "source": [
    "print(np.eye(3)) # 단위행렬"
   ]
  },
  {
   "cell_type": "code",
   "execution_count": 3,
   "metadata": {},
   "outputs": [
    {
     "data": {
      "text/plain": [
       "array([6, 3, 5, 2, 4, 1])"
      ]
     },
     "execution_count": 3,
     "metadata": {},
     "output_type": "execute_result"
    }
   ],
   "source": [
    "ndarr = np.array([[6, 3], [5, 2], [4, 1]])\n",
    "ndarr.flatten()"
   ]
  },
  {
   "cell_type": "code",
   "execution_count": 7,
   "metadata": {
    "scrolled": true
   },
   "outputs": [
    {
     "name": "stdout",
     "output_type": "stream",
     "text": [
      "(3, 2)\n"
     ]
    },
    {
     "data": {
      "text/plain": [
       "array([[6, 3, 5],\n",
       "       [2, 4, 1]])"
      ]
     },
     "execution_count": 7,
     "metadata": {},
     "output_type": "execute_result"
    }
   ],
   "source": [
    "print(ndarr.shape)\n",
    "ndarr.reshape(2,3)"
   ]
  },
  {
   "cell_type": "code",
   "execution_count": 72,
   "metadata": {},
   "outputs": [
    {
     "name": "stdout",
     "output_type": "stream",
     "text": [
      "참\n",
      "거짓\n",
      "참\n",
      "거짓\n",
      "거짓\n",
      "거짓\n"
     ]
    }
   ],
   "source": [
    "ndarr = np.array([[6, 3], [5, 2], [4, 1]])\n",
    "ndarr_cond = ndarr > 4\n",
    "\n",
    "for i in ndarr_cond.flatten():\n",
    "    if(i): \n",
    "        print(\"참\")\n",
    "    else: \n",
    "        print(\"거짓\")"
   ]
  },
  {
   "cell_type": "code",
   "execution_count": 3,
   "metadata": {},
   "outputs": [
    {
     "name": "stdout",
     "output_type": "stream",
     "text": [
      "[0 1 2 3 4]\n",
      "[5 6 7 8 9]\n",
      "[5 7 9]\n"
     ]
    }
   ],
   "source": [
    "print(np.arange(5))\n",
    "\n",
    "print(np.arange(5,10))\n",
    "\n",
    "print(np.arange(5,10,2))"
   ]
  },
  {
   "cell_type": "code",
   "execution_count": 8,
   "metadata": {},
   "outputs": [
    {
     "data": {
      "text/plain": [
       "2"
      ]
     },
     "execution_count": 8,
     "metadata": {},
     "output_type": "execute_result"
    }
   ],
   "source": [
    "np.random.randint(5) # 0 ~ 5까지의 난수 "
   ]
  },
  {
   "cell_type": "code",
   "execution_count": 9,
   "metadata": {},
   "outputs": [
    {
     "data": {
      "text/plain": [
       "6"
      ]
     },
     "execution_count": 9,
     "metadata": {},
     "output_type": "execute_result"
    }
   ],
   "source": [
    "np.random.randint(5, 10) # 5 ~ 9까지의 난수"
   ]
  },
  {
   "cell_type": "code",
   "execution_count": 27,
   "metadata": {
    "scrolled": true
   },
   "outputs": [
    {
     "data": {
      "text/plain": [
       "array([[2, 0, 1, 4],\n",
       "       [0, 4, 3, 3]])"
      ]
     },
     "execution_count": 27,
     "metadata": {},
     "output_type": "execute_result"
    }
   ],
   "source": [
    "np.random.randint(5, size=(2, 4))"
   ]
  },
  {
   "cell_type": "code",
   "execution_count": 28,
   "metadata": {},
   "outputs": [
    {
     "data": {
      "text/plain": [
       "array([0.77509011, 0.07569747, 0.48841539, 0.31223455, 0.98396833])"
      ]
     },
     "execution_count": 28,
     "metadata": {},
     "output_type": "execute_result"
    }
   ],
   "source": [
    "np.random.rand(5)"
   ]
  },
  {
   "cell_type": "code",
   "execution_count": 30,
   "metadata": {
    "scrolled": true
   },
   "outputs": [
    {
     "data": {
      "text/plain": [
       "array([[0.28425002, 0.7815078 , 0.72229649],\n",
       "       [0.6389221 , 0.09813303, 0.45452018]])"
      ]
     },
     "execution_count": 30,
     "metadata": {},
     "output_type": "execute_result"
    }
   ],
   "source": [
    "np.random.rand(2,3)"
   ]
  },
  {
   "cell_type": "code",
   "execution_count": 33,
   "metadata": {},
   "outputs": [
    {
     "data": {
      "text/plain": [
       "array([[ True, False],\n",
       "       [ True, False],\n",
       "       [False, False]])"
      ]
     },
     "execution_count": 33,
     "metadata": {},
     "output_type": "execute_result"
    }
   ],
   "source": [
    "ndarr = np.array([[6, 3], [5, 2], [4, 1]])\n",
    "ndarr > 4"
   ]
  },
  {
   "cell_type": "code",
   "execution_count": 39,
   "metadata": {},
   "outputs": [
    {
     "data": {
      "text/plain": [
       "array([6, 5])"
      ]
     },
     "execution_count": 39,
     "metadata": {},
     "output_type": "execute_result"
    }
   ],
   "source": [
    "ndarr = np.array([[6, 3], [5, 2], [4, 1]])\n",
    "ndarr[ndarr > 4]"
   ]
  },
  {
   "cell_type": "code",
   "execution_count": 44,
   "metadata": {},
   "outputs": [
    {
     "name": "stdout",
     "output_type": "stream",
     "text": [
      "11번 :  [[ 7 44 42  3 37 29]\n",
      " [46 26 16 27 40 27]\n",
      " [36 28 31  8  2  8]\n",
      " [12  1 14 34  6 30]\n",
      " [ 2 15 32 43 31 33]]\n",
      "짝수만 출력 :  [44 42 46 26 16 40 36 28  8  2  8 12 14 34  6 30  2 32]\n"
     ]
    }
   ],
   "source": [
    "# 11 1부터 50까지의 난수로 된 5x6 배열을 만들고, 배열에서 짝수만 선택하여 출력하는 코드를 작성하세요.\n",
    "ndarr = np.random.randint(1, 51, size=(5, 6))\n",
    "print(\"11번 : \", ndarr)\n",
    "print(\"짝수만 출력 : \", ndarr[ndarr%2 ==0])"
   ]
  }
 ],
 "metadata": {
  "kernelspec": {
   "display_name": "Python 3 (ipykernel)",
   "language": "python",
   "name": "python3"
  },
  "language_info": {
   "codemirror_mode": {
    "name": "ipython",
    "version": 3
   },
   "file_extension": ".py",
   "mimetype": "text/x-python",
   "name": "python",
   "nbconvert_exporter": "python",
   "pygments_lexer": "ipython3",
   "version": "3.9.13"
  }
 },
 "nbformat": 4,
 "nbformat_minor": 2
}

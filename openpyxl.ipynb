{
 "cells": [
  {
   "cell_type": "code",
   "execution_count": 1,
   "metadata": {
    "executionInfo": {
     "elapsed": 2,
     "status": "ok",
     "timestamp": 1689733791731,
     "user": {
      "displayName": "spreatics jcastle",
      "userId": "01723480649760149037"
     },
     "user_tz": -540
    },
    "id": "N1y5KexQ-xli"
   },
   "outputs": [],
   "source": [
    "import openpyxl"
   ]
  },
  {
   "cell_type": "code",
   "execution_count": 3,
   "metadata": {
    "executionInfo": {
     "elapsed": 2,
     "status": "ok",
     "timestamp": 1689733891560,
     "user": {
      "displayName": "spreatics jcastle",
      "userId": "01723480649760149037"
     },
     "user_tz": -540
    },
    "id": "-D-0qh2A-1Rf"
   },
   "outputs": [],
   "source": [
    "wb = openpyxl.Workbook()\n",
    "\n",
    "ws = wb.create_sheet('codingon')\n",
    "\n",
    "ws['A1'] = '이름'\n",
    "ws['B1'] = '영어이름'\n",
    "\n",
    "ws['A2'] = '김세령'\n",
    "ws['B2'] = 'sarah'\n",
    "\n",
    "wb.save('./codingon.xlsx')"
   ]
  },
  {
   "cell_type": "code",
   "execution_count": 5,
   "metadata": {
    "executionInfo": {
     "elapsed": 252,
     "status": "ok",
     "timestamp": 1689734001740,
     "user": {
      "displayName": "spreatics jcastle",
      "userId": "01723480649760149037"
     },
     "user_tz": -540
    },
    "id": "mdkEYuYw_L75"
   },
   "outputs": [],
   "source": [
    "wb = openpyxl.load_workbook(r'./codingon.xlsx')\n",
    "\n",
    "ws = wb['codingon']\n",
    "\n",
    "ws['A3'] = '김소연'\n",
    "ws['B3'] = 'lily'\n",
    "\n",
    "wb.save('./codingon.xlsx')"
   ]
  },
  {
   "cell_type": "code",
   "execution_count": null,
   "metadata": {
    "id": "NbfE2ptF_rDM"
   },
   "outputs": [],
   "source": []
  }
 ],
 "metadata": {
  "colab": {
   "authorship_tag": "ABX9TyNddBYb0IyVfPxx4pnFxga+",
   "provenance": []
  },
  "kernelspec": {
   "display_name": "Python 3 (ipykernel)",
   "language": "python",
   "name": "python3"
  },
  "language_info": {
   "codemirror_mode": {
    "name": "ipython",
    "version": 3
   },
   "file_extension": ".py",
   "mimetype": "text/x-python",
   "name": "python",
   "nbconvert_exporter": "python",
   "pygments_lexer": "ipython3",
   "version": "3.12.4"
  }
 },
 "nbformat": 4,
 "nbformat_minor": 4
}

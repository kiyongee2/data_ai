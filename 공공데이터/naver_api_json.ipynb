{
 "cells": [
  {
   "cell_type": "code",
   "execution_count": 7,
   "metadata": {},
   "outputs": [
    {
     "name": "stdout",
     "output_type": "stream",
     "text": [
      "<Response [200]>\n",
      "b'{\\n  \"userId\": 1,\\n  \"id\": 1,\\n  \"title\": \"delectus aut autem\",\\n  \"completed\": false\\n}'\n",
      "<class 'bytes'>\n"
     ]
    }
   ],
   "source": [
    "import requests\n",
    "import json\n",
    "\n",
    "url = \"https://jsonplaceholder.typicode.com/todos/1\"\n",
    "\n",
    "# response = requests.request(\"GET\", url)\n",
    "response = requests.get(url)\n",
    "print(response)\n",
    "\n",
    "data = response.content\n",
    "print(data) \n",
    "print(type(data)) #문자열로 출력"
   ]
  },
  {
   "cell_type": "code",
   "execution_count": 11,
   "metadata": {},
   "outputs": [
    {
     "name": "stdout",
     "output_type": "stream",
     "text": [
      "<class 'dict'>\n",
      "1\n",
      "delectus aut autem\n",
      "['apple', {'cart': 'coffee'}]\n",
      "<class 'list'>\n"
     ]
    }
   ],
   "source": [
    "# json 타입으로 가져오기\n",
    "data_json = json.loads(response.content)\n",
    "# print(data_json)\n",
    "# 딕셔너리 형태가 되어야 프로그래밍이 가능함\n",
    "print(type(data_json))\n",
    "\n",
    "print(data_json['userId'])\n",
    "print(data_json['title'])\n",
    "\n",
    "# 문자열\n",
    "# print(type('[\"apple\", {\"cart\": \"coffee\"}]'))\n",
    "\n",
    "# 딕셔너리\n",
    "test = json.loads('[\"apple\", {\"cart\": \"coffee\"}]')\n",
    "print(test)\n",
    "print(type(test))"
   ]
  }
 ],
 "metadata": {
  "kernelspec": {
   "display_name": "Python 3 (ipykernel)",
   "language": "python",
   "name": "python3"
  },
  "language_info": {
   "codemirror_mode": {
    "name": "ipython",
    "version": 3
   },
   "file_extension": ".py",
   "mimetype": "text/x-python",
   "name": "python",
   "nbconvert_exporter": "python",
   "pygments_lexer": "ipython3",
   "version": "3.12.4"
  }
 },
 "nbformat": 4,
 "nbformat_minor": 4
}

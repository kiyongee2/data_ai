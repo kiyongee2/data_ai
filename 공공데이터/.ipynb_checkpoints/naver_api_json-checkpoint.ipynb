{
 "cells": [
  {
   "cell_type": "code",
   "execution_count": 13,
   "metadata": {},
   "outputs": [
    {
     "name": "stdout",
     "output_type": "stream",
     "text": [
      "{'userId': 1, 'id': 1, 'title': 'delectus aut autem', 'completed': False}\n",
      "<class 'dict'>\n",
      "<class 'str'>\n",
      "['apple', {'cart': 'coffee'}]\n",
      "<class 'list'>\n"
     ]
    }
   ],
   "source": [
    "import requests\n",
    "import json\n",
    "\n",
    "url = \"https://jsonplaceholder.typicode.com/todos/1\"\n",
    "\n",
    "response = requests.request(\"GET\", url, headers={}, data={})\n",
    "# print(response)\n",
    "\n",
    "# data = response.content\n",
    "# print(data) #문자열로 출력\n",
    "# print(type(data))\n",
    "\n",
    "data_json = json.loads(response.content)\n",
    "print(data_json)\n",
    "# 딕셔너리 형태가 되어야 프로그래밍이 가능함\n",
    "print(type(data_json))\n",
    "\n",
    "data_json['userId']\n",
    "data_json['title']\n",
    "\n",
    "# 문자열\n",
    "print(type('[\"apple\", {\"cart\": \"coffee\"}]'))\n",
    "\n",
    "# 딕셔너리\n",
    "test = json.loads('[\"apple\", {\"cart\": \"coffee\"}]')\n",
    "print(test)\n",
    "print(type(test))"
   ]
  },
  {
   "cell_type": "code",
   "execution_count": 15,
   "metadata": {},
   "outputs": [
    {
     "name": "stdout",
     "output_type": "stream",
     "text": [
      "Note: you may need to restart the kernel to use updated packages.\n"
     ]
    },
    {
     "name": "stderr",
     "output_type": "stream",
     "text": [
      "WARNING: Package(s) not found: plotnine\n"
     ]
    }
   ],
   "source": [
    "pip show plotnine"
   ]
  }
 ],
 "metadata": {
  "kernelspec": {
   "display_name": "Python 3",
   "language": "python",
   "name": "python3"
  },
  "language_info": {
   "codemirror_mode": {
    "name": "ipython",
    "version": 3
   },
   "file_extension": ".py",
   "mimetype": "text/x-python",
   "name": "python",
   "nbconvert_exporter": "python",
   "pygments_lexer": "ipython3",
   "version": "3.12.1"
  }
 },
 "nbformat": 4,
 "nbformat_minor": 2
}

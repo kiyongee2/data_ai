{
 "cells": [
  {
   "cell_type": "code",
   "execution_count": 6,
   "id": "7995e7bb",
   "metadata": {},
   "outputs": [
    {
     "name": "stdout",
     "output_type": "stream",
     "text": [
      "200\n",
      "<class 'http.client.HTTPResponse'>\n"
     ]
    },
    {
     "data": {
      "text/plain": [
       "'{\\n\\t\"lastBuildDate\":\"Fri, 23 Aug 2024 08:03:06 +0900\",\\n\\t\"total\":11,\\n\\t\"start\":1,\\n\\t\"display\":10,\\n\\t\"items\":[\\n\\t\\t{\\n\\t\\t\\t\"title\":\"[포스코x코딩온] 포스코와 함께하는 웹 개발자 부트캠프 9기... \",\\n\\t\\t\\t\"link\":\"https:\\\\/\\\\/blog.naver.com\\\\/spreatics2\\\\/223341764368\",\\n\\t\\t\\t\"description\":\"com\\\\/<b>spreatics2<\\\\/b>\\\\/223338312218 이 게시글을 참고해 주세요  웹 9기의 수료식도 크게 1. 롤링 페이퍼 및 소감 발표 2. 수료증 수여 및 단체 사진 촬영 순서로 진행되었는데요 웹 9기분들도 정말 귀엽게... \",\\n\\t\\t\\t\"bloggername\":\"코딩온 공식블로그\",\\n\\t\\t\\t\"bloggerlink\":\"blog.naver.com\\\\/spreatics2\",\\n\\t\\t\\t\"postdate\":\"20240202\"\\n\\t\\t},\\n\\t\\t{\\n\\t\\t\\t\"title\":\"[코딩온] 전 직원 해외 워크샵 2탄(아이슬란드편) \\\\/ 폭설에 조난... \",\\n\\t\\t\\t\"link\":\"https:\\\\/\\\\/blog.naver.com\\\\/spreatics2\\\\/223358536115\",\\n\\t\\t\\t\"description\":\"12기(~2\\\\/19)가 수료 후 전원 일본 IT Show 여행을 보내주는 것을 알고계셨나요?? 혹시 흥미가 있으시다면... com\\\\/<b>spreatics2<\\\\/b>\\\\/223355784114 셋째날에는 시내를 구경하기로 하였는데요! 아이슬란드 수도인 레이캬비크로... \",\\n\\t\\t\\t\"bloggername\":\"코딩온 공식블로그\",\\n\\t\\t\\t\"bloggerlink\":\"blog.naver.com\\\\/spreatics2\",\\n\\t\\t\\t\"postdate\":\"20240219\"\\n\\t\\t},\\n\\t\\t{\\n\\t\\t\\t\"title\":\"[포스코x코딩온] 포스코와 함께하는 웹 개발자 부트캠프 8기... \",\\n\\t\\t\\t\"link\":\"https:\\\\/\\\\/blog.naver.com\\\\/spreatics2\\\\/223338312218\",\\n\\t\\t\\t\"description\":\"롤링 페이퍼 및 소감 발표 2. 수료증 수여 및 단체 사진 촬영 순서로 진행되었습니다!! 다들... https:\\\\/\\\\/blog.naver.com\\\\/<b>spreatics2<\\\\/b>\\\\/223305465858 열심히 수료식을 진행해 주시는 CREW리더님.. 그리고 수료식... \",\\n\\t\\t\\t\"bloggername\":\"코딩온 공식블로그\",\\n\\t\\t\\t\"bloggerlink\":\"blog.naver.com\\\\/spreatics2\",\\n\\t\\t\\t\"postdate\":\"20240130\"\\n\\t\\t},\\n\\t\\t{\\n\\t\\t\\t\"title\":\"[코딩온] 전 직원 해외 워크샵 1탄(아이슬란드편) \\\\/ 디지털... \",\\n\\t\\t\\t\"link\":\"https:\\\\/\\\\/blog.naver.com\\\\/spreatics2\\\\/223355784114\",\\n\\t\\t\\t\"description\":\"12기(~2\\\\/19)가 수료 후 전원 일본 IT Show 여행을 보내주는 것을 알고계셨나요?? 혹시 흥미가 있으시다면... - 아이슬란드 2편 - https:\\\\/\\\\/blog.naver.com\\\\/<b>spreatics2<\\\\/b>\\\\/223358536115 한국에서 아이슬란드까지는 직항이 없어 다들... \",\\n\\t\\t\\t\"bloggername\":\"코딩온 공식블로그\",\\n\\t\\t\\t\"bloggerlink\":\"blog.naver.com\\\\/spreatics2\",\\n\\t\\t\\t\"postdate\":\"20240216\"\\n\\t\\t},\\n\\t\\t{\\n\\t\\t\\t\"title\":\"[코딩온 후기] 다들 비추천하는 개발자 국비교육을 두 번이나?... \",\\n\\t\\t\\t\"link\":\"https:\\\\/\\\\/blog.naver.com\\\\/spreatics2\\\\/223296303897\",\\n\\t\\t\\t\"description\":\"새싹 수료식 살펴보기 https:\\\\/\\\\/blog.naver.com\\\\/<b>spreatics2<\\\\/b>\\\\/223318243444 ☁️ 웹 개발자 후기 살펴보기 https:\\\\/\\\\/blog.naver.com\\\\/<b>spreatics2<\\\\/b>\\\\/223325481188 코딩온 크루들의 다양한 후기 둘러보기 ♀️개발자 취업을 향한 도전!... \",\\n\\t\\t\\t\"bloggername\":\"코딩온 공식블로그\",\\n\\t\\t\\t\"bloggerlink\":\"blog.naver.com\\\\/spreatics2\",\\n\\t\\t\\t\"postdate\":\"20231218\"\\n\\t\\t},\\n\\t\\t{\\n\\t\\t\\t\"title\":\"[포스코x코딩온-스마트팩토리 개발자 2기] 교육장 탐방\",\\n\\t\\t\\t\"link\":\"https:\\\\/\\\\/blog.naver.com\\\\/spreatics2\\\\/223108847566\",\\n\\t\\t\\t\"description\":\"포스코DX에 최종 합격한 스마트팩토리 1기 박지원 CREW의 인터뷰 글을 마지막으로 포스팅 마무리 할게요 https:\\\\/\\\\/blog.naver.com\\\\/<b>spreatics2<\\\\/b>\\\\/223100456056 ▲ 박지원 CREW의 포스코DX 취업 성공 인터뷰 보러가기 ▲\",\\n\\t\\t\\t\"bloggername\":\"코딩온 공식블로그\",\\n\\t\\t\\t\"bloggerlink\":\"blog.naver.com\\\\/spreatics2\",\\n\\t\\t\\t\"postdate\":\"20230522\"\\n\\t\\t},\\n\\t\\t{\\n\\t\\t\\t\"title\":\"[코딩온 홈페이지 만들기 #5] html 제목\",\\n\\t\\t\\t\"link\":\"https:\\\\/\\\\/blog.naver.com\\\\/spreatics2\\\\/222346500859\",\\n\\t\\t\\t\"description\":\"홈페이지 만들기 4탄에서 알아보았던 서식을 이용해 다양하게 꾸며 예쁜 홈페이지로 만들어보세요~ https:\\\\/\\\\/blog.naver.com\\\\/<b>spreatics2<\\\\/b>\\\\/222345112416 오늘 정보도 유익하셨나요? #코딩온 #온라인 강의를 수강하시면... \",\\n\\t\\t\\t\"bloggername\":\"코딩온 공식블로그\",\\n\\t\\t\\t\"bloggerlink\":\"blog.naver.com\\\\/spreatics2\",\\n\\t\\t\\t\"postdate\":\"20210511\"\\n\\t\\t},\\n\\t\\t{\\n\\t\\t\\t\"title\":\"서울특별시 전액국비지원 서울형 청년인턴 직무캠프 웹(Web)개발\",\\n\\t\\t\\t\"link\":\"https:\\\\/\\\\/blog.naver.com\\\\/youni7505\\\\/222315145596\",\\n\\t\\t\\t\"description\":\"맞춤형 실무 교육, 인성 교육 - 프로젝트를 통한 실무 역량 강화 ○ 활동혜택 - 국비지원 무료교육, 인턴십 기회 ○ 접수방법 - 홈페이지 접수 ○ 문의 - (주)스프레틱스 : 02-6953-2751 \\\\/ ****@*********.***\",\\n\\t\\t\\t\"bloggername\":\"평범한 세상 살기\",\\n\\t\\t\\t\"bloggerlink\":\"blog.naver.com\\\\/youni7505\",\\n\\t\\t\\t\"postdate\":\"20210419\"\\n\\t\\t},\\n\\t\\t{\\n\\t\\t\\t\"title\":\"[K-Digital Training] POSCO x CODINGOn 웹개발자 양성... \",\\n\\t\\t\\t\"link\":\"https:\\\\/\\\\/blog.naver.com\\\\/youthzone_db\\\\/222725925308\",\\n\\t\\t\\t\"description\":\"컨설팅 ▷지원하는 방법 - 온라인 신청 1) 코딩온 홈페이지 : https:\\\\/\\\\/codingon.co.kr\\\\/pr\\\\/kdt\\\\/miniintern <b>2<\\\\/b>) 구글폼 신청서 작성 : https:\\\\/\\\\/bit.ly\\\\/3rY1FKe ▷ 문의처 - 전화 : ***-****-**** - 메일 : ****@*********.***\",\\n\\t\\t\\t\"bloggername\":\"무중력지대 대방동\",\\n\\t\\t\\t\"bloggerlink\":\"blog.naver.com\\\\/youthzone_db\",\\n\\t\\t\\t\"postdate\":\"20220509\"\\n\\t\\t},\\n\\t\\t{\\n\\t\\t\\t\"title\":\"[K-Digital Training] POSCO x CODINGOn 웹개발자 양성... \",\\n\\t\\t\\t\"link\":\"https:\\\\/\\\\/blog.naver.com\\\\/yongsanyouthspace\\\\/222725963429\",\\n\\t\\t\\t\"description\":\"컨설팅 ▷지원하는 방법 - 온라인 신청 1) 코딩온 홈페이지 : https:\\\\/\\\\/codingon.co.kr\\\\/pr\\\\/kdt\\\\/miniintern <b>2<\\\\/b>) 구글폼 신청서 작성 : https:\\\\/\\\\/bit.ly\\\\/3rY1FKe ▷ 문의처 - 전화 : ***-****-**** - 메일 : ****@*********.***\",\\n\\t\\t\\t\"bloggername\":\"용산 청년지음\",\\n\\t\\t\\t\"bloggerlink\":\"blog.naver.com\\\\/yongsanyouthspace\",\\n\\t\\t\\t\"postdate\":\"20220509\"\\n\\t\\t}\\n\\t]\\n}'"
      ]
     },
     "execution_count": 6,
     "metadata": {},
     "output_type": "execute_result"
    }
   ],
   "source": [
    "import urllib.request\n",
    "\n",
    "# 네이버API 서비스(ID/비번) 등록\n",
    "client_id = \"r6qI_94FASAJ5Tc7gDGO\"\n",
    "client_secret = \"QhS9B_wRvI\"\n",
    "\n",
    "encText = urllib.request.quote(\"spreatics2\")\n",
    "# print(encText)\n",
    "url = \"https://openapi.naver.com/v1/search/blog.json?query=\" + encText\n",
    "# print(url)\n",
    "\n",
    "# 요청\n",
    "request = urllib.request.Request(url)  #url주소를 요청(호출)\n",
    "request.add_header(\"X-Naver-Client-Id\", client_id) #header로 id/비번 보내줌\n",
    "request.add_header(\"X-Naver-Client-Secret\", client_secret)\n",
    "\n",
    "# 응답\n",
    "response = urllib.request.urlopen(request)   #requests.get(url) 유사함\n",
    "print(response.getcode())  # 상태 코드 가져옴 200, 404\n",
    "print(type(response))\n",
    "response.read().decode('utf-8')"
   ]
  },
  {
   "cell_type": "markdown",
   "id": "90a580a1",
   "metadata": {},
   "source": [
    "### 도서 검색\n",
    "### https://openapi.naver.com/v1/search/book.json"
   ]
  },
  {
   "cell_type": "code",
   "execution_count": 2,
   "id": "421fb535",
   "metadata": {},
   "outputs": [
    {
     "data": {
      "text/plain": [
       "'https://openapi.naver.com/v1/search/book.json?query=test&start=1&display=5'"
      ]
     },
     "execution_count": 2,
     "metadata": {},
     "output_type": "execute_result"
    }
   ],
   "source": [
    "import urllib.request\n",
    "\n",
    "def create_url(api_node, search_text, start_num, disp_num):\n",
    "    base = \"https://openapi.naver.com/v1/search\"\n",
    "    node = \"/\" + api_node + \".json\"\n",
    "    param_query = \"?query=\" + urllib.parse.quote(search_text)\n",
    "    param_start = \"&start=\" + str(start_num)\n",
    "    param_disp = \"&display=\" + str(disp_num)\n",
    "    \n",
    "    return base + node + param_query + param_start + param_disp\n",
    "\n",
    "create_url('book', 'test', 1, 5)"
   ]
  },
  {
   "cell_type": "code",
   "execution_count": 3,
   "id": "f865ddab",
   "metadata": {},
   "outputs": [
    {
     "name": "stdout",
     "output_type": "stream",
     "text": [
      "{'lastBuildDate': 'Fri, 23 Aug 2024 07:31:52 +0900', 'total': 1028, 'start': 1, 'display': 5, 'items': [{'title': '엑셀X파이썬 (엑셀이 파이썬을 품었다)', 'link': 'https://search.shopping.naver.com/book/catalog/49255941621', 'image': 'https://shopping-phinf.pstatic.net/main_4925594/49255941621.20240720092116.jpg', 'author': '정성일', 'discount': '22500', 'publisher': '길벗', 'pubdate': '20240730', 'isbn': '9791140710195', 'description': '엑셀이 파이썬을 품었다\\n\\nMS 365 엑셀에 파이썬을 통합하는 강력한 기능이 업데이트되었다. 이제 엑셀의 셀에 ‘=PY’ 함수를 입력하면 파이썬 코드를 직접 실행할 수 있다. 별도의 라이브러리 설치 없이 복잡한 차트 생성과 데이터 분석을 엑셀에서 손쉽게 수행할 수 있다. 이 책은 엑셀에서 파이썬을 사용하는 기본적인 방법부터 다양한 파이썬 라이브러리를 활용하여 주식 시세 분석, 알고리즘 구현 등 주요 데이터 분석 및 시각화 라이브러리를 제대로 활용하는 방법을 소개한다. 엑셀과 파이썬의 조합으로 빅데이터 시대에 걸맞는 데이터 분석 경쟁력을 한층 더 강화할 수 있을 것이다.\\n\\n엑셀에서 파이썬을!\\n파이썬 코드를 엑셀 함수처럼!\\n\\n엑셀이 파이썬을 품었다. MS 365 엑셀의 업데이트로 엑셀 시트에서 직접 데이터를 선택하여 셀에 파이썬 코드를 입력하면 결과를 바로 확인할 수 있습니다. 이제 엑셀에서 파이썬을 엑셀 함수처럼 사용해 보세요. 라이브러리를 추가로 설치하거나 충돌을 걱정할 필요도 없습니다. 엑셀 파이썬을 활용하면 주식 시세 데이터를 이동 평균선 등으로 시각화하거나 데이터 분석 알고리즘을 사용해 가상 매매 프로그램을 만들어 수익률을 검증하고 투자 전략을 보완할 수 있습니다. 의사결정나무, 이상 탐지 등 검증된 파이썬 라이브러리로 알고리즘을 간단하게 구현할 수 있습니다.'}, {'title': '파이썬 시계열 예측 분석 (통계 모델, 딥러닝, 파이썬 라이브러리를 활용한 대규모 시계열 데이터 분석)', 'link': 'https://search.shopping.naver.com/book/catalog/49076204619', 'image': 'https://shopping-phinf.pstatic.net/main_4907620/49076204619.20240712093712.jpg', 'author': 'Peixeiro, Marco', 'discount': '34200', 'publisher': '제이펍', 'pubdate': '20240715', 'isbn': '9791193926314', 'description': '현장 실무 예제로 배우는 시계열 분석과 응용\\n\\n데이터 과학에서 시간에 따른 변화 패턴을 분석하여 다양한 예측 모델을 구축하면, 미래 예측은 물론 다양한 의사결정에 도움이 된다. 이 책에서는 파이썬 코드로 완벽하게 작동하는 시계열 예측 방법을 소개한다. 시계열 데이터를 정의하고, 베이스라인 모델을 개발하고, 통계적 모델과 텐서플로 및 최신 딥러닝 도구를 사용하여 대규모 모델 구축 방법을 학습하고, 자동화된 예측 라이브러리까지 다룬다. 구글 주가 동향, 항당뇨제 처방량 예측, 가정의 전력 소비량 예측 등 다양한 실무 사례로 시계열 예측 분석을 마스터하자.'}, {'title': '혼자 공부하는 파이썬 (1:1 과외하듯 배우는 프로그래밍 자습서)', 'link': 'https://search.shopping.naver.com/book/catalog/32507605957', 'image': 'https://shopping-phinf.pstatic.net/main_3250760/32507605957.20230509170119.jpg', 'author': '윤인성', 'discount': '19800', 'publisher': '한빛미디어', 'pubdate': '20220601', 'isbn': '9791162245651', 'description': '혼자 해도 충분하다! 1:1 과외하듯 배우는 파이썬 프로그래밍 자습서\\n\\n『혼자 공부하는 파이썬』이 더욱 흥미있고 알찬 내용으로 개정되었습니다. 프로그래밍이 정말 처음인 입문자도 따라갈 수 있는 친절한 설명과 단계별 학습은 그대로! 혼자 공부하더라도 체계적으로 계획을 세워 학습할 수 있도록 ‘혼공 계획표’를 새롭게 추가했습니다. 또한 입문자가 자주 물어보는 질문과 오류 해결 방법을 적재적소에 배치하여 예상치 못한 문제에 부딪혀도 좌절하지 않고 끝까지 완독할 수 있도록 도와줍니다. 단순한 문법 암기와 코딩 따라하기에 지쳤다면, 새로운 혼공파와 함께 ‘누적 예제’와 ‘도전 문제’로 프로그래밍의 신세계를 경험해 보세요! 배운 내용을 씹고 뜯고 맛보고 즐기다 보면 응용력은 물론 알고리즘 사고력까지 키워 코딩 실력이 쑥쑥 성장할 것입니다.\\n\\n이 책은 독학으로 파이썬을 배우는 입문자가 ‘꼭 필요한 내용을 제대로 학습’할 수 있도록 구성했습니다. 뭘 모르는지조차 모르는 입문자의 막연한 마음에 십분 공감하여 과외 선생님이 알려주듯 친절하게, 핵심적인 내용만 콕콕 집어줍니다. 책의 첫 페이지를 펼쳐서 마지막 페이지를 덮을 때까지, 혼자서도 충분히 파이썬을 배울 수 있다는 자신감과 확신이 계속될 것입니다!\\n\\n베타리더와 함께 입문자에게 맞는 난이도, 분량, 학습 요소 등을 적극 반영했습니다. 어려운 용어와 개념은 한 번 더 풀어쓰고, 복잡한 설명은 눈에 잘 들어오는 그림으로 풀어냈습니다. ‘혼자 공부해 본’ 여러 입문자의 초심과 눈높이가 책 곳곳에 반영된 것이 이 책의 가장 큰 장점입니다.'}, {'title': 'Do it! 점프 투 파이썬 (중학생도 첫날부터 실습하는 초고속 입문서)', 'link': 'https://search.shopping.naver.com/book/catalog/40354085633', 'image': 'https://shopping-phinf.pstatic.net/main_4035408/40354085633.20230927071024.jpg', 'author': '박응용', 'discount': '19800', 'publisher': '이지스퍼블리싱', 'pubdate': '20230615', 'isbn': '9791163034735', 'description': '프로그래밍 분야 8년 연속 베스트셀러!\\n《Do it! 점프 투 파이썬》 전면 개정 2판 출시!\\n\\n중고등학생도, 비전공자도, 직장인도 프로그래밍에 눈뜨게 만든 바로 그 책이 전면 개정 2판으로 새롭게 태어났다! 챗GPT를 시작으로 펼쳐진 생성 AI 시대에 맞춰 설명과 예제를 다듬고, 최신 경향과 심화 내용을 보충했다. 또한 이번 개정 2판도 50만 코딩 유튜버인 조코딩과 협업을 통해 유튜브 동영상을 제공해 파이썬을 더 쉽게 공부할 수 있다.\\n\\n8년 연속 베스트셀러! 위키독스 누적 방문 300만! 독자의 입에서 입으로 전해진 추천과 수많은 대학 및 학원의 교재 채택을 통해 검증은 이미 끝났다. 코딩을 처음 배우는 중고등학생부터 코딩 소양을 기르려는 비전공자, 자기계발에 진심인 직장인까지! 이 책과 함께 파이썬 프로그래밍의 세계로 ‘점프’해 보자!'}, {'title': '파이썬 + AI (코드조각과 실행화면으로 배우는 코딩)', 'link': 'https://search.shopping.naver.com/book/catalog/48703888619', 'image': 'https://shopping-phinf.pstatic.net/main_4870388/48703888619.20240627091044.jpg', 'author': '안용제^김남규', 'discount': '25200', 'publisher': '디지털북스', 'pubdate': '20240715', 'isbn': '9788960884571', 'description': '“코드조각과 실행화면을 통해, 단계적 반복을 통해 배우는 파이썬과 AI”\\n\\n이 책은 프로그래밍 언어에 익숙한 프로그래머가 아닌 프로그램 입문자들을 대상으로 프로그래밍에 대해 아무런 지식이 없다고 가정하고 프로그램 코딩을 가르치기 위해 작성되었습니다. 이 책을 통해 코딩 개요, Python 기초, numpy, matplotlib, pandas 그리고 머신러닝/딥러닝 퀵스타트 등 Python의 전반을 한 권으로 학습할 수 있습니다.\\n또한 코드조각이라고 부르는 프로그램 코딩에 대한 예제를 설명을 위한 주축으로 사용합니다. 그래서 코드조각을 먼저 이해하려고 노력한 후 코드조각을 실행하여 얻게 되는 실행화면을 통해, 코딩의 결과를 바로바로 확인할 수 있도록 하였습니다. 코드조각을 컴퓨터에 입력하여 실행시켜 보면서 프로그램의 수행 결과를 자세히 관찰하고, 프로그램 코드를 한 줄씩 따라가면서 변수와 객체 등 컴퓨터 저장 공간의 변화를 함께 따라가 보면 어느새 파이썬과 AI 코딩을 능숙하게 활용할 수 있을 것입니다.'}]}\n"
     ]
    }
   ],
   "source": [
    "import urllib.request\n",
    "import json\n",
    "\n",
    "def create_url(api_node, search_text, start_num, disp_num):\n",
    "    base = \"https://openapi.naver.com/v1/search\"\n",
    "    node = \"/\" + api_node + \".json\"\n",
    "    param_query = \"?query=\" + urllib.parse.quote(search_text)\n",
    "    param_start = \"&start=\" + str(start_num)\n",
    "    param_disp = \"&display=\" + str(disp_num)\n",
    "    \n",
    "    return base + node + param_query + param_start + param_disp\n",
    "\n",
    "# create_url('book', 'test', 1, 5)\n",
    "# 네이버API 서비스(ID/비번) 등록\n",
    "client_id = \"r6qI_94FASAJ5Tc7gDGO\"\n",
    "client_secret = \"QhS9B_wRvI\"\n",
    "\n",
    "url = create_url('book', '파이썬', 1, 5)\n",
    "\n",
    "# 요청\n",
    "request = urllib.request.Request(url)  #url주소를 요청(호출)\n",
    "request.add_header(\"X-Naver-Client-Id\", client_id) #header로 id/비번 보내줌\n",
    "request.add_header(\"X-Naver-Client-Secret\", client_secret)\n",
    "\n",
    "# 응답\n",
    "response = urllib.request.urlopen(request)   #requests.get(url) 유사함\n",
    "result = json.loads(response.read().decode('utf-8'))\n",
    "print(result)"
   ]
  },
  {
   "cell_type": "code",
   "execution_count": 6,
   "id": "f7b84e29",
   "metadata": {},
   "outputs": [
    {
     "data": {
      "text/plain": [
       "[{'title': '엑셀X파이썬 (엑셀이 파이썬을 품었다)',\n",
       "  'link': 'https://search.shopping.naver.com/book/catalog/49255941621',\n",
       "  'image': 'https://shopping-phinf.pstatic.net/main_4925594/49255941621.20240720092116.jpg',\n",
       "  'author': '정성일',\n",
       "  'discount': '22500',\n",
       "  'publisher': '길벗',\n",
       "  'pubdate': '20240730',\n",
       "  'isbn': '9791140710195',\n",
       "  'description': '엑셀이 파이썬을 품었다\\n\\nMS 365 엑셀에 파이썬을 통합하는 강력한 기능이 업데이트되었다. 이제 엑셀의 셀에 ‘=PY’ 함수를 입력하면 파이썬 코드를 직접 실행할 수 있다. 별도의 라이브러리 설치 없이 복잡한 차트 생성과 데이터 분석을 엑셀에서 손쉽게 수행할 수 있다. 이 책은 엑셀에서 파이썬을 사용하는 기본적인 방법부터 다양한 파이썬 라이브러리를 활용하여 주식 시세 분석, 알고리즘 구현 등 주요 데이터 분석 및 시각화 라이브러리를 제대로 활용하는 방법을 소개한다. 엑셀과 파이썬의 조합으로 빅데이터 시대에 걸맞는 데이터 분석 경쟁력을 한층 더 강화할 수 있을 것이다.\\n\\n엑셀에서 파이썬을!\\n파이썬 코드를 엑셀 함수처럼!\\n\\n엑셀이 파이썬을 품었다. MS 365 엑셀의 업데이트로 엑셀 시트에서 직접 데이터를 선택하여 셀에 파이썬 코드를 입력하면 결과를 바로 확인할 수 있습니다. 이제 엑셀에서 파이썬을 엑셀 함수처럼 사용해 보세요. 라이브러리를 추가로 설치하거나 충돌을 걱정할 필요도 없습니다. 엑셀 파이썬을 활용하면 주식 시세 데이터를 이동 평균선 등으로 시각화하거나 데이터 분석 알고리즘을 사용해 가상 매매 프로그램을 만들어 수익률을 검증하고 투자 전략을 보완할 수 있습니다. 의사결정나무, 이상 탐지 등 검증된 파이썬 라이브러리로 알고리즘을 간단하게 구현할 수 있습니다.'},\n",
       " {'title': '파이썬 코딩의 기술 51 (똑똑하게 코딩하는 법)',\n",
       "  'link': 'https://search.shopping.naver.com/book/catalog/49070379624',\n",
       "  'image': 'https://shopping-phinf.pstatic.net/main_4907037/49070379624.20240712093721.jpg',\n",
       "  'author': 'David Mertz',\n",
       "  'discount': '29700',\n",
       "  'publisher': '길벗',\n",
       "  'pubdate': '20240715',\n",
       "  'isbn': '9791140714056',\n",
       "  'description': '파이썬 설계 철학까지 이해하는 파이썬 코딩의 기술 실전편 51!\\n지금보다 더 나은 프로그래머가 되고 싶은, 모든 파이썬 개발자를 위한, 파이썬 전문가 가이드!\\n\\n파이썬 코딩에는 파이썬 다운 기술이 필요하다! 저자는 25년간 열정적으로 파이썬을 사랑하고 사용해오면서 자신의 코드 및 실제 현업 코드에서 파이썬 개발자들이 쉽게 빠지는 잘못, 함정, 오류들을 발견해 왔다. 이 책은 그 중 51가지를 선별해 관련된 개념끼리 묶어서 총 9개 장으로 소개한다. 각 장과 절의 내용은 서로 독립적으로 구성하여 그때그때 필요한 부분만 참고할 수 있게 했다. 또한, 실제 프로젝트 상황 및 간결하고 명확한 예제를 제시해 문제와 솔루션을 깊이 이해하고, 문제에 대해 올바르게 사고하는 방법을 설명하려고 노력했다. 문제와 솔루션을 이해하는 과정에서 파이썬의 설계 철학과 파이썬이 추구하는 가치를 다시 한번 상기하고, 파이썬의 잠재력을 끌어올리는 프로그래밍 기법을 배우고, 궁극적으로 파이썬 코드의 질을 한 단계 향상시킬 수 있을 것이다.'},\n",
       " {'title': '파이썬 시계열 예측 분석 (통계 모델, 딥러닝, 파이썬 라이브러리를 활용한 대규모 시계열 데이터 분석)',\n",
       "  'link': 'https://search.shopping.naver.com/book/catalog/49076204619',\n",
       "  'image': 'https://shopping-phinf.pstatic.net/main_4907620/49076204619.20240712093712.jpg',\n",
       "  'author': 'Peixeiro, Marco',\n",
       "  'discount': '34200',\n",
       "  'publisher': '제이펍',\n",
       "  'pubdate': '20240715',\n",
       "  'isbn': '9791193926314',\n",
       "  'description': '현장 실무 예제로 배우는 시계열 분석과 응용\\n\\n데이터 과학에서 시간에 따른 변화 패턴을 분석하여 다양한 예측 모델을 구축하면, 미래 예측은 물론 다양한 의사결정에 도움이 된다. 이 책에서는 파이썬 코드로 완벽하게 작동하는 시계열 예측 방법을 소개한다. 시계열 데이터를 정의하고, 베이스라인 모델을 개발하고, 통계적 모델과 텐서플로 및 최신 딥러닝 도구를 사용하여 대규모 모델 구축 방법을 학습하고, 자동화된 예측 라이브러리까지 다룬다. 구글 주가 동향, 항당뇨제 처방량 예측, 가정의 전력 소비량 예측 등 다양한 실무 사례로 시계열 예측 분석을 마스터하자.'},\n",
       " {'title': '오렌지3 with 파이썬 (머신러닝으로 쉽게 따라 하는 데이터 과학 프로젝트)',\n",
       "  'link': 'https://search.shopping.naver.com/book/catalog/48754112627',\n",
       "  'image': 'https://shopping-phinf.pstatic.net/main_4875411/48754112627.20240629092242.jpg',\n",
       "  'author': '김현철^김종혜^박종화^임진숙',\n",
       "  'discount': '27000',\n",
       "  'publisher': '생능북스',\n",
       "  'pubdate': '20240715',\n",
       "  'isbn': '9791192932651',\n",
       "  'description': '9가지의 다양한 프로젝트 실습을 통해\\n상황에 따라 미래의 변화를 예측할 수 있는 방법 소개\\n\\n이 책은 데이터 과학 및 기계학습의 다양한 적용 분야를 다루며, 특히 오렌지3와 파이썬을 활용하여 문제를 해결하는 프로젝트 활동들로 구성되어 있습니다. 각 챕터에서는 실제 데이터에 기반한 프로젝트를 통해 이론을 실제로 구현하고, 머신러닝의 개념과 응용 방법을 익힐 수 있게 구성되었습니다.\\n\\n또한 각 실습은 특정 데이터 세트와 문제에 초점을 맞추지만, 배운 기법들은 다른 유사한 문제에도 적용이 가능합니다. 따라서 각 챕터를 마친 후, 배운 내용을 다른 문제에 적용해 보는 것이 좋습니다.'},\n",
       " {'title': '파이썬으로 구현하는 로보어드바이저 (포트폴리오 최적화에서 마켓타이밍, 팩터 투자, 딥러닝까지)',\n",
       "  'link': 'https://search.shopping.naver.com/book/catalog/49240407782',\n",
       "  'image': 'https://shopping-phinf.pstatic.net/main_4924040/49240407782.20240720071116.jpg',\n",
       "  'author': '윤성진^리준^이유리^조민기^허재웅',\n",
       "  'discount': '32400',\n",
       "  'publisher': '에이콘출판',\n",
       "  'pubdate': '20240731',\n",
       "  'isbn': '9791161758275',\n",
       "  'description': '로보어드바이저 시스템의 핵심 엔진을 개발했던 금융 AI 연구원들이 직접 쓴 책으로, 로보어드바이저를 구성하는 주요 포트폴리오 전략을 파이썬 코드와 함께 설명하고 있다. 특히, 포트폴리오 최적화 전략부터 시작해서 마켓타이밍 전략, 팩터 투자 전략, 시장 모니터링, 딥러닝 예측까지 광범위하게 다루고 있고 독자들이 쉽게 이해하면서 프로그램을 직접 실행해 볼 수 있도록 친절히 안내하고 있다.'}]"
      ]
     },
     "execution_count": 6,
     "metadata": {},
     "output_type": "execute_result"
    }
   ],
   "source": [
    "result['items']"
   ]
  },
  {
   "cell_type": "code",
   "execution_count": 8,
   "id": "2da00bc6",
   "metadata": {},
   "outputs": [
    {
     "data": {
      "text/plain": [
       "['20240730', '20240715', '20240715', '20240715', '20240731']"
      ]
     },
     "execution_count": 8,
     "metadata": {},
     "output_type": "execute_result"
    }
   ],
   "source": [
    "#print(\"제목 :\", result['items'][0]['title'])\n",
    "#print(\"저자 :\", result['items'][0]['author'])\n",
    "# titles 생성\n",
    "# for i in range(3):\n",
    "#     print(result['items'][i]['title'])\n",
    "\n",
    "# 리스트 내포\n",
    "titles = [ result['items'][i]['title'] for i in range(5) ]\n",
    "titles\n",
    "authors = [ result['items'][i]['author'] for i in range(5) ]\n",
    "authors\n",
    "pubdates = [result['items'][i]['pubdate'] for i in range(5)]\n",
    "pubdates"
   ]
  },
  {
   "cell_type": "code",
   "execution_count": 9,
   "id": "4b96328c",
   "metadata": {},
   "outputs": [
    {
     "data": {
      "text/html": [
       "<div>\n",
       "<style scoped>\n",
       "    .dataframe tbody tr th:only-of-type {\n",
       "        vertical-align: middle;\n",
       "    }\n",
       "\n",
       "    .dataframe tbody tr th {\n",
       "        vertical-align: top;\n",
       "    }\n",
       "\n",
       "    .dataframe thead th {\n",
       "        text-align: right;\n",
       "    }\n",
       "</style>\n",
       "<table border=\"1\" class=\"dataframe\">\n",
       "  <thead>\n",
       "    <tr style=\"text-align: right;\">\n",
       "      <th></th>\n",
       "      <th>책제목</th>\n",
       "      <th>작가</th>\n",
       "      <th>출판일</th>\n",
       "    </tr>\n",
       "  </thead>\n",
       "  <tbody>\n",
       "    <tr>\n",
       "      <th>0</th>\n",
       "      <td>엑셀X파이썬 (엑셀이 파이썬을 품었다)</td>\n",
       "      <td>정성일</td>\n",
       "      <td>20240730</td>\n",
       "    </tr>\n",
       "    <tr>\n",
       "      <th>1</th>\n",
       "      <td>파이썬 코딩의 기술 51 (똑똑하게 코딩하는 법)</td>\n",
       "      <td>David Mertz</td>\n",
       "      <td>20240715</td>\n",
       "    </tr>\n",
       "    <tr>\n",
       "      <th>2</th>\n",
       "      <td>파이썬 시계열 예측 분석 (통계 모델, 딥러닝, 파이썬 라이브러리를 활용한 대규모 ...</td>\n",
       "      <td>Peixeiro, Marco</td>\n",
       "      <td>20240715</td>\n",
       "    </tr>\n",
       "    <tr>\n",
       "      <th>3</th>\n",
       "      <td>오렌지3 with 파이썬 (머신러닝으로 쉽게 따라 하는 데이터 과학 프로젝트)</td>\n",
       "      <td>김현철^김종혜^박종화^임진숙</td>\n",
       "      <td>20240715</td>\n",
       "    </tr>\n",
       "    <tr>\n",
       "      <th>4</th>\n",
       "      <td>파이썬으로 구현하는 로보어드바이저 (포트폴리오 최적화에서 마켓타이밍, 팩터 투자, ...</td>\n",
       "      <td>윤성진^리준^이유리^조민기^허재웅</td>\n",
       "      <td>20240731</td>\n",
       "    </tr>\n",
       "  </tbody>\n",
       "</table>\n",
       "</div>"
      ],
      "text/plain": [
       "                                                 책제목                  작가  \\\n",
       "0                              엑셀X파이썬 (엑셀이 파이썬을 품었다)                 정성일   \n",
       "1                        파이썬 코딩의 기술 51 (똑똑하게 코딩하는 법)         David Mertz   \n",
       "2  파이썬 시계열 예측 분석 (통계 모델, 딥러닝, 파이썬 라이브러리를 활용한 대규모 ...     Peixeiro, Marco   \n",
       "3        오렌지3 with 파이썬 (머신러닝으로 쉽게 따라 하는 데이터 과학 프로젝트)     김현철^김종혜^박종화^임진숙   \n",
       "4  파이썬으로 구현하는 로보어드바이저 (포트폴리오 최적화에서 마켓타이밍, 팩터 투자, ...  윤성진^리준^이유리^조민기^허재웅   \n",
       "\n",
       "        출판일  \n",
       "0  20240730  \n",
       "1  20240715  \n",
       "2  20240715  \n",
       "3  20240715  \n",
       "4  20240731  "
      ]
     },
     "execution_count": 9,
     "metadata": {},
     "output_type": "execute_result"
    }
   ],
   "source": [
    "import pandas as pd\n",
    "\n",
    "파이썬도서 = pd.DataFrame({\n",
    "    '책제목': titles,\n",
    "    '작가': authors,\n",
    "    '출판일': pubdates\n",
    "})\n",
    "파이썬도서"
   ]
  },
  {
   "cell_type": "code",
   "execution_count": 1,
   "id": "870e62c2",
   "metadata": {},
   "outputs": [],
   "source": [
    "import urllib.request\n",
    "import json\n",
    "import pandas as pd\n",
    "\n",
    "def create_url(api_node, search_text, start_num, disp_num):\n",
    "    base = \"https://openapi.naver.com/v1/search\"\n",
    "    node = \"/\" + api_node + \".json\"\n",
    "    param_query = \"?query=\" + urllib.parse.quote(search_text)\n",
    "    param_start = \"&start=\" + str(start_num)\n",
    "    param_disp = \"&display=\" + str(disp_num)\n",
    "    \n",
    "    return base + node + param_query + param_start + param_disp\n",
    "\n",
    "# create_url('book', 'test', 1, 5)\n",
    "# 네이버API 서비스(ID/비번) 등록\n",
    "client_id = \"r6qI_94FASAJ5Tc7gDGO\"\n",
    "client_secret = \"QhS9B_wRvI\"\n",
    "\n",
    "url = create_url('book', '파이썬', 1, 10)\n",
    "\n",
    "# 요청\n",
    "request = urllib.request.Request(url)  #url주소를 요청(호출)\n",
    "request.add_header(\"X-Naver-Client-Id\", client_id) #header로 id/비번 보내줌\n",
    "request.add_header(\"X-Naver-Client-Secret\", client_secret)\n",
    "\n",
    "# 응답\n",
    "response = urllib.request.urlopen(request)   #requests.get(url) 유사함\n",
    "result = json.loads(response.read().decode('utf-8'))\n",
    "# print(result)\n",
    "\n",
    "# 리스트 내포\n",
    "titles = [ result['items'][i]['title'] for i in range(10) ]\n",
    "titles\n",
    "authors = [ result['items'][i]['author'] for i in range(10) ]\n",
    "authors\n",
    "pubdates = [result['items'][i]['pubdate'] for i in range(10)]\n",
    "pubdates\n",
    "\n",
    "# 도서 데이터 프레임(테이블) 생성\n",
    "파이썬도서 = pd.DataFrame({\n",
    "    '책제목': titles,\n",
    "    '작가': authors,\n",
    "    '출판일': pubdates\n",
    "})\n",
    "# 파이썬도서\n",
    "\n",
    "파이썬도서 = 파이썬도서.set_index('책제목')\n",
    "파이썬도서\n",
    "\n",
    "# csv 파일 만들기\n",
    "파이썬도서.to_csv(\"./datas/파이썬도서3.csv\", encoding='utf-8-sig')"
   ]
  },
  {
   "cell_type": "code",
   "execution_count": null,
   "id": "bb70ec36",
   "metadata": {},
   "outputs": [],
   "source": []
  }
 ],
 "metadata": {
  "kernelspec": {
   "display_name": "Python 3 (ipykernel)",
   "language": "python",
   "name": "python3"
  },
  "language_info": {
   "codemirror_mode": {
    "name": "ipython",
    "version": 3
   },
   "file_extension": ".py",
   "mimetype": "text/x-python",
   "name": "python",
   "nbconvert_exporter": "python",
   "pygments_lexer": "ipython3",
   "version": "3.12.4"
  }
 },
 "nbformat": 4,
 "nbformat_minor": 5
}
